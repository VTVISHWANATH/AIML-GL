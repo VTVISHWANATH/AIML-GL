{
 "cells": [
  {
   "cell_type": "markdown",
   "metadata": {},
   "source": [
    "- Introduction to Python\n",
    "    - Arithmetic in Python\n",
    "    - Variables in Python\n",
    "    - Intro to Python Objects\n",
    "        - Overview of Lists\n",
    "          - List creation\n",
    "          - List Indexing and Slicing \n",
    "          - List built-in methods(some examples)\n",
    "          - List comprehension\n",
    "         - Overview of Tuples\n",
    "           - Tuple Creation\n",
    "           - Tuple Built-in methods(some examples)\n",
    "        - Overview of Dictionary\n",
    "          - Dictionary Creation\n",
    "          - Dictionary Indexing\n",
    "          - Dictionary Built-in Methods(some examples)\n",
    "        \n",
    "        - Overview of Strings\n",
    "          - String creation\n",
    "          - String Built-in methods (some examples)\n",
    "       "
   ]
  },
  {
   "cell_type": "markdown",
   "metadata": {},
   "source": [
    "- Introduction to Control Statements in Python\n",
    "    - Overview of If-elif-Else\n",
    "    - some examples\n",
    "    \n",
    "- Introduction to Loops in Python\n",
    "    - Overview \"For Loop\"\n",
    "       - \n",
    "    - Overview \"While\"\n",
    " \n",
    " - Introduction to Functions\n",
    "     -  Difference between Built-in Functions and User Defined Functions\n",
    "        Steps to Function Definition and Call\n",
    "        Function call without arguments\n",
    "        Function call with arguments\n",
    "        Function with Return Statements\n",
    "        Passing Default Arguments in Functions\n",
    "        Passing Arguments Dynamically in Functions using *args"
   ]
  },
  {
   "cell_type": "markdown",
   "metadata": {},
   "source": [
    "- Numpy Overview\n",
    "  - creation of Numpy Arrays\n",
    "  - Creating a uni dimensional/ 2 -D Matrix\n",
    "  - Shape manipulation using Numpy RESHAPE function\n",
    "  - Indexing in Numpy\n",
    "  - Broadcasting in Numpy\n",
    "  - Basic Numpy Operations"
   ]
  },
  {
   "cell_type": "markdown",
   "metadata": {},
   "source": [
    ". Pandas Overview\n",
    "      - Create Pandas Data Frames\n",
    "      - Reading files in Pandas\n",
    "      - Data Exploration through Pandas \n",
    "         - Some examples of univariate and Bi variate analysis\n",
    "         - Data Summarization techniques\n",
    "      - Data Manipulation via Pandas\n",
    "         - Renaming\n",
    "         - Sorting\n",
    "         - Filtering using conditions\n",
    "         - row and column retreival of data\n",
    "         - Group By function \n",
    "      - Treating missing values in pandas\n"
   ]
  },
  {
   "cell_type": "markdown",
   "metadata": {},
   "source": [
    "# Visualization Overview\n",
    "   - Analysis using Seaborn and Matplotlib\n",
    "   - Different Plots\n",
    "       - Count\n",
    "       - Bar\n",
    "       - Dist\n",
    "       - lmplot\n",
    "       - Jointplot\n",
    "       - Heatmaps\n",
    "       - Pairplots "
   ]
  }
 ],
 "metadata": {
  "kernelspec": {
   "display_name": "Python 3",
   "language": "python",
   "name": "python3"
  },
  "language_info": {
   "codemirror_mode": {
    "name": "ipython",
    "version": 3
   },
   "file_extension": ".py",
   "mimetype": "text/x-python",
   "name": "python",
   "nbconvert_exporter": "python",
   "pygments_lexer": "ipython3",
   "version": "3.7.1"
  }
 },
 "nbformat": 4,
 "nbformat_minor": 4
}
