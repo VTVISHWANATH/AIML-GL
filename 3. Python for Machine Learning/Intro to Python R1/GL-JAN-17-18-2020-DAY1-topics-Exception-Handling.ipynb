{
 "cells": [
  {
   "cell_type": "markdown",
   "metadata": {},
   "source": [
    "\n",
    "\n",
    "### Errors and Exception Handling in Python\n",
    "try and except\n",
    "\n",
    "The basic terminology and syntax used to handle errors in Python are the try and except statements. The code which can cause an exception to occur is put in the try block and the handling of the exception is then implemented in the except block of code. The syntax follows:\n",
    "\n",
    "try:\n",
    "   You do your operations here...\n",
    "   ...\n",
    "except ExceptionI:\n",
    "   If there is ExceptionI, then execute this block.\n",
    "   \n",
    "except ExceptionII:\n",
    "   If there is ExceptionII, then execute this block.\n",
    "   ...\n",
    "else:\n",
    "   If there is no exception then execute this block. \n",
    "\n",
    "Finally:\n",
    "\n",
    "We can also just check for any exception with just using except: To get a better understanding of all this let's check out an example: We will look at some code that opens and writes a file:\n",
    "\n",
    "\n",
    "built in exceptions in python \n",
    "https://docs.python.org/3/library/exceptions.html\n"
   ]
  },
  {
   "cell_type": "markdown",
   "metadata": {},
   "source": [
    "### USE OF FINALLY -- AN EXAMPLE \n",
    "Cleaning Up After Using finally\n",
    "\n",
    "Imagine that WE always had to implement some sort of action to clean up after executing your code.\n",
    "Python enables us to do so using the finally clause.\n",
    "\n",
    "try :  RUN SOME CODE\n",
    "except : run the code when there is an exception\n",
    "else :  run this code when three are no exceptions\n",
    "always run this code\n",
    "\n",
    "\n"
   ]
  },
  {
   "cell_type": "markdown",
   "metadata": {},
   "source": [
    "#### TRY EXCEPT AND FINALLY BLOCKS"
   ]
  },
  {
   "cell_type": "code",
   "execution_count": 1,
   "metadata": {},
   "outputs": [],
   "source": [
    "### let us define a function to add 2 numbers\n",
    "def add(n1,n2):\n",
    "    return (n1+n2)"
   ]
  },
  {
   "cell_type": "code",
   "execution_count": 2,
   "metadata": {},
   "outputs": [
    {
     "data": {
      "text/plain": [
       "30"
      ]
     },
     "execution_count": 2,
     "metadata": {},
     "output_type": "execute_result"
    }
   ],
   "source": [
    "### call the function\n",
    "add(10,20)"
   ]
  },
  {
   "cell_type": "code",
   "execution_count": 3,
   "metadata": {},
   "outputs": [
    {
     "ename": "TypeError",
     "evalue": "unsupported operand type(s) for +: 'int' and 'str'",
     "output_type": "error",
     "traceback": [
      "\u001b[1;31m---------------------------------------------------------------------------\u001b[0m",
      "\u001b[1;31mTypeError\u001b[0m                                 Traceback (most recent call last)",
      "\u001b[1;32m<ipython-input-3-39ee2907fcb4>\u001b[0m in \u001b[0;36m<module>\u001b[1;34m\u001b[0m\n\u001b[0;32m      1\u001b[0m \u001b[1;31m### let us say if we pass the below as values to n1 and n2\u001b[0m\u001b[1;33m\u001b[0m\u001b[1;33m\u001b[0m\u001b[1;33m\u001b[0m\u001b[0m\n\u001b[1;32m----> 2\u001b[1;33m \u001b[0madd\u001b[0m\u001b[1;33m(\u001b[0m\u001b[1;36m10\u001b[0m\u001b[1;33m,\u001b[0m\u001b[1;34m'20'\u001b[0m\u001b[1;33m)\u001b[0m\u001b[1;33m\u001b[0m\u001b[1;33m\u001b[0m\u001b[0m\n\u001b[0m\u001b[0;32m      3\u001b[0m \u001b[0mprint\u001b[0m\u001b[1;33m(\u001b[0m\u001b[1;34m\"an error happened\"\u001b[0m\u001b[1;33m)\u001b[0m\u001b[1;33m\u001b[0m\u001b[1;33m\u001b[0m\u001b[0m\n\u001b[0;32m      4\u001b[0m \u001b[1;33m\u001b[0m\u001b[0m\n\u001b[0;32m      5\u001b[0m \u001b[1;31m## The above gives a TypeError - saying a number and string cannot be added\u001b[0m\u001b[1;33m\u001b[0m\u001b[1;33m\u001b[0m\u001b[1;33m\u001b[0m\u001b[0m\n",
      "\u001b[1;32m<ipython-input-1-a4aa8b23c082>\u001b[0m in \u001b[0;36madd\u001b[1;34m(n1, n2)\u001b[0m\n\u001b[0;32m      1\u001b[0m \u001b[1;31m### let us define a function to add 2 numbers\u001b[0m\u001b[1;33m\u001b[0m\u001b[1;33m\u001b[0m\u001b[1;33m\u001b[0m\u001b[0m\n\u001b[0;32m      2\u001b[0m \u001b[1;32mdef\u001b[0m \u001b[0madd\u001b[0m\u001b[1;33m(\u001b[0m\u001b[0mn1\u001b[0m\u001b[1;33m,\u001b[0m\u001b[0mn2\u001b[0m\u001b[1;33m)\u001b[0m\u001b[1;33m:\u001b[0m\u001b[1;33m\u001b[0m\u001b[1;33m\u001b[0m\u001b[0m\n\u001b[1;32m----> 3\u001b[1;33m     \u001b[1;32mreturn\u001b[0m \u001b[1;33m(\u001b[0m\u001b[0mn1\u001b[0m\u001b[1;33m+\u001b[0m\u001b[0mn2\u001b[0m\u001b[1;33m)\u001b[0m\u001b[1;33m\u001b[0m\u001b[1;33m\u001b[0m\u001b[0m\n\u001b[0m",
      "\u001b[1;31mTypeError\u001b[0m: unsupported operand type(s) for +: 'int' and 'str'"
     ]
    }
   ],
   "source": [
    "### let us say if we pass the below as values to n1 and n2\n",
    "add(10,'20')\n",
    "print(\"an error happened\")\n",
    "\n",
    "## The above gives a TypeError - saying a number and string cannot be added\n",
    "### note the print statement with \"an error happened\" never got executed"
   ]
  },
  {
   "cell_type": "code",
   "execution_count": 4,
   "metadata": {},
   "outputs": [
    {
     "name": "stdout",
     "output_type": "stream",
     "text": [
      "add went well\n",
      "gosh,i am being printed always\n"
     ]
    }
   ],
   "source": [
    "try:\n",
    "    add(10,10)\n",
    "except:\n",
    "    print('you have passed a string for an argument which should have had an integer')\n",
    "else:\n",
    "    print(\"add went well\")\n",
    "finally:\n",
    "    print('gosh,i am being printed always')"
   ]
  },
  {
   "cell_type": "code",
   "execution_count": 5,
   "metadata": {},
   "outputs": [
    {
     "name": "stdout",
     "output_type": "stream",
     "text": [
      "you have passed a string for an argument which should have had an integer\n",
      "i am being printed irrespective of an error\n"
     ]
    }
   ],
   "source": [
    "try:\n",
    "    add(10,'10')   ### passing a string as an argument\n",
    "except:\n",
    "    print('you have passed a string for an argument which should have had an integer')\n",
    "else:\n",
    "    print(\"add went well\")\n",
    "finally:\n",
    "    print('i am being printed irrespective of an error')"
   ]
  },
  {
   "cell_type": "code",
   "execution_count": 15,
   "metadata": {},
   "outputs": [],
   "source": [
    "### Note Finally block is executed, when you want a block of code to be executed irrespective of an error"
   ]
  },
  {
   "cell_type": "code",
   "execution_count": null,
   "metadata": {},
   "outputs": [],
   "source": []
  },
  {
   "cell_type": "code",
   "execution_count": 8,
   "metadata": {},
   "outputs": [
    {
     "name": "stdout",
     "output_type": "stream",
     "text": [
      "print me always\n"
     ]
    }
   ],
   "source": [
    "try:\n",
    "    f = open('testfile','w')         ### open the file in in write mode - allows us to put data into file\n",
    "    f.write('Test write this')\n",
    "except TypeError:\n",
    "    # This will only check for an IOError exception and then execute this print statement\n",
    "    print(\"Error: Could not find file or read data\")\n",
    "except OSError:\n",
    "    print(' this is an OS error')\n",
    "except:\n",
    "    print('write failed because of file issue')\n",
    "finally:\n",
    "    print('print me always')\n",
    "\n",
    "### no issues with the code so, finally block gets called"
   ]
  },
  {
   "cell_type": "code",
   "execution_count": 11,
   "metadata": {},
   "outputs": [],
   "source": [
    "f = open('testfile','r')         ### open the file in in read mode - allows us to put data into file\n"
   ]
  },
  {
   "cell_type": "code",
   "execution_count": 12,
   "metadata": {},
   "outputs": [
    {
     "ename": "UnsupportedOperation",
     "evalue": "not writable",
     "output_type": "error",
     "traceback": [
      "\u001b[1;31m---------------------------------------------------------------------------\u001b[0m",
      "\u001b[1;31mUnsupportedOperation\u001b[0m                      Traceback (most recent call last)",
      "\u001b[1;32m<ipython-input-12-e984b0d9821c>\u001b[0m in \u001b[0;36m<module>\u001b[1;34m\u001b[0m\n\u001b[1;32m----> 1\u001b[1;33m \u001b[0mf\u001b[0m\u001b[1;33m.\u001b[0m\u001b[0mwrite\u001b[0m\u001b[1;33m(\u001b[0m\u001b[1;34m'Test write this'\u001b[0m\u001b[1;33m)\u001b[0m\u001b[1;33m\u001b[0m\u001b[1;33m\u001b[0m\u001b[0m\n\u001b[0m",
      "\u001b[1;31mUnsupportedOperation\u001b[0m: not writable"
     ]
    }
   ],
   "source": [
    "f.write('Test write this') "
   ]
  },
  {
   "cell_type": "markdown",
   "metadata": {},
   "source": [
    "##now let us induce an error"
   ]
  },
  {
   "cell_type": "code",
   "execution_count": 14,
   "metadata": {},
   "outputs": [
    {
     "name": "stdout",
     "output_type": "stream",
     "text": [
      " this is an OS error\n",
      "print me always\n"
     ]
    }
   ],
   "source": [
    "try:\n",
    "    f = open('testfile','r')         ### open the file in in read mode - allows us to put data into file\n",
    "    f.write('Test write this')       ### write into file opened in read mode                   \n",
    "except TypeError:\n",
    "    # This will only check for an IOError exception and then execute this print statement\n",
    "    print(\"Error: Could not find file or read data\")\n",
    "except OSError:\n",
    "    print(' this is an OS error')\n",
    "except IOError:\n",
    "    print('this is an IO error')\n",
    "except UnsupportedOperation:\n",
    "    print('u are trying to write into a file that was opened in read only mode')\n",
    "except: \n",
    "    print('Any other exceptions')\n",
    "finally:\n",
    "    print('print me always')\n",
    "\n",
    "### OS Error is captured and not TypeError"
   ]
  },
  {
   "cell_type": "code",
   "execution_count": 16,
   "metadata": {},
   "outputs": [
    {
     "name": "stdout",
     "output_type": "stream",
     "text": [
      "Any other exceptions\n",
      "print me always\n"
     ]
    }
   ],
   "source": [
    "try:\n",
    "    f = open('testfile','r')         ### open the file in in read mode - allows us to put data into file\n",
    "    f.write('Test write this')       ### write into file opened in read mode                   \n",
    "except TypeError:\n",
    "    print('type error')\n",
    "except: \n",
    "    print('Any other exceptions')\n",
    "finally:\n",
    "    print('print me always')\n",
    "\n",
    "### OS Error is captured and not TypeError"
   ]
  },
  {
   "cell_type": "code",
   "execution_count": 20,
   "metadata": {},
   "outputs": [],
   "source": [
    "### Capturing System Errors"
   ]
  },
  {
   "cell_type": "code",
   "execution_count": 17,
   "metadata": {},
   "outputs": [
    {
     "ename": "TypeError",
     "evalue": "can't multiply sequence by non-int of type 'float'",
     "output_type": "error",
     "traceback": [
      "\u001b[1;31m---------------------------------------------------------------------------\u001b[0m",
      "\u001b[1;31mTypeError\u001b[0m                                 Traceback (most recent call last)",
      "\u001b[1;32m<ipython-input-17-6f1a4f9d1b80>\u001b[0m in \u001b[0;36m<module>\u001b[1;34m\u001b[0m\n\u001b[0;32m      1\u001b[0m \u001b[0mlist1\u001b[0m \u001b[1;33m=\u001b[0m \u001b[1;33m[\u001b[0m\u001b[1;36m1\u001b[0m\u001b[1;33m,\u001b[0m\u001b[1;36m2\u001b[0m\u001b[1;33m,\u001b[0m\u001b[1;36m3\u001b[0m\u001b[1;33m]\u001b[0m\u001b[1;33m\u001b[0m\u001b[1;33m\u001b[0m\u001b[0m\n\u001b[1;32m----> 2\u001b[1;33m \u001b[0mmylist2\u001b[0m \u001b[1;33m=\u001b[0m \u001b[0mlist1\u001b[0m \u001b[1;33m*\u001b[0m \u001b[1;36m20.5\u001b[0m\u001b[1;33m\u001b[0m\u001b[1;33m\u001b[0m\u001b[0m\n\u001b[0m\u001b[0;32m      3\u001b[0m \u001b[1;33m\u001b[0m\u001b[0m\n\u001b[0;32m      4\u001b[0m \u001b[1;31m### the above gives a type error because \"list\"(represented in green color) cannot be multiplied by a float type\u001b[0m\u001b[1;33m\u001b[0m\u001b[1;33m\u001b[0m\u001b[1;33m\u001b[0m\u001b[0m\n",
      "\u001b[1;31mTypeError\u001b[0m: can't multiply sequence by non-int of type 'float'"
     ]
    }
   ],
   "source": [
    "list1 = [1,2,3]\n",
    "mylist2 = list1 * 20.5\n",
    "\n",
    "### the above gives a type error because \"list\"(represented in green color) cannot be multiplied by a float type"
   ]
  },
  {
   "cell_type": "code",
   "execution_count": 22,
   "metadata": {},
   "outputs": [
    {
     "name": "stdout",
     "output_type": "stream",
     "text": [
      "float cannot be multiplied with list\n",
      "print me always\n"
     ]
    }
   ],
   "source": [
    "try:\n",
    "    list1 = [1,2,3]      \n",
    "    mylist2 = list * 20.5\n",
    "\n",
    "### to capture this TypeError\n",
    "except OSError:\n",
    "    print('system errors')\n",
    "except TypeError:\n",
    "        print(\"float cannot be multiplied with list\")\n",
    "except: \n",
    "    print('Any other exceptions')\n",
    "finally:\n",
    "    print('print me always')"
   ]
  },
  {
   "cell_type": "code",
   "execution_count": 27,
   "metadata": {},
   "outputs": [
    {
     "ename": "SyntaxError",
     "evalue": "invalid syntax (<ipython-input-27-3ae11a712916>, line 2)",
     "output_type": "error",
     "traceback": [
      "\u001b[1;36m  File \u001b[1;32m\"<ipython-input-27-3ae11a712916>\"\u001b[1;36m, line \u001b[1;32m2\u001b[0m\n\u001b[1;33m    mylist2 = list)\u001b[0m\n\u001b[1;37m                  ^\u001b[0m\n\u001b[1;31mSyntaxError\u001b[0m\u001b[1;31m:\u001b[0m invalid syntax\n"
     ]
    }
   ],
   "source": [
    "list1 = [1,2,3]\n",
    "mylist2 = list)"
   ]
  },
  {
   "cell_type": "code",
   "execution_count": 26,
   "metadata": {},
   "outputs": [
    {
     "ename": "SyntaxError",
     "evalue": "invalid syntax (<ipython-input-26-75c00fdea8f0>, line 4)",
     "output_type": "error",
     "traceback": [
      "\u001b[1;36m  File \u001b[1;32m\"<ipython-input-26-75c00fdea8f0>\"\u001b[1;36m, line \u001b[1;32m4\u001b[0m\n\u001b[1;33m    mylist2 = list)\u001b[0m\n\u001b[1;37m                  ^\u001b[0m\n\u001b[1;31mSyntaxError\u001b[0m\u001b[1;31m:\u001b[0m invalid syntax\n"
     ]
    }
   ],
   "source": [
    "### to capture SyntaxError\n",
    "try:\n",
    "    list1 = [1,2,3]      \n",
    "    mylist2 = list)\n",
    "\n",
    "### to capture this TypeError\n",
    "except TypeError:\n",
    "    print(\"TypeError: Unsupported Operand\")\n",
    "except SyntaxError:\n",
    "    print(\"SyntaxError: is invalid\")\n",
    "except OSError:\n",
    "    print(' this is an OS error')\n",
    "except IOError:\n",
    "    print('this is an IO error')\n",
    "except: \n",
    "    print('Any other exceptions')\n",
    "finally:\n",
    "    print('print me always')\n",
    "    \n",
    "### "
   ]
  },
  {
   "cell_type": "markdown",
   "metadata": {},
   "source": [
    "### tryst with SyntaxErrors\n",
    "the interpreter parses the entire file before executing any of it, so it detects the syntax error before the try statement is executed. \n",
    "\n",
    "we can only catch SyntaxError if it's thrown out of an eval, exec, or import operation.\n",
    "\n"
   ]
  },
  {
   "cell_type": "code",
   "execution_count": 28,
   "metadata": {},
   "outputs": [
    {
     "name": "stdout",
     "output_type": "stream",
     "text": [
      "You cannot do that\n"
     ]
    }
   ],
   "source": [
    "try:\n",
    "    eval('x === x')\n",
    "except SyntaxError:\n",
    "    print (\"You cannot do that\")\n",
    "\n",
    " "
   ]
  },
  {
   "cell_type": "markdown",
   "metadata": {},
   "source": [
    "---"
   ]
  },
  {
   "cell_type": "markdown",
   "metadata": {},
   "source": [
    "#Raising an Exception\n",
    "\n",
    "We can use raise to throw an exception if a condition occurs. \n",
    "he statement can be complemented with a custom exception.If we want to throw an error when a certain condition occurs using raise\n",
    "\n",
    "\"raise\"  can be used to force an exception"
   ]
  },
  {
   "cell_type": "code",
   "execution_count": 29,
   "metadata": {},
   "outputs": [
    {
     "ename": "Exception",
     "evalue": "('x should not exceed 5. The value of x was', 10)",
     "output_type": "error",
     "traceback": [
      "\u001b[1;31m---------------------------------------------------------------------------\u001b[0m",
      "\u001b[1;31mException\u001b[0m                                 Traceback (most recent call last)",
      "\u001b[1;32m<ipython-input-29-fae3ffa3dc4c>\u001b[0m in \u001b[0;36m<module>\u001b[1;34m\u001b[0m\n\u001b[0;32m      1\u001b[0m \u001b[0mx\u001b[0m \u001b[1;33m=\u001b[0m \u001b[1;36m10\u001b[0m\u001b[1;33m\u001b[0m\u001b[1;33m\u001b[0m\u001b[0m\n\u001b[0;32m      2\u001b[0m \u001b[1;32mif\u001b[0m \u001b[0mx\u001b[0m \u001b[1;33m>\u001b[0m \u001b[1;36m5\u001b[0m\u001b[1;33m:\u001b[0m\u001b[1;33m\u001b[0m\u001b[1;33m\u001b[0m\u001b[0m\n\u001b[1;32m----> 3\u001b[1;33m     \u001b[1;32mraise\u001b[0m \u001b[0mException\u001b[0m\u001b[1;33m(\u001b[0m\u001b[1;34m'x should not exceed 5. The value of x was'\u001b[0m\u001b[1;33m,\u001b[0m\u001b[0mx\u001b[0m\u001b[1;33m)\u001b[0m\u001b[1;33m\u001b[0m\u001b[1;33m\u001b[0m\u001b[0m\n\u001b[0m\u001b[0;32m      4\u001b[0m \u001b[1;33m\u001b[0m\u001b[0m\n\u001b[0;32m      5\u001b[0m \u001b[1;33m\u001b[0m\u001b[0m\n",
      "\u001b[1;31mException\u001b[0m: ('x should not exceed 5. The value of x was', 10)"
     ]
    }
   ],
   "source": [
    "x = 10\n",
    "if x > 5:\n",
    "    raise Exception('x should not exceed 5. The value of x was',x)  \n",
    "    \n",
    "\n",
    "### x should not exceed 5. The value of x was: {}'.format(x))  \n"
   ]
  },
  {
   "cell_type": "code",
   "execution_count": null,
   "metadata": {},
   "outputs": [],
   "source": [
    " "
   ]
  },
  {
   "cell_type": "markdown",
   "metadata": {},
   "source": [
    "---"
   ]
  },
  {
   "cell_type": "markdown",
   "metadata": {},
   "source": [
    "##### System Errors Examples"
   ]
  },
  {
   "cell_type": "code",
   "execution_count": 3,
   "metadata": {},
   "outputs": [
    {
     "ename": "SyntaxError",
     "evalue": "invalid syntax (<ipython-input-3-d504f8b56be2>, line 2)",
     "output_type": "error",
     "traceback": [
      "\u001b[1;36m  File \u001b[1;32m\"<ipython-input-3-d504f8b56be2>\"\u001b[1;36m, line \u001b[1;32m2\u001b[0m\n\u001b[1;33m    if x == 3\u001b[0m\n\u001b[1;37m             ^\u001b[0m\n\u001b[1;31mSyntaxError\u001b[0m\u001b[1;31m:\u001b[0m invalid syntax\n"
     ]
    }
   ],
   "source": [
    "x = 10\n",
    "if x == 3\n",
    "print('hello')\n",
    "\n",
    "### error because if statement misses the \":\""
   ]
  },
  {
   "cell_type": "code",
   "execution_count": 6,
   "metadata": {},
   "outputs": [
    {
     "ename": "ZeroDivisionError",
     "evalue": "division by zero",
     "output_type": "error",
     "traceback": [
      "\u001b[1;31m---------------------------------------------------------------------------\u001b[0m",
      "\u001b[1;31mZeroDivisionError\u001b[0m                         Traceback (most recent call last)",
      "\u001b[1;32m<ipython-input-6-c24bdc5e0417>\u001b[0m in \u001b[0;36m<module>\u001b[1;34m()\u001b[0m\n\u001b[0;32m      1\u001b[0m \u001b[0mx\u001b[0m \u001b[1;33m=\u001b[0m \u001b[1;36m10\u001b[0m\u001b[1;33m\u001b[0m\u001b[0m\n\u001b[0;32m      2\u001b[0m \u001b[0my\u001b[0m \u001b[1;33m=\u001b[0m \u001b[1;36m0\u001b[0m\u001b[1;33m\u001b[0m\u001b[0m\n\u001b[1;32m----> 3\u001b[1;33m \u001b[0mx\u001b[0m\u001b[1;33m/\u001b[0m\u001b[0my\u001b[0m\u001b[1;33m\u001b[0m\u001b[0m\n\u001b[0m\u001b[0;32m      4\u001b[0m \u001b[0mprint\u001b[0m\u001b[1;33m(\u001b[0m\u001b[0mx\u001b[0m\u001b[1;33m)\u001b[0m\u001b[1;33m\u001b[0m\u001b[0m\n",
      "\u001b[1;31mZeroDivisionError\u001b[0m: division by zero"
     ]
    }
   ],
   "source": [
    "x = 10\n",
    "y = 0\n",
    "x/y        ### program is interrupted at this line. next line will not be executed\n",
    "print(x)"
   ]
  },
  {
   "cell_type": "markdown",
   "metadata": {},
   "source": [
    "###### Handle System errors and Interpret them in a custom manner"
   ]
  },
  {
   "cell_type": "code",
   "execution_count": 9,
   "metadata": {},
   "outputs": [
    {
     "name": "stdout",
     "output_type": "stream",
     "text": [
      "cannot divide a number by zero\n",
      "10\n",
      "0\n",
      "go to the next executable statement\n"
     ]
    }
   ],
   "source": [
    "x = 10\n",
    "y = 0\n",
    "\n",
    "try:\n",
    "    z=x/y\n",
    "except ZeroDivisionError:\n",
    "    print('cannot divide a number by zero')\n",
    "    print(x)\n",
    "    print(y)\n",
    "finally:\n",
    "    print(\"go to the next executable statement\")"
   ]
  },
  {
   "cell_type": "code",
   "execution_count": 10,
   "metadata": {},
   "outputs": [
    {
     "ename": "TypeError",
     "evalue": "unsupported operand type(s) for /: 'int' and 'str'",
     "output_type": "error",
     "traceback": [
      "\u001b[1;31m---------------------------------------------------------------------------\u001b[0m",
      "\u001b[1;31mTypeError\u001b[0m                                 Traceback (most recent call last)",
      "\u001b[1;32m<ipython-input-10-e3cf2b3af90e>\u001b[0m in \u001b[0;36m<module>\u001b[1;34m()\u001b[0m\n\u001b[0;32m      1\u001b[0m \u001b[0mx\u001b[0m \u001b[1;33m=\u001b[0m \u001b[1;36m10\u001b[0m\u001b[1;33m\u001b[0m\u001b[0m\n\u001b[0;32m      2\u001b[0m \u001b[0my\u001b[0m \u001b[1;33m=\u001b[0m \u001b[1;34m'a'\u001b[0m\u001b[1;33m\u001b[0m\u001b[0m\n\u001b[1;32m----> 3\u001b[1;33m \u001b[0mz\u001b[0m\u001b[1;33m=\u001b[0m\u001b[0mx\u001b[0m\u001b[1;33m/\u001b[0m\u001b[0my\u001b[0m\u001b[1;33m\u001b[0m\u001b[0m\n\u001b[0m",
      "\u001b[1;31mTypeError\u001b[0m: unsupported operand type(s) for /: 'int' and 'str'"
     ]
    }
   ],
   "source": [
    "x = 10\n",
    "y = 'a'\n",
    "z=x/y"
   ]
  },
  {
   "cell_type": "code",
   "execution_count": 13,
   "metadata": {},
   "outputs": [
    {
     "name": "stdout",
     "output_type": "stream",
     "text": [
      "some other error\n",
      "go to the next executable statement\n"
     ]
    }
   ],
   "source": [
    "x = 10\n",
    "y = 'a'\n",
    "\n",
    "try:\n",
    "    z=x/y\n",
    "except ZeroDivisionError:\n",
    "    print('cannot divide a number by zero')\n",
    "    print(x)\n",
    "    print(y)\n",
    "except:\n",
    "    print(\"some other error\")\n",
    "finally:\n",
    "    print(\"go to the next executable statement\")"
   ]
  },
  {
   "cell_type": "code",
   "execution_count": 1,
   "metadata": {},
   "outputs": [
    {
     "name": "stdout",
     "output_type": "stream",
     "text": [
      "proper arithmetic operation\n",
      "go to the next executable statement\n"
     ]
    }
   ],
   "source": [
    "#### except with an else\n",
    "x = 10\n",
    "y = 2\n",
    "\n",
    "try:\n",
    "    z=x/y\n",
    "except ZeroDivisionError:\n",
    "    print('cannot divide a number by zero')\n",
    "    print(x)\n",
    "    print(y)\n",
    "except:\n",
    "    print(\"some other error\")\n",
    "else:\n",
    "    print('proper arithmetic operation')\n",
    "finally:\n",
    "    print(\"go to the next executable statement\")"
   ]
  },
  {
   "cell_type": "markdown",
   "metadata": {},
   "source": [
    "### USER DEFINED ERRORS"
   ]
  },
  {
   "cell_type": "code",
   "execution_count": 2,
   "metadata": {},
   "outputs": [
    {
     "name": "stdout",
     "output_type": "stream",
     "text": [
      "An error occurred!\n"
     ]
    }
   ],
   "source": [
    "try:\n",
    "    for i in ['a','b','c']:\n",
    "        print(i**2)\n",
    "except:\n",
    "    print(\"An error occurred!\")"
   ]
  },
  {
   "cell_type": "code",
   "execution_count": null,
   "metadata": {},
   "outputs": [],
   "source": []
  },
  {
   "cell_type": "code",
   "execution_count": null,
   "metadata": {},
   "outputs": [],
   "source": []
  },
  {
   "cell_type": "markdown",
   "metadata": {},
   "source": [
    "---"
   ]
  },
  {
   "cell_type": "code",
   "execution_count": 23,
   "metadata": {},
   "outputs": [],
   "source": [
    "### function gets a number from the console(user) dynamically and squares the number\n",
    "\n",
    "def getandsquare():\n",
    "    while True:\n",
    "        try:\n",
    "            num = int(input('input an integer: '))\n",
    "        except:\n",
    "            print('error occurred!!! please input again')\n",
    "            continue           ### takes us to the closest enclosing loop (while)\n",
    "        else:                   ### else gets executed only when there is no exception\n",
    "            break\n",
    "        finally:\n",
    "            print('function executed')\n",
    "    print('number is squared ', num**2)\n",
    "    "
   ]
  },
  {
   "cell_type": "code",
   "execution_count": 29,
   "metadata": {},
   "outputs": [
    {
     "name": "stdout",
     "output_type": "stream",
     "text": [
      "input an integer: 100\n",
      "function executed\n",
      "number is squared  10000\n"
     ]
    }
   ],
   "source": [
    "### call the function\n",
    "getandsquare()"
   ]
  },
  {
   "cell_type": "code",
   "execution_count": null,
   "metadata": {},
   "outputs": [],
   "source": []
  },
  {
   "cell_type": "code",
   "execution_count": 35,
   "metadata": {},
   "outputs": [
    {
     "name": "stdout",
     "output_type": "stream",
     "text": [
      "file write is successful\n"
     ]
    }
   ],
   "source": [
    "### \n",
    "try:\n",
    "    test_file = open(file='testfile',mode='w')\n",
    "    test_file.write('line1: written')\n",
    "except IOError:          #\" this checks only for IO Error Exception while writing to the file\"\n",
    "    print(\"error: write is not successful\")\n",
    "except:\n",
    "    print(\"other file errors\")\n",
    "else:\n",
    "    print(\"file write is successful\")\n",
    "    test_file.close()\n",
    "    \n",
    "        "
   ]
  },
  {
   "cell_type": "code",
   "execution_count": 37,
   "metadata": {},
   "outputs": [
    {
     "name": "stdout",
     "output_type": "stream",
     "text": [
      "other file errors\n"
     ]
    }
   ],
   "source": [
    "### \n",
    "try:\n",
    "    test_file = open(file='testfile',mode='w')\n",
    "    test_file.read('testfile','r')\n",
    "except IOError:          #\" this checks only for IO Error Exception while writing to the file\"\n",
    "    print(\"error: write is not successful\")\n",
    "except:\n",
    "    print(\"other file errors\")\n",
    "else:\n",
    "    print(\"file write is successful\")\n",
    "    test_file.close()\n",
    "    "
   ]
  },
  {
   "cell_type": "code",
   "execution_count": null,
   "metadata": {},
   "outputs": [],
   "source": []
  },
  {
   "cell_type": "markdown",
   "metadata": {},
   "source": [
    "###### Example Problem ## \n",
    "Write a function that asks for an integer and prints the square of it. \n",
    "Use a while  loop with a  try ,   except  >else  block to account for incorrect inputs."
   ]
  },
  {
   "cell_type": "code",
   "execution_count": 3,
   "metadata": {},
   "outputs": [],
   "source": [
    "def ask():\n",
    "    \n",
    "    while True:\n",
    "        try:\n",
    "            n = int(input('Input an integer: '))\n",
    "        except:\n",
    "            print('An error occurred! Please try again!')\n",
    "            continue\n",
    "        else:\n",
    "            break\n",
    "            \n",
    "        \n",
    "    print('Thank you, your number squared is: ',n**2)"
   ]
  },
  {
   "cell_type": "code",
   "execution_count": 5,
   "metadata": {},
   "outputs": [
    {
     "name": "stdout",
     "output_type": "stream",
     "text": [
      "Input an integer: iii\n",
      "An error occurred! Please try again!\n",
      "Input an integer: 199\n",
      "Thank you, your number squared is:  39601\n"
     ]
    }
   ],
   "source": [
    "ask()"
   ]
  },
  {
   "cell_type": "code",
   "execution_count": null,
   "metadata": {},
   "outputs": [],
   "source": []
  },
  {
   "cell_type": "markdown",
   "metadata": {},
   "source": []
  }
 ],
 "metadata": {
  "kernelspec": {
   "display_name": "Python 3",
   "language": "python",
   "name": "python3"
  },
  "language_info": {
   "codemirror_mode": {
    "name": "ipython",
    "version": 3
   },
   "file_extension": ".py",
   "mimetype": "text/x-python",
   "name": "python",
   "nbconvert_exporter": "python",
   "pygments_lexer": "ipython3",
   "version": "3.7.3"
  }
 },
 "nbformat": 4,
 "nbformat_minor": 2
}
