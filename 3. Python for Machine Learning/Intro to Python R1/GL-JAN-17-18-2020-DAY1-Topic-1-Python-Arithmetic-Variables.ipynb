{
 "cells": [
  {
   "cell_type": "markdown",
   "metadata": {},
   "source": [
    "--- "
   ]
  },
  {
   "cell_type": "markdown",
   "metadata": {},
   "source": [
    "#### Comments in Python"
   ]
  },
  {
   "cell_type": "code",
   "execution_count": null,
   "metadata": {},
   "outputs": [],
   "source": []
  },
  {
   "cell_type": "code",
   "execution_count": 1,
   "metadata": {},
   "outputs": [],
   "source": [
    "# this is a comment\n",
    "### this is also a comment"
   ]
  },
  {
   "cell_type": "code",
   "execution_count": 3,
   "metadata": {},
   "outputs": [
    {
     "name": "stdout",
     "output_type": "stream",
     "text": [
      "asdasda\n",
      "azadsda\n",
      "asdadasa\n"
     ]
    }
   ],
   "source": [
    "print('''asdasda\n",
    "azadsda\n",
    "asdadasa''')"
   ]
  },
  {
   "cell_type": "code",
   "execution_count": 4,
   "metadata": {},
   "outputs": [
    {
     "data": {
      "text/plain": [
       "'asds\\npython\\n'"
      ]
     },
     "execution_count": 4,
     "metadata": {},
     "output_type": "execute_result"
    }
   ],
   "source": [
    "'''asds\n",
    "python\n",
    "'''"
   ]
  },
  {
   "cell_type": "code",
   "execution_count": 6,
   "metadata": {},
   "outputs": [
    {
     "name": "stdout",
     "output_type": "stream",
     "text": [
      "python is prog lang\n",
      "jupyter is ide\n"
     ]
    }
   ],
   "source": [
    "print('python is prog lang')\n",
    "print('jupyter is ide')"
   ]
  },
  {
   "cell_type": "code",
   "execution_count": 2,
   "metadata": {},
   "outputs": [
    {
     "name": "stdout",
     "output_type": "stream",
     "text": [
      " this is also a comment\n",
      "    but this has multiple\n",
      "    lines and can have multiple\n",
      "    sentences and paragrahs\n",
      "\n"
     ]
    }
   ],
   "source": [
    "print(''' this is also a comment \n",
    "        but this has multiple\n",
    "    lines and can have multiple\n",
    "    sentences and paragrahs\n",
    "''')"
   ]
  },
  {
   "cell_type": "markdown",
   "metadata": {},
   "source": [
    "####  to display output"
   ]
  },
  {
   "cell_type": "code",
   "execution_count": 12,
   "metadata": {},
   "outputs": [
    {
     "name": "stdout",
     "output_type": "stream",
     "text": [
      "hello world\n",
      "hello world new\n"
     ]
    }
   ],
   "source": [
    "print('hello world')\n",
    "print('hello world new')"
   ]
  },
  {
   "cell_type": "code",
   "execution_count": 10,
   "metadata": {},
   "outputs": [
    {
     "name": "stdout",
     "output_type": "stream",
     "text": [
      "hello world\n"
     ]
    }
   ],
   "source": [
    "print('hello world')"
   ]
  },
  {
   "cell_type": "code",
   "execution_count": 13,
   "metadata": {},
   "outputs": [
    {
     "name": "stdout",
     "output_type": "stream",
     "text": [
      "hello world\n",
      "hello new world\n"
     ]
    }
   ],
   "source": [
    "print(\"hello world\")\n",
    "print(\"hello new world\")"
   ]
  },
  {
   "cell_type": "code",
   "execution_count": 8,
   "metadata": {},
   "outputs": [
    {
     "name": "stdout",
     "output_type": "stream",
     "text": [
      "hello\tworld\n",
      "\n",
      "\n",
      "hello\n",
      "world\n"
     ]
    }
   ],
   "source": [
    "### use of escape sequence \"\\\" \"\\t\", \"\\n\" etc\n",
    "print('hello\\tworld')   ### prints with a tab\n",
    "print('\\n')             ### prints a new line\n",
    "print('hello\\nworld')  ### splits hello and world into 2 lines"
   ]
  },
  {
   "cell_type": "code",
   "execution_count": 9,
   "metadata": {},
   "outputs": [
    {
     "ename": "SyntaxError",
     "evalue": "invalid syntax (<ipython-input-9-abe1b92b6143>, line 1)",
     "output_type": "error",
     "traceback": [
      "\u001b[1;36m  File \u001b[1;32m\"<ipython-input-9-abe1b92b6143>\"\u001b[1;36m, line \u001b[1;32m1\u001b[0m\n\u001b[1;33m    print('it's)\u001b[0m\n\u001b[1;37m              ^\u001b[0m\n\u001b[1;31mSyntaxError\u001b[0m\u001b[1;31m:\u001b[0m invalid syntax\n"
     ]
    }
   ],
   "source": [
    "print('it's)"
   ]
  },
  {
   "cell_type": "code",
   "execution_count": 10,
   "metadata": {},
   "outputs": [
    {
     "name": "stdout",
     "output_type": "stream",
     "text": [
      "it's a scorching hot pizza\n",
      "it's a scorching hot pizza\n"
     ]
    }
   ],
   "source": [
    "### use of apostrophe\n",
    "print('it\\'s a scorching hot pizza')  ### with escape sequence \\\n",
    "print(\"it's a scorching hot pizza\")   ### without escape sequence"
   ]
  },
  {
   "cell_type": "code",
   "execution_count": 9,
   "metadata": {},
   "outputs": [
    {
     "name": "stdout",
     "output_type": "stream",
     "text": [
      " hello world\n",
      "        multi line \n",
      "        print\n"
     ]
    }
   ],
   "source": [
    "print(''' hello world\n",
    "        multi line \n",
    "        print''')"
   ]
  },
  {
   "cell_type": "markdown",
   "metadata": {},
   "source": [
    "----"
   ]
  },
  {
   "cell_type": "code",
   "execution_count": null,
   "metadata": {},
   "outputs": [],
   "source": []
  },
  {
   "cell_type": "markdown",
   "metadata": {},
   "source": [
    "# ARITHMETIC IN PYTHON - START"
   ]
  },
  {
   "cell_type": "markdown",
   "metadata": {},
   "source": [
    "Basic Arithmetic In Python\n",
    "-1) Numbers in Python - INTEGERS(both +ve and -ve numbers), Floating point number (decimal numbers)\n",
    "-2) Basic Arithmetic Operations\n",
    "\n"
   ]
  },
  {
   "cell_type": "code",
   "execution_count": 25,
   "metadata": {},
   "outputs": [
    {
     "name": "stdout",
     "output_type": "stream",
     "text": [
      "this is arithmetic add\n"
     ]
    }
   ],
   "source": [
    "## TO PRINT IN PYTHON\n",
    "## \n",
    "print(\"this is arithmetic add\")\n"
   ]
  },
  {
   "cell_type": "code",
   "execution_count": null,
   "metadata": {},
   "outputs": [],
   "source": [
    "### to check type of a variable"
   ]
  },
  {
   "cell_type": "markdown",
   "metadata": {},
   "source": [
    "## Addition"
   ]
  },
  {
   "cell_type": "code",
   "execution_count": 11,
   "metadata": {},
   "outputs": [
    {
     "name": "stdout",
     "output_type": "stream",
     "text": [
      "1099\n"
     ]
    }
   ],
   "source": [
    "## Addition \n",
    "print(100 +999)\n",
    "\n",
    "### jupyter allows for displaying the result without a print function"
   ]
  },
  {
   "cell_type": "code",
   "execution_count": 21,
   "metadata": {},
   "outputs": [
    {
     "name": "stdout",
     "output_type": "stream",
     "text": [
      "1099\n"
     ]
    }
   ],
   "source": [
    "### printing the addition of 2 numbers\n",
    "### recommend a print statement\n",
    "print(100 + 999)\n",
    " \n",
    " "
   ]
  },
  {
   "cell_type": "code",
   "execution_count": 5,
   "metadata": {},
   "outputs": [],
   "source": [
    "## why recommend print function in jupyter"
   ]
  },
  {
   "cell_type": "code",
   "execution_count": 18,
   "metadata": {},
   "outputs": [
    {
     "data": {
      "text/plain": [
       "600"
      ]
     },
     "execution_count": 18,
     "metadata": {},
     "output_type": "execute_result"
    }
   ],
   "source": [
    "199 + 229\n",
    "400+200\n",
    "\n",
    "### Note that Jupyter displays ONLY the last executed statement even though both statements are actually executed."
   ]
  },
  {
   "cell_type": "code",
   "execution_count": 32,
   "metadata": {},
   "outputs": [
    {
     "name": "stdout",
     "output_type": "stream",
     "text": [
      "428\n",
      "600\n"
     ]
    }
   ],
   "source": [
    "print(199 + 229)\n",
    "print(400+200)"
   ]
  },
  {
   "cell_type": "markdown",
   "metadata": {},
   "source": [
    "### Subtraction\n"
   ]
  },
  {
   "cell_type": "code",
   "execution_count": 12,
   "metadata": {},
   "outputs": [
    {
     "name": "stdout",
     "output_type": "stream",
     "text": [
      "80\n",
      "-120\n"
     ]
    }
   ],
   "source": [
    "print(100-20)\n",
    "print(-100-20)"
   ]
  },
  {
   "cell_type": "markdown",
   "metadata": {},
   "source": [
    "### Multiplication\n"
   ]
  },
  {
   "cell_type": "code",
   "execution_count": 13,
   "metadata": {},
   "outputs": [
    {
     "name": "stdout",
     "output_type": "stream",
     "text": [
      "2000\n",
      "-2161.465\n"
     ]
    }
   ],
   "source": [
    "print(100*20)\n",
    "print(-100.30  * 21.55)"
   ]
  },
  {
   "cell_type": "markdown",
   "metadata": {},
   "source": [
    "#### Division  \n"
   ]
  },
  {
   "cell_type": "code",
   "execution_count": 14,
   "metadata": {},
   "outputs": [
    {
     "name": "stdout",
     "output_type": "stream",
     "text": [
      "15.0\n",
      "\n",
      "\n",
      "14.634146341463415\n",
      "\n",
      "\n",
      "14.634146341463415\n"
     ]
    }
   ],
   "source": [
    "print(300/20)              ### both are integers\n",
    "print('\\n')\n",
    "print(300.0/20.5)           ### both operands are floats\n",
    "print('\\n')\n",
    "print(300/20.5)              ### only one operand is a float\n",
    "### note the result is in decimals, because of the way python 3, does floating point divisions for both integers and floats"
   ]
  },
  {
   "cell_type": "code",
   "execution_count": 15,
   "metadata": {},
   "outputs": [
    {
     "data": {
      "text/plain": [
       "15"
      ]
     },
     "execution_count": 15,
     "metadata": {},
     "output_type": "execute_result"
    }
   ],
   "source": [
    " ### to get a result as integer- use conversion \n",
    "(int)(300/20)      "
   ]
  },
  {
   "cell_type": "code",
   "execution_count": 27,
   "metadata": {},
   "outputs": [
    {
     "data": {
      "text/plain": [
       "str"
      ]
     },
     "execution_count": 27,
     "metadata": {},
     "output_type": "execute_result"
    }
   ],
   "source": [
    "x = 'abc'\n",
    "x\n",
    "type(x)"
   ]
  },
  {
   "cell_type": "code",
   "execution_count": 24,
   "metadata": {},
   "outputs": [
    {
     "name": "stdout",
     "output_type": "stream",
     "text": [
      "2.0\n"
     ]
    }
   ],
   "source": [
    "w=6.0\n",
    "v=3\n",
    "print(w/v)\n",
    "## even if one variable is a float"
   ]
  },
  {
   "cell_type": "code",
   "execution_count": 16,
   "metadata": {},
   "outputs": [
    {
     "name": "stdout",
     "output_type": "stream",
     "text": [
      "2.0\n",
      "\n",
      "\n",
      "2.0\n",
      "\n",
      "\n",
      "2\n"
     ]
    }
   ],
   "source": [
    "### floor division ### to get the quotient\n",
    "### the // operator it truncates the decimal without rounding and returns only the integer result\n",
    "\n",
    "## gives a floating result as both the operands is a decimal and when the division is perfect\n",
    "print(7.0//3.5)\n",
    "\n",
    "print('\\n')\n",
    "\n",
    "## gives a floating result as 1 of the operands is a decimal, and when the division is perfect\n",
    "print(7//3.5)    \n",
    "\n",
    "print('\\n')\n",
    "\n",
    "### truncates the decimal in this case, when the division output is a decimal\n",
    "print(15//7)   "
   ]
  },
  {
   "cell_type": "code",
   "execution_count": 17,
   "metadata": {},
   "outputs": [
    {
     "name": "stdout",
     "output_type": "stream",
     "text": [
      "3.0\n",
      "3\n"
     ]
    }
   ],
   "source": [
    "### Modulo -- remainder\n",
    "print(7.0 % 4)  # remainder is float when one of the operands is a float\n",
    "\n",
    "print(7%4) ### remainder is an integer when both are integers"
   ]
  },
  {
   "cell_type": "code",
   "execution_count": 18,
   "metadata": {},
   "outputs": [
    {
     "name": "stdout",
     "output_type": "stream",
     "text": [
      "16\n"
     ]
    }
   ],
   "source": [
    "### powers\n",
    "print(2**4)"
   ]
  },
  {
   "cell_type": "code",
   "execution_count": 31,
   "metadata": {},
   "outputs": [
    {
     "name": "stdout",
     "output_type": "stream",
     "text": [
      "0.125\n"
     ]
    }
   ],
   "source": [
    "print(2**-3)"
   ]
  },
  {
   "cell_type": "code",
   "execution_count": 20,
   "metadata": {},
   "outputs": [
    {
     "name": "stdout",
     "output_type": "stream",
     "text": [
      "1.4142135623730951\n"
     ]
    }
   ],
   "source": [
    "print(2**0.5)"
   ]
  },
  {
   "cell_type": "markdown",
   "metadata": {},
   "source": [
    "### BODMAS (Bracket, Orders(numbers involving powers and square root, Division, Multiplication, Addition, Subtraction)\n"
   ]
  },
  {
   "cell_type": "code",
   "execution_count": 19,
   "metadata": {},
   "outputs": [
    {
     "name": "stdout",
     "output_type": "stream",
     "text": [
      "105\n"
     ]
    }
   ],
   "source": [
    "print(2 + 10 * 10 + 3)"
   ]
  },
  {
   "cell_type": "code",
   "execution_count": 21,
   "metadata": {},
   "outputs": [
    {
     "name": "stdout",
     "output_type": "stream",
     "text": [
      "156\n"
     ]
    }
   ],
   "source": [
    "print((2+10) * (10+3))"
   ]
  },
  {
   "cell_type": "code",
   "execution_count": 30,
   "metadata": {},
   "outputs": [
    {
     "name": "stdout",
     "output_type": "stream",
     "text": [
      "5\n"
     ]
    }
   ],
   "source": [
    "print((2*3)+3**2- 10)"
   ]
  },
  {
   "cell_type": "code",
   "execution_count": 36,
   "metadata": {},
   "outputs": [
    {
     "name": "stdout",
     "output_type": "stream",
     "text": [
      "5.551115123125783e-17\n"
     ]
    }
   ],
   "source": [
    "print((0.1+0.2)-(0.3))\n",
    "\n",
    "### ideally we should get a zero.\n",
    "### python and our computers follows what is called as \"floating point accuracy\"\n",
    "### even though for the naked eye, the answer is zero , python returns a number which extremely closer to zero, \n",
    "#### but not exactly zero\n",
    "#### 5.551115123125783e-17 can be translated as = 1/5.551115123125783 e**17\n",
    "\n",
    " "
   ]
  },
  {
   "cell_type": "code",
   "execution_count": 38,
   "metadata": {},
   "outputs": [
    {
     "data": {
      "text/plain": [
       "0.09999999999999987"
      ]
     },
     "execution_count": 38,
     "metadata": {},
     "output_type": "execute_result"
    }
   ],
   "source": [
    "1.2-1.1"
   ]
  },
  {
   "cell_type": "code",
   "execution_count": 33,
   "metadata": {},
   "outputs": [],
   "source": [
    "### \n",
    "#1/(5.55111512)e**17  = .000000000005511"
   ]
  },
  {
   "cell_type": "markdown",
   "metadata": {},
   "source": [
    "###  ARITHMETIC IN PYTHON --- END"
   ]
  },
  {
   "cell_type": "markdown",
   "metadata": {},
   "source": [
    "---"
   ]
  },
  {
   "cell_type": "markdown",
   "metadata": {},
   "source": [
    "## VARIABLES IN PYTHON - START"
   ]
  },
  {
   "cell_type": "markdown",
   "metadata": {},
   "source": [
    "\n",
    "\n",
    "Variables are objects that hold a value \n",
    "\n",
    "eg - var1 = 100   --> 100 is assigned to the variable \"var1\" \n",
    "\n",
    "##### internally what happens\n",
    "--var1 is assigned an address in the memory and the value of 100 is assigned to var1\n",
    "\n",
    "\n",
    "Rules in Python for variable names\n",
    "The names you use when creating these labels need to follow a few rules:\n",
    "\n",
    "- Names can not start with a number.\n",
    "- Variables are case sensitive\n",
    "- There can be no spaces in the name, use _ instead.  WRONG - VAR 1  RIGHT - VAR_1\n",
    "-  Can't use any of these symbols :'\",<>/?|\\()!@#$%^&*~-+\n",
    "- It's considered best practice (PEP8) that names are lowercase.\n",
    "- Avoid using the characters 'l' (lowercase letter el), 'O' (uppercase letter oh), \n",
    "   or 'I' (uppercase letter eye) as single character variable names.\n",
    "- Avoid using words that have special meaning in Python like \"list\" and \"str\"\n",
    "\n"
   ]
  },
  {
   "cell_type": "markdown",
   "metadata": {},
   "source": []
  },
  {
   "cell_type": "code",
   "execution_count": 22,
   "metadata": {},
   "outputs": [],
   "source": [
    " "
   ]
  },
  {
   "cell_type": "code",
   "execution_count": 24,
   "metadata": {},
   "outputs": [
    {
     "name": "stdout",
     "output_type": "stream",
     "text": [
      "5\n",
      "<class 'int'>\n"
     ]
    }
   ],
   "source": [
    "### let us create an object called myvar0 and assign number 5 to it\n",
    "myvar0 = 5\n",
    "print(myvar0)\n",
    "print(type(myvar0))    \n",
    "    #### this gives an indentation error. code in python needs to be indented"
   ]
  },
  {
   "cell_type": "code",
   "execution_count": 25,
   "metadata": {},
   "outputs": [
    {
     "name": "stdout",
     "output_type": "stream",
     "text": [
      "i am a string\n",
      "<class 'str'>\n"
     ]
    }
   ],
   "source": [
    "myvar0 = 'i am a string'\n",
    "print(myvar0)\n",
    "print(type(myvar0)) "
   ]
  },
  {
   "cell_type": "code",
   "execution_count": 40,
   "metadata": {},
   "outputs": [
    {
     "name": "stdout",
     "output_type": "stream",
     "text": [
      "100\n",
      "99.9\n",
      "<class 'int'>\n",
      "<class 'float'>\n"
     ]
    }
   ],
   "source": [
    "myvar00=100 \n",
    "myvar01= 99.9\n",
    "print(myvar00)\n",
    "print(myvar01)\n",
    "print(type(myvar00))\n",
    "print(type(myvar01))"
   ]
  },
  {
   "cell_type": "code",
   "execution_count": 41,
   "metadata": {},
   "outputs": [
    {
     "name": "stdout",
     "output_type": "stream",
     "text": [
      "<class 'str'>\n"
     ]
    }
   ],
   "source": [
    "myvar00 = 'string test'\n",
    "print(type(myvar00))"
   ]
  },
  {
   "cell_type": "code",
   "execution_count": 26,
   "metadata": {},
   "outputs": [
    {
     "name": "stdout",
     "output_type": "stream",
     "text": [
      "i am a string\n"
     ]
    }
   ],
   "source": [
    "myvar03 = 'i am a string'\n",
    "print(myvar03)"
   ]
  },
  {
   "cell_type": "code",
   "execution_count": 27,
   "metadata": {},
   "outputs": [
    {
     "name": "stdout",
     "output_type": "stream",
     "text": [
      "i am a list ['a', 1, 20.2, 30.3] \n",
      " my type is  <class 'list'>\n"
     ]
    }
   ],
   "source": [
    "myvar04=['a',1,20.2,30.3]\n",
    "print('i am a list',myvar04,'\\n','my type is ',type(myvar04))"
   ]
  },
  {
   "cell_type": "code",
   "execution_count": 28,
   "metadata": {},
   "outputs": [
    {
     "name": "stdout",
     "output_type": "stream",
     "text": [
      "i am a tuple ['a', 1, 20.2, 30.3] \n",
      " my type is  <class 'tuple'>\n"
     ]
    }
   ],
   "source": [
    "myvar05=('a',1,20.2,30.3)\n",
    "print('i am a tuple',myvar04,'\\n','my type is ',type(myvar05))"
   ]
  },
  {
   "cell_type": "code",
   "execution_count": 62,
   "metadata": {},
   "outputs": [
    {
     "name": "stdout",
     "output_type": "stream",
     "text": [
      "i am a dictionary ('a', 1, 20.2, 30.3) \n",
      " my type is  <class 'dict'>\n"
     ]
    }
   ],
   "source": [
    "myvar06={'k1':100,'k2':[199,98.9,'a'],'k3':(100,200,'a9aa')}\n",
    "print('i am a dictionary',myvar04,'\\n','my type is ',type(myvar06))"
   ]
  },
  {
   "cell_type": "code",
   "execution_count": 29,
   "metadata": {},
   "outputs": [
    {
     "name": "stdout",
     "output_type": "stream",
     "text": [
      "i am a set {3000, 'x3000', '2000'} \n",
      " my type is <class 'set'>\n"
     ]
    }
   ],
   "source": [
    "x=[3000,'x3000','2000']   \n",
    "myvar07 = set(x)\n",
    "print('i am a set', myvar07,'\\n','my type is',type(myvar07))\n"
   ]
  },
  {
   "cell_type": "code",
   "execution_count": null,
   "metadata": {},
   "outputs": [],
   "source": []
  },
  {
   "cell_type": "code",
   "execution_count": null,
   "metadata": {},
   "outputs": [],
   "source": []
  },
  {
   "cell_type": "code",
   "execution_count": 37,
   "metadata": {},
   "outputs": [],
   "source": [
    "### jupyter trick - type half of the word \"my\" and press \"TAB\" key. we will see list of words that start with word \"my\" \n"
   ]
  },
  {
   "cell_type": "code",
   "execution_count": null,
   "metadata": {},
   "outputs": [],
   "source": [
    "## jupyter trick- if we want to know what a particular function does. we can call python help in jupytre by pressing\n",
    "##  shift + tab key"
   ]
  },
  {
   "cell_type": "markdown",
   "metadata": {},
   "source": [
    "##### Variable Operations in python\n",
    "\n",
    " - Perform Arithmetic with Variables\n",
    " - Perform comparisons with Variables"
   ]
  },
  {
   "cell_type": "code",
   "execution_count": 30,
   "metadata": {},
   "outputs": [
    {
     "name": "stdout",
     "output_type": "stream",
     "text": [
      "150\n",
      "50\n"
     ]
    }
   ],
   "source": [
    "### variable addition/subtraction/multiplication/division/powers\\\n",
    "\n",
    "my_var0 =50\n",
    "my_var1 = 100\n",
    "\n",
    "print(my_var0 + my_var1)\n",
    "\n",
    "\n",
    "### variable subtraction\n",
    "print(my_var1-my_var0)\n"
   ]
  },
  {
   "cell_type": "code",
   "execution_count": 31,
   "metadata": {},
   "outputs": [
    {
     "name": "stdout",
     "output_type": "stream",
     "text": [
      "5000\n"
     ]
    }
   ],
   "source": [
    "### variable multiplication\n",
    "print(my_var1*my_var0)\n"
   ]
  },
  {
   "cell_type": "code",
   "execution_count": 43,
   "metadata": {},
   "outputs": [
    {
     "name": "stdout",
     "output_type": "stream",
     "text": [
      "2.0\n",
      "2\n",
      "0\n"
     ]
    }
   ],
   "source": [
    "### variable division\n",
    "print(my_var1/my_var0)\n",
    "\n",
    "### variable floor division\n",
    "print(my_var1//my_var0)\n",
    "\n",
    "\n",
    "### variable modulo\n",
    "print(my_var1%my_var0)\n"
   ]
  },
  {
   "cell_type": "code",
   "execution_count": 59,
   "metadata": {},
   "outputs": [
    {
     "name": "stdout",
     "output_type": "stream",
     "text": [
      "100\n",
      "50\n",
      "10000000000000000000000000000000000000000000000000000000000000000000000000000000000000000000000000000\n"
     ]
    }
   ],
   "source": [
    "### variable powers\n",
    "print(my_var1)\n",
    "print(my_var0)\n",
    "print(my_var1**my_var0)\n",
    " "
   ]
  },
  {
   "cell_type": "code",
   "execution_count": 33,
   "metadata": {},
   "outputs": [
    {
     "data": {
      "text/plain": [
       "False"
      ]
     },
     "execution_count": 33,
     "metadata": {},
     "output_type": "execute_result"
    }
   ],
   "source": [
    "2 > 3"
   ]
  },
  {
   "cell_type": "code",
   "execution_count": 34,
   "metadata": {},
   "outputs": [
    {
     "data": {
      "text/plain": [
       "False"
      ]
     },
     "execution_count": 34,
     "metadata": {},
     "output_type": "execute_result"
    }
   ],
   "source": [
    "var2 = 2\n",
    "var3 = 3\n",
    "var2 > var3"
   ]
  },
  {
   "cell_type": "code",
   "execution_count": 23,
   "metadata": {},
   "outputs": [
    {
     "name": "stdout",
     "output_type": "stream",
     "text": [
      "2.0\n",
      "2\n"
     ]
    }
   ],
   "source": [
    "x=4\n",
    "y=2\n",
    "print(x/y)\n",
    "\n",
    "### python3 automatically guesses that the type of x and y is integer, but when used in division operation\n",
    "### it gives a floating point result\n",
    "\n",
    "### to get an integer result\n",
    "print(int(x/y))"
   ]
  },
  {
   "cell_type": "code",
   "execution_count": 30,
   "metadata": {},
   "outputs": [
    {
     "name": "stdout",
     "output_type": "stream",
     "text": [
      "2.0\n"
     ]
    }
   ],
   "source": [
    "w=6.0\n",
    "v=3\n",
    "\n",
    "print(w/v)\n",
    "## even if one variable is a float"
   ]
  },
  {
   "cell_type": "code",
   "execution_count": 36,
   "metadata": {},
   "outputs": [
    {
     "name": "stdout",
     "output_type": "stream",
     "text": [
      "100\n",
      "200\n",
      "False\n"
     ]
    }
   ],
   "source": [
    "varx = 100\n",
    "vary = 200\n",
    "print(varx)\n",
    "print(vary)\n",
    "### check if varx is greater than vary\n",
    "print(varx > vary)"
   ]
  },
  {
   "cell_type": "code",
   "execution_count": 63,
   "metadata": {},
   "outputs": [
    {
     "name": "stdout",
     "output_type": "stream",
     "text": [
      "True\n"
     ]
    }
   ],
   "source": [
    "### check if varx is less than vary\n",
    "print(varx < vary)\n"
   ]
  },
  {
   "cell_type": "code",
   "execution_count": 64,
   "metadata": {},
   "outputs": [
    {
     "name": "stdout",
     "output_type": "stream",
     "text": [
      "100 200\n"
     ]
    }
   ],
   "source": [
    "print(varx,vary)"
   ]
  },
  {
   "cell_type": "code",
   "execution_count": 37,
   "metadata": {},
   "outputs": [
    {
     "name": "stdout",
     "output_type": "stream",
     "text": [
      "True\n",
      "False\n"
     ]
    }
   ],
   "source": [
    "### check if varx = vary\n",
    "print(varx != vary)\n",
    "print(varx == vary)"
   ]
  },
  {
   "cell_type": "code",
   "execution_count": 42,
   "metadata": {},
   "outputs": [
    {
     "name": "stdout",
     "output_type": "stream",
     "text": [
      "39.03921568627451\n",
      "39 2\n"
     ]
    }
   ],
   "source": [
    "## round function\n",
    "varx= 99.55\n",
    "vary = 2.55\n",
    "print(varx/vary)\n",
    "print(round(varx/vary), 2)\n"
   ]
  },
  {
   "cell_type": "code",
   "execution_count": null,
   "metadata": {},
   "outputs": [],
   "source": [
    "### "
   ]
  },
  {
   "cell_type": "markdown",
   "metadata": {},
   "source": [
    "### Concept of Dynamic Typing in Python\n",
    "type of the variable will change based on the value assigned to the variable\n",
    "vrey powerful, but can be abused if the programmer does not take enough precautions"
   ]
  },
  {
   "cell_type": "code",
   "execution_count": 44,
   "metadata": {},
   "outputs": [
    {
     "name": "stdout",
     "output_type": "stream",
     "text": [
      "100\n"
     ]
    }
   ],
   "source": [
    "my_new_var0 = 100\n",
    "print(my_new_var0)"
   ]
  },
  {
   "cell_type": "code",
   "execution_count": 50,
   "metadata": {},
   "outputs": [
    {
     "data": {
      "text/plain": [
       "int"
      ]
     },
     "execution_count": 50,
     "metadata": {},
     "output_type": "execute_result"
    }
   ],
   "source": [
    "### to check the data type of a variable\n",
    "type(my_new_var0)"
   ]
  },
  {
   "cell_type": "code",
   "execution_count": 45,
   "metadata": {},
   "outputs": [
    {
     "name": "stdout",
     "output_type": "stream",
     "text": [
      "199.99\n"
     ]
    }
   ],
   "source": [
    "### assign a decimal value to the variable my_new_var0\n",
    "my_new_var0 = 199.99\n",
    "print(my_new_var0)"
   ]
  },
  {
   "cell_type": "code",
   "execution_count": 53,
   "metadata": {},
   "outputs": [
    {
     "data": {
      "text/plain": [
       "float"
      ]
     },
     "execution_count": 53,
     "metadata": {},
     "output_type": "execute_result"
    }
   ],
   "source": [
    "type(my_new_var0)"
   ]
  },
  {
   "cell_type": "code",
   "execution_count": 54,
   "metadata": {},
   "outputs": [
    {
     "ename": "TypeError",
     "evalue": "object of type 'float' has no len()",
     "output_type": "error",
     "traceback": [
      "\u001b[1;31m---------------------------------------------------------------------------\u001b[0m",
      "\u001b[1;31mTypeError\u001b[0m                                 Traceback (most recent call last)",
      "\u001b[1;32m<ipython-input-54-ca80100d88e6>\u001b[0m in \u001b[0;36m<module>\u001b[1;34m\u001b[0m\n\u001b[1;32m----> 1\u001b[1;33m \u001b[0mlen\u001b[0m\u001b[1;33m(\u001b[0m\u001b[0mmy_new_var0\u001b[0m\u001b[1;33m)\u001b[0m\u001b[1;33m\u001b[0m\u001b[1;33m\u001b[0m\u001b[0m\n\u001b[0m",
      "\u001b[1;31mTypeError\u001b[0m: object of type 'float' has no len()"
     ]
    }
   ],
   "source": [
    "len(my_new_var0)"
   ]
  },
  {
   "cell_type": "code",
   "execution_count": 28,
   "metadata": {},
   "outputs": [
    {
     "data": {
      "text/plain": [
       "str"
      ]
     },
     "execution_count": 28,
     "metadata": {},
     "output_type": "execute_result"
    }
   ],
   "source": [
    "### create a string\n",
    "my_new_var0 = 'this is a string'\n",
    "type(my_new_var0)"
   ]
  },
  {
   "cell_type": "code",
   "execution_count": 116,
   "metadata": {},
   "outputs": [
    {
     "data": {
      "text/plain": [
       "list"
      ]
     },
     "execution_count": 116,
     "metadata": {},
     "output_type": "execute_result"
    }
   ],
   "source": [
    "### assign a list to the variable which had a string earlier\n",
    "my_new_var0 = [1,2,3]\n",
    "type(my_new_var0)"
   ]
  },
  {
   "cell_type": "markdown",
   "metadata": {},
   "source": [
    "###### forced type conversion\n"
   ]
  },
  {
   "cell_type": "markdown",
   "metadata": {},
   "source": [
    "#####  converting from string to list"
   ]
  },
  {
   "cell_type": "code",
   "execution_count": 55,
   "metadata": {},
   "outputs": [],
   "source": [
    "myvar11 = 'new string'"
   ]
  },
  {
   "cell_type": "code",
   "execution_count": 50,
   "metadata": {},
   "outputs": [
    {
     "data": {
      "text/plain": [
       "'new string'"
      ]
     },
     "execution_count": 50,
     "metadata": {},
     "output_type": "execute_result"
    }
   ],
   "source": [
    "myvar11"
   ]
  },
  {
   "cell_type": "code",
   "execution_count": 54,
   "metadata": {},
   "outputs": [
    {
     "name": "stdout",
     "output_type": "stream",
     "text": [
      "<class 'str'>\n"
     ]
    }
   ],
   "source": [
    "print(type(myvar11))"
   ]
  },
  {
   "cell_type": "code",
   "execution_count": null,
   "metadata": {},
   "outputs": [],
   "source": []
  },
  {
   "cell_type": "code",
   "execution_count": 52,
   "metadata": {},
   "outputs": [
    {
     "data": {
      "text/plain": [
       "['n', 'e', 'w', ' ', 's', 't', 'r', 'i', 'n', 'g']"
      ]
     },
     "execution_count": 52,
     "metadata": {},
     "output_type": "execute_result"
    }
   ],
   "source": [
    "### use list function to convert myvar11 string into a list\n",
    "list(myvar11)"
   ]
  },
  {
   "cell_type": "code",
   "execution_count": 53,
   "metadata": {},
   "outputs": [
    {
     "data": {
      "text/plain": [
       "list"
      ]
     },
     "execution_count": 53,
     "metadata": {},
     "output_type": "execute_result"
    }
   ],
   "source": [
    "type(list(myvar11))\n",
    "#### the output type is a list ONLY for this execution"
   ]
  },
  {
   "cell_type": "code",
   "execution_count": 115,
   "metadata": {},
   "outputs": [
    {
     "data": {
      "text/plain": [
       "str"
      ]
     },
     "execution_count": 115,
     "metadata": {},
     "output_type": "execute_result"
    }
   ],
   "source": [
    "### note that the original type of myvar11 will remain as a string\n",
    "type(myvar11)"
   ]
  },
  {
   "cell_type": "code",
   "execution_count": 118,
   "metadata": {},
   "outputs": [],
   "source": [
    "### convert string to numeric"
   ]
  },
  {
   "cell_type": "code",
   "execution_count": 124,
   "metadata": {},
   "outputs": [
    {
     "data": {
      "text/plain": [
       "str"
      ]
     },
     "execution_count": 124,
     "metadata": {},
     "output_type": "execute_result"
    }
   ],
   "source": [
    "numstr = '12345'\n",
    "type(numstr)\n"
   ]
  },
  {
   "cell_type": "code",
   "execution_count": 129,
   "metadata": {},
   "outputs": [
    {
     "name": "stdout",
     "output_type": "stream",
     "text": [
      "12345\n",
      "<class 'int'>\n"
     ]
    }
   ],
   "source": [
    "numint = int(numstr)\n",
    "print(numint)\n",
    "print(type(numint))"
   ]
  },
  {
   "cell_type": "code",
   "execution_count": 131,
   "metadata": {},
   "outputs": [
    {
     "data": {
      "text/plain": [
       "float"
      ]
     },
     "execution_count": 131,
     "metadata": {},
     "output_type": "execute_result"
    }
   ],
   "source": [
    "dec = 1235.98\n",
    "type(dec)"
   ]
  },
  {
   "cell_type": "code",
   "execution_count": 133,
   "metadata": {},
   "outputs": [
    {
     "name": "stdout",
     "output_type": "stream",
     "text": [
      "1235\n",
      "<class 'int'>\n"
     ]
    }
   ],
   "source": [
    "numdec = int(dec)\n",
    "print(numdec)\n",
    "print(type(numdec))\n",
    "\n",
    "### note decimal is ignored"
   ]
  },
  {
   "cell_type": "markdown",
   "metadata": {},
   "source": [
    "## VARIABLES IN PYTHON - END"
   ]
  },
  {
   "cell_type": "markdown",
   "metadata": {},
   "source": [
    "---"
   ]
  },
  {
   "cell_type": "markdown",
   "metadata": {},
   "source": [
    "---"
   ]
  }
 ],
 "metadata": {
  "kernelspec": {
   "display_name": "Python 3",
   "language": "python",
   "name": "python3"
  },
  "language_info": {
   "codemirror_mode": {
    "name": "ipython",
    "version": 3
   },
   "file_extension": ".py",
   "mimetype": "text/x-python",
   "name": "python",
   "nbconvert_exporter": "python",
   "pygments_lexer": "ipython3",
   "version": "3.7.1"
  }
 },
 "nbformat": 4,
 "nbformat_minor": 4
}
