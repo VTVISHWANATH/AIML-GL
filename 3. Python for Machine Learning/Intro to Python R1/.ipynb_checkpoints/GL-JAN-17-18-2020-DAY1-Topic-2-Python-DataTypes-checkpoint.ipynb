{
 "cells": [
  {
   "cell_type": "markdown",
   "metadata": {},
   "source": [
    "\n",
    "## Python Data Types are broadly classified as \n",
    "\n",
    "1) Mutable Data Types - Data types where individual items can be changed or updated\n",
    "   Lists\n",
    "   Dictionary\n",
    "\n",
    "2) Immutable Data Types -Data types where individual items CANNOT be changed or updated\n",
    "   Numbers\n",
    "   Strings\n",
    "   Tuples\n",
    "\n",
    "\n",
    "### Different data types in python\n",
    " \n",
    "\n",
    "- Lists\n",
    "- Tuples\n",
    "- Dictionary\n",
    "- Strings\n",
    "- Sets\n",
    "\n",
    "\n",
    "### Most Widely Used data types in Python\n",
    "-- Lists\n",
    "-- Dictionary\n",
    "-- String (NLP)\n"
   ]
  },
  {
   "cell_type": "code",
   "execution_count": 1,
   "metadata": {},
   "outputs": [
    {
     "name": "stdout",
     "output_type": "stream",
     "text": [
      "<class 'int'>\n"
     ]
    }
   ],
   "source": [
    "x = 5\n",
    "print(type(x))"
   ]
  },
  {
   "cell_type": "code",
   "execution_count": 4,
   "metadata": {},
   "outputs": [
    {
     "name": "stdout",
     "output_type": "stream",
     "text": [
      "<class 'int'>\n"
     ]
    }
   ],
   "source": [
    "x = 500\n",
    "print(type(x))"
   ]
  },
  {
   "cell_type": "code",
   "execution_count": null,
   "metadata": {},
   "outputs": [],
   "source": [
    "x "
   ]
  },
  {
   "cell_type": "markdown",
   "metadata": {},
   "source": [
    "## LISTS IN PYTHON - START"
   ]
  },
  {
   "cell_type": "markdown",
   "metadata": {},
   "source": [
    "### LISTS \n",
    "- Similar to arrays in other languages\n",
    "- Comprised of items with multiple data types (different from arrays in other languages)\n",
    "- Can we altered as they are mutable\n",
    "- Items in lists are indexed in a sequence, starting with 0\n",
    "- can contain duplicate values\n",
    "- Lists are represented as  \n",
    "        - ['a',1,100.0,\"a string\",] \n",
    "- can take different data types\n",
    "- Lists are mutable - meaning, every item in a list can be individually updated\n"
   ]
  },
  {
   "cell_type": "code",
   "execution_count": 13,
   "metadata": {},
   "outputs": [],
   "source": [
    "myfirstlist = [100,100.99,'A','a','my string',[199,200],(100,200,399)]\n",
    "\n",
    "### index         0    1        2   3     4        5       6\n",
    "### reverse indx -7    -6     -5   -4    -3      -2      -1         "
   ]
  },
  {
   "cell_type": "code",
   "execution_count": null,
   "metadata": {},
   "outputs": [],
   "source": []
  },
  {
   "cell_type": "code",
   "execution_count": 11,
   "metadata": {},
   "outputs": [
    {
     "data": {
      "text/plain": [
       "7"
      ]
     },
     "execution_count": 11,
     "metadata": {},
     "output_type": "execute_result"
    }
   ],
   "source": [
    "len(myfirstlist)"
   ]
  },
  {
   "cell_type": "code",
   "execution_count": 8,
   "metadata": {},
   "outputs": [
    {
     "name": "stdout",
     "output_type": "stream",
     "text": [
      "<class 'list'>\n"
     ]
    }
   ],
   "source": [
    "print(type(myfirstlist))"
   ]
  },
  {
   "cell_type": "code",
   "execution_count": null,
   "metadata": {},
   "outputs": [],
   "source": []
  },
  {
   "cell_type": "markdown",
   "metadata": {},
   "source": [
    "## internal arrangement of characters and indexes in a string \n",
    "\n",
    "### letter                -  index    - reverse index\n",
    "-   h               -   0        -11\n",
    "-   e                   1        -10\n",
    "-   l                   2        -9\n",
    "-   l                   3        -8\n",
    "-   o                   4        -7\n",
    "-                       5        -6\n",
    "-   w                   6        -5 \n",
    "-   o                   7        -4\n",
    "-   r                   8        -3\n",
    "-   l                   9        -2 \n",
    "-   d                  10        -1 \n"
   ]
  },
  {
   "cell_type": "code",
   "execution_count": 2,
   "metadata": {},
   "outputs": [
    {
     "name": "stdout",
     "output_type": "stream",
     "text": [
      "[199.99, 299.09, 39292.99]\n",
      "\n",
      "\n",
      "type of mylist0: <class 'list'>\n",
      "\n",
      "\n",
      "the length of mylist for is: 3\n"
     ]
    }
   ],
   "source": [
    "### list of numbers\n",
    "mylist0 = [199.99,299.090,39292.99]\n",
    "print(mylist0)\n",
    "print('\\n')\n",
    "print('type of mylist0:', type(mylist0))\n",
    "\n",
    "print('\\n')\n",
    "\n",
    "print(\"the length of mylist for is:\", len(mylist0))\n"
   ]
  },
  {
   "cell_type": "code",
   "execution_count": null,
   "metadata": {},
   "outputs": [],
   "source": []
  },
  {
   "cell_type": "code",
   "execution_count": 3,
   "metadata": {},
   "outputs": [
    {
     "name": "stdout",
     "output_type": "stream",
     "text": [
      "[100, 199.99, 'str1', 'c', '112s']\n",
      "\n",
      "\n",
      "<class 'list'>\n",
      "\n",
      "\n",
      "5\n"
     ]
    }
   ],
   "source": [
    "### list of strings,integers and floats\n",
    "\n",
    "mylist2 = [100,199.99,'str1','c','112s']\n",
    "print(mylist2)\n",
    "print('\\n')\n",
    "print(type(mylist2))\n",
    "print('\\n')\n",
    "\n",
    "print(len(mylist2))"
   ]
  },
  {
   "cell_type": "code",
   "execution_count": null,
   "metadata": {},
   "outputs": [],
   "source": [
    " "
   ]
  },
  {
   "cell_type": "markdown",
   "metadata": {},
   "source": [
    "#### Nested Lists - List within a List"
   ]
  },
  {
   "cell_type": "code",
   "execution_count": 14,
   "metadata": {},
   "outputs": [
    {
     "name": "stdout",
     "output_type": "stream",
     "text": [
      "\n",
      "\n",
      "mylist3 has the values:  ['A String', 100.9, 200, [9, 10], ['a', 'b'], [1, 2, 3], ['h', 'i', 'j']]\n",
      "\n",
      "\n",
      "length of mylist3: 7 \n",
      " type of mylist3 is : <class 'list'>\n"
     ]
    }
   ],
   "source": [
    "### we can have a list within a list (nested lists)\n",
    "mylist3 = ['A String',100.9,200,[9,10],['a','b'], [1,2,3],['h','i','j']]\n",
    "\n",
    "print('\\n')\n",
    "### display the contents of mylist3\n",
    "print(\"mylist3 has the values: \",mylist3)\n",
    "\n",
    "print('\\n')\n",
    "### display the length and type mylist3\n",
    "print('length of mylist3:',len(mylist3), '\\n','type of mylist3 is :',type(mylist3))\n"
   ]
  },
  {
   "cell_type": "code",
   "execution_count": 5,
   "metadata": {},
   "outputs": [],
   "source": [
    "### Print length and type of mylist3"
   ]
  },
  {
   "cell_type": "code",
   "execution_count": null,
   "metadata": {},
   "outputs": [],
   "source": []
  },
  {
   "cell_type": "markdown",
   "metadata": {},
   "source": [
    "### Different Data Types inside the List\n",
    "  - list can house other datatypes inside them"
   ]
  },
  {
   "cell_type": "markdown",
   "metadata": {},
   "source": [
    "###### nested lists, Tuples and dictionary inside a list"
   ]
  },
  {
   "cell_type": "code",
   "execution_count": 6,
   "metadata": {},
   "outputs": [
    {
     "name": "stdout",
     "output_type": "stream",
     "text": [
      "mylist4 has the values:  ['A String', 100.9, 200, (90, 100), ('x', 'z'), [1, 2, 3], ['h', 'i', 'j'], {'k1': 'i am a dictionary'}]\n",
      "\n",
      "\n",
      "type of mylist4: <class 'list'>\n",
      "\n",
      "\n",
      "the length of mylist for is: 8\n"
     ]
    }
   ],
   "source": [
    "### we can also have a tuple within a list\n",
    "mylist4 = ['A String',100.9,200,(90,100),('x','z'), [1,2,3],['h','i','j'], {'k1':'i am a dictionary'}]\n",
    "print(\"mylist4 has the values: \",mylist4)\n",
    "\n",
    "print('\\n')\n",
    "print('type of mylist4:', type(mylist4))\n",
    "\n",
    "print('\\n')\n",
    "\n",
    "print(\"the length of mylist for is:\", len(mylist4))"
   ]
  },
  {
   "cell_type": "markdown",
   "metadata": {},
   "source": [
    "### to get the len and type of individual items in the list\n",
    "  - use list indexing"
   ]
  },
  {
   "cell_type": "code",
   "execution_count": 7,
   "metadata": {},
   "outputs": [
    {
     "name": "stdout",
     "output_type": "stream",
     "text": [
      "<class 'tuple'> <class 'dict'>\n",
      "2 1\n"
     ]
    }
   ],
   "source": [
    "### if we want to display the type of items 4(index 3) and items 8(index 7)\n",
    "print(type(mylist4[3]), type(mylist4[-1]))  ### another way to represent last item is mylist4[7]\n",
    "print(len(mylist4[3]),len(mylist4[-1]))"
   ]
  },
  {
   "cell_type": "markdown",
   "metadata": {},
   "source": [
    " ---\n"
   ]
  },
  {
   "cell_type": "markdown",
   "metadata": {},
   "source": [
    "### Accessing Elements(items) from a LIST"
   ]
  },
  {
   "cell_type": "markdown",
   "metadata": {},
   "source": [
    "##### LIST indexing and Slicing \n",
    " - list indexing works similar to that of string indexing. starts with 0\n",
    "-  can be sliced like that of a string\n",
    "- for example mylistex = [19,'AAA' , 200.22,[102,29],(199,22)]\n",
    "- len of list is len(mylistex) = 5\n",
    "- Index 0 is 19\n",
    "- Index 4 is (199,22)\n",
    "\n",
    "### Reverse Indexing\n",
    "- index -1 is (199,22)\n",
    "- index -5 is 19\n",
    " "
   ]
  },
  {
   "cell_type": "code",
   "execution_count": null,
   "metadata": {},
   "outputs": [],
   "source": []
  },
  {
   "cell_type": "code",
   "execution_count": 15,
   "metadata": {},
   "outputs": [
    {
     "name": "stdout",
     "output_type": "stream",
     "text": [
      "['A String', 100.9, 200, [9, 10], ['a', 'b'], [1, 2, 3], ['h', 'i', 'j']]\n",
      "7\n",
      "<class 'list'>\n"
     ]
    }
   ],
   "source": [
    "print(mylist3)\n",
    "print(len(mylist3))\n",
    "print(type(mylist3))\n",
    "\\\n",
    "### indexes 0,1,2,3,4,5,6"
   ]
  },
  {
   "cell_type": "code",
   "execution_count": 9,
   "metadata": {},
   "outputs": [
    {
     "name": "stdout",
     "output_type": "stream",
     "text": [
      "<class 'str'>\n"
     ]
    }
   ],
   "source": [
    "mylist3[0]\n",
    "print(type(mylist3[0]))"
   ]
  },
  {
   "cell_type": "code",
   "execution_count": 16,
   "metadata": {},
   "outputs": [],
   "source": [
    "mylist200 = [100,100,200,'a']"
   ]
  },
  {
   "cell_type": "code",
   "execution_count": 18,
   "metadata": {},
   "outputs": [
    {
     "data": {
      "text/plain": [
       "100"
      ]
     },
     "execution_count": 18,
     "metadata": {},
     "output_type": "execute_result"
    }
   ],
   "source": [
    "mylist200[1]"
   ]
  },
  {
   "cell_type": "code",
   "execution_count": 12,
   "metadata": {},
   "outputs": [
    {
     "name": "stdout",
     "output_type": "stream",
     "text": [
      "0\n"
     ]
    }
   ],
   "source": [
    "print(mylist200.index(mylist200[1]))"
   ]
  },
  {
   "cell_type": "markdown",
   "metadata": {},
   "source": [
    " ###### extracting specific elements from the list"
   ]
  },
  {
   "cell_type": "code",
   "execution_count": 13,
   "metadata": {},
   "outputs": [
    {
     "data": {
      "text/plain": [
       "['A String', 100.9, 200, [9, 10], ['a', 'b'], [1, 2, 3], ['h', 'i', 'j']]"
      ]
     },
     "execution_count": 13,
     "metadata": {},
     "output_type": "execute_result"
    }
   ],
   "source": [
    "mylist3"
   ]
  },
  {
   "cell_type": "code",
   "execution_count": 19,
   "metadata": {},
   "outputs": [
    {
     "name": "stdout",
     "output_type": "stream",
     "text": [
      "100.9\n",
      "\n",
      "\n",
      "<class 'float'>\n",
      "index of the value 100.9 is  1\n",
      "index of the value 'A String' is  0\n",
      "\n",
      "\n",
      "[9, 10]\n",
      "type of mylist3[3] is <class 'list'>\n"
     ]
    }
   ],
   "source": [
    "######  to grab 100.9 from mylist3 - note 200 is in index 2\n",
    "print(mylist3[1])\n",
    "print('\\n')\n",
    "\n",
    "##type of a specific element\n",
    "print(type(mylist3[1]))\n",
    "\n",
    "## to get the index of a specific element we can use a built-in method  .index(<give the specific item)\n",
    "print('index of the value 100.9 is ', mylist3.index(100.9))\n",
    "print(\"index of the value 'A String' is \",mylist3.index('A String'))\n",
    "\n",
    "print('\\n')\n",
    "\n",
    "\n",
    "### grab/extract [9,10] - is in index 3\n",
    "print(mylist3[3])\n",
    "\n",
    "### print the type of mylist3[3]\n",
    "print('type of mylist3[3] is', type(mylist3[3]))"
   ]
  },
  {
   "cell_type": "code",
   "execution_count": 15,
   "metadata": {},
   "outputs": [
    {
     "data": {
      "text/plain": [
       "[9, 10]"
      ]
     },
     "execution_count": 15,
     "metadata": {},
     "output_type": "execute_result"
    }
   ],
   "source": [
    "mylist3[3]"
   ]
  },
  {
   "cell_type": "code",
   "execution_count": 20,
   "metadata": {},
   "outputs": [
    {
     "data": {
      "text/plain": [
       "7"
      ]
     },
     "execution_count": 20,
     "metadata": {},
     "output_type": "execute_result"
    }
   ],
   "source": [
    "len(mylist3)"
   ]
  },
  {
   "cell_type": "markdown",
   "metadata": {},
   "source": [
    "### IndexError - list out of range error\n",
    "\n",
    "### during extracting elements individually, we need to specify indexes that are within the index range"
   ]
  },
  {
   "cell_type": "code",
   "execution_count": 22,
   "metadata": {},
   "outputs": [
    {
     "ename": "IndexError",
     "evalue": "list index out of range",
     "output_type": "error",
     "traceback": [
      "\u001b[1;31m---------------------------------------------------------------------------\u001b[0m",
      "\u001b[1;31mIndexError\u001b[0m                                Traceback (most recent call last)",
      "\u001b[1;32m<ipython-input-22-25d90ad43fd6>\u001b[0m in \u001b[0;36m<module>\u001b[1;34m()\u001b[0m\n\u001b[1;32m----> 1\u001b[1;33m \u001b[0mmylist3\u001b[0m\u001b[1;33m[\u001b[0m\u001b[1;36m9\u001b[0m\u001b[1;33m]\u001b[0m\u001b[1;33m\u001b[0m\u001b[0m\n\u001b[0m",
      "\u001b[1;31mIndexError\u001b[0m: list index out of range"
     ]
    }
   ],
   "source": [
    "mylist3[9]"
   ]
  },
  {
   "cell_type": "code",
   "execution_count": null,
   "metadata": {},
   "outputs": [],
   "source": [
    "mylist3[-1]"
   ]
  },
  {
   "cell_type": "code",
   "execution_count": 23,
   "metadata": {},
   "outputs": [
    {
     "data": {
      "text/plain": [
       "['A String', 100.9, 200, [9, 10], ['a', 'b'], [1, 2, 3], ['h', 'i', 'j']]"
      ]
     },
     "execution_count": 23,
     "metadata": {},
     "output_type": "execute_result"
    }
   ],
   "source": [
    "mylist3"
   ]
  },
  {
   "cell_type": "markdown",
   "metadata": {},
   "source": [
    "### extracting more than one element from list data \n",
    "   - using slice notation (start:stop,step) \n",
    "   - start - starting index from where we want to extract data\n",
    "   - stop  - ending index + 1\n",
    "   - step  - skip indexes"
   ]
  },
  {
   "cell_type": "code",
   "execution_count": 25,
   "metadata": {},
   "outputs": [
    {
     "data": {
      "text/plain": [
       "['A String', 100.9, 200, [9, 10], ['a', 'b'], [1, 2, 3], ['h', 'i', 'j']]"
      ]
     },
     "execution_count": 25,
     "metadata": {},
     "output_type": "execute_result"
    }
   ],
   "source": [
    "mylist3"
   ]
  },
  {
   "cell_type": "code",
   "execution_count": 24,
   "metadata": {
    "scrolled": true
   },
   "outputs": [
    {
     "data": {
      "text/plain": [
       "([9, 10], ['a', 'b'], ['h', 'i', 'j'])"
      ]
     },
     "execution_count": 24,
     "metadata": {},
     "output_type": "execute_result"
    }
   ],
   "source": [
    "### extracting more than one item randomly\n",
    "mylist3[3],mylist3[4],mylist3[6]"
   ]
  },
  {
   "cell_type": "code",
   "execution_count": 26,
   "metadata": {},
   "outputs": [
    {
     "data": {
      "text/plain": [
       "['A String', 100.9, 200, [9, 10], ['a', 'b'], [1, 2, 3], ['h', 'i', 'j']]"
      ]
     },
     "execution_count": 26,
     "metadata": {},
     "output_type": "execute_result"
    }
   ],
   "source": [
    "mylist3"
   ]
  },
  {
   "cell_type": "code",
   "execution_count": 28,
   "metadata": {},
   "outputs": [
    {
     "name": "stdout",
     "output_type": "stream",
     "text": [
      "['A String', 100.9, 200, [9, 10]]\n"
     ]
    }
   ],
   "source": [
    "### to grab 200 all the way till ['a','b']\n",
    "### start = 2, stop =5 (goes upto index 5 but does not include index 5)\n",
    "print(mylist3[0:4])"
   ]
  },
  {
   "cell_type": "code",
   "execution_count": 30,
   "metadata": {},
   "outputs": [
    {
     "name": "stdout",
     "output_type": "stream",
     "text": [
      "[200, [9, 10], ['a', 'b'], [1, 2, 3], ['h', 'i', 'j']]\n"
     ]
    }
   ],
   "source": [
    "### grab all elements from index 2 till the end\n",
    "print(mylist3[2:7])\n"
   ]
  },
  {
   "cell_type": "code",
   "execution_count": null,
   "metadata": {},
   "outputs": [],
   "source": [
    "mylist3[:]"
   ]
  },
  {
   "cell_type": "code",
   "execution_count": 33,
   "metadata": {},
   "outputs": [
    {
     "name": "stdout",
     "output_type": "stream",
     "text": [
      "[200, [9, 10], ['a', 'b'], [1, 2, 3], ['h', 'i', 'j']]\n"
     ]
    }
   ],
   "source": [
    "print(mylist3[2:70])"
   ]
  },
  {
   "cell_type": "code",
   "execution_count": null,
   "metadata": {},
   "outputs": [],
   "source": [
    "### grab all the elements from index 2 till the end\n",
    "mylist3[2:8] \n",
    "\n",
    "### note that during slice notation, the ending index can be anything even out of range\n",
    "### note that even though there is no 7 indexes , the slice notation works because, it stops at the last element in the list\n"
   ]
  },
  {
   "cell_type": "code",
   "execution_count": null,
   "metadata": {},
   "outputs": [],
   "source": []
  },
  {
   "cell_type": "code",
   "execution_count": 34,
   "metadata": {},
   "outputs": [
    {
     "name": "stdout",
     "output_type": "stream",
     "text": [
      "['A String', 100.9, 200, [9, 10], ['a', 'b'], [1, 2, 3], ['h', 'i', 'j']]\n"
     ]
    }
   ],
   "source": [
    "### grab index 2 to index4\n",
    "print(mylist3[:])"
   ]
  },
  {
   "cell_type": "markdown",
   "metadata": {},
   "source": [
    "### Slice Notation -  Use of Step parameter"
   ]
  },
  {
   "cell_type": "code",
   "execution_count": 50,
   "metadata": {},
   "outputs": [
    {
     "name": "stdout",
     "output_type": "stream",
     "text": [
      "['A String', 100.9, 200, [9, 10], ['a', 'b'], [1, 2, 3], ['h', 'i', 'j']]\n"
     ]
    }
   ],
   "source": [
    "### step helps in skipping elements\n",
    "print(mylist3)\n"
   ]
  },
  {
   "cell_type": "code",
   "execution_count": 51,
   "metadata": {},
   "outputs": [
    {
     "name": "stdout",
     "output_type": "stream",
     "text": [
      "['A String', 200, ['a', 'b'], ['h', 'i', 'j']]\n"
     ]
    }
   ],
   "source": [
    "print(mylist3[0:70:2])   ### skips "
   ]
  },
  {
   "cell_type": "markdown",
   "metadata": {},
   "source": [
    "##### Reverse Indexes in Lists"
   ]
  },
  {
   "cell_type": "code",
   "execution_count": 41,
   "metadata": {},
   "outputs": [
    {
     "name": "stdout",
     "output_type": "stream",
     "text": [
      "['A String', 100.9, 200, [9, 10], ['a', 'b'], [1, 2, 3], ['h', 'i', 'j']]\n",
      "['h', 'i', 'j']\n"
     ]
    }
   ],
   "source": [
    "print(mylist3)\n",
    "print(mylist3[6])"
   ]
  },
  {
   "cell_type": "code",
   "execution_count": 42,
   "metadata": {},
   "outputs": [
    {
     "name": "stdout",
     "output_type": "stream",
     "text": [
      "['h', 'i', 'j']\n",
      "['a', 'b']\n"
     ]
    }
   ],
   "source": [
    "### reverse index example\n",
    "### prints the last element\n",
    "print(mylist3[-1])\n",
    "\n",
    "### prints the 3rd last element in the list\n",
    "print(mylist3[-3])"
   ]
  },
  {
   "cell_type": "code",
   "execution_count": 49,
   "metadata": {},
   "outputs": [
    {
     "data": {
      "text/plain": [
       "[200]"
      ]
     },
     "execution_count": 49,
     "metadata": {},
     "output_type": "execute_result"
    }
   ],
   "source": [
    "mylist3[-5:-4]"
   ]
  },
  {
   "cell_type": "code",
   "execution_count": 52,
   "metadata": {},
   "outputs": [
    {
     "data": {
      "text/plain": [
       "['A String', 100.9, 200, [9, 10], ['a', 'b'], [1, 2, 3], ['h', 'i', 'j']]"
      ]
     },
     "execution_count": 52,
     "metadata": {},
     "output_type": "execute_result"
    }
   ],
   "source": [
    "mylist3"
   ]
  },
  {
   "cell_type": "markdown",
   "metadata": {},
   "source": [
    "### accessing elements within nested list\n",
    "\n",
    " - listname[index in mainlist][index in nested list]\n",
    " - works with indexes and reverse indexes"
   ]
  },
  {
   "cell_type": "code",
   "execution_count": 53,
   "metadata": {},
   "outputs": [
    {
     "data": {
      "text/plain": [
       "['A String', 100.9, 200, [9, 10], ['a', 'b'], [1, 2, 3], ['h', 'i', 'j']]"
      ]
     },
     "execution_count": 53,
     "metadata": {},
     "output_type": "execute_result"
    }
   ],
   "source": [
    "mylist3"
   ]
  },
  {
   "cell_type": "code",
   "execution_count": 55,
   "metadata": {},
   "outputs": [
    {
     "data": {
      "text/plain": [
       "'j'"
      ]
     },
     "execution_count": 55,
     "metadata": {},
     "output_type": "execute_result"
    }
   ],
   "source": [
    "### grab h of nested list ['h','i','j']\n",
    "mylist3[6][2]"
   ]
  },
  {
   "cell_type": "code",
   "execution_count": 57,
   "metadata": {},
   "outputs": [
    {
     "data": {
      "text/plain": [
       "'j'"
      ]
     },
     "execution_count": 57,
     "metadata": {},
     "output_type": "execute_result"
    }
   ],
   "source": [
    "### grab h in the  nested list ['h','i','j'], using reverse index  \n",
    "mylist3[-1][-1]"
   ]
  },
  {
   "cell_type": "code",
   "execution_count": null,
   "metadata": {},
   "outputs": [],
   "source": [
    "### grab j  of the nested list ['h','i','j']\n",
    "mylist3[6][2]"
   ]
  },
  {
   "cell_type": "code",
   "execution_count": null,
   "metadata": {},
   "outputs": [],
   "source": [
    "### grab j  of the nested list ['h','i','j'] using reverse index\n",
    "mylist3[-1][-1]"
   ]
  },
  {
   "cell_type": "code",
   "execution_count": null,
   "metadata": {},
   "outputs": [],
   "source": []
  },
  {
   "cell_type": "markdown",
   "metadata": {},
   "source": [
    "###### List data extraction using selection - select set of items from the list"
   ]
  },
  {
   "cell_type": "code",
   "execution_count": 60,
   "metadata": {},
   "outputs": [
    {
     "data": {
      "text/plain": [
       "['A String', 100.9, 200, [9, 10], ['a', 'b'], [1, 2, 3], ['h', 'i', 'j']]"
      ]
     },
     "execution_count": 60,
     "metadata": {},
     "output_type": "execute_result"
    }
   ],
   "source": [
    "mylist3"
   ]
  },
  {
   "cell_type": "code",
   "execution_count": 61,
   "metadata": {},
   "outputs": [],
   "source": [
    "x=1\n",
    "y=2"
   ]
  },
  {
   "cell_type": "code",
   "execution_count": 62,
   "metadata": {},
   "outputs": [
    {
     "data": {
      "text/plain": [
       "100.9"
      ]
     },
     "execution_count": 62,
     "metadata": {},
     "output_type": "execute_result"
    }
   ],
   "source": [
    "mylist3[x]"
   ]
  },
  {
   "cell_type": "code",
   "execution_count": 64,
   "metadata": {},
   "outputs": [
    {
     "name": "stdout",
     "output_type": "stream",
     "text": [
      "[200, 9]\n",
      "<class 'list'>\n"
     ]
    }
   ],
   "source": [
    "### Extract 200 and 9\n",
    "xtup = [mylist3[2],mylist3[3][0]]\n",
    "\n",
    "print(xtup)\n",
    "print(type(xtup))\n",
    "### note the output is a tuple why?? because of the way we call the lists myslist3_temp"
   ]
  },
  {
   "cell_type": "code",
   "execution_count": null,
   "metadata": {},
   "outputs": [],
   "source": [
    "### Extract 200 and 9 --output as a list\n",
    "print(mylist3[2],mylist3[3][0])\n",
    "\n",
    "### note the output is a tuple why?? because of the way we call the lists myslist3_temp"
   ]
  },
  {
   "cell_type": "code",
   "execution_count": null,
   "metadata": {},
   "outputs": [],
   "source": []
  },
  {
   "cell_type": "code",
   "execution_count": null,
   "metadata": {},
   "outputs": [],
   "source": [
    "### \n",
    "mylist3"
   ]
  },
  {
   "cell_type": "code",
   "execution_count": null,
   "metadata": {},
   "outputs": [],
   "source": [
    "### extract 200,10 from mylist3\n",
    "print( [mylist3[2],mylist3[3][1]] )\n",
    " "
   ]
  },
  {
   "cell_type": "code",
   "execution_count": null,
   "metadata": {},
   "outputs": [],
   "source": []
  },
  {
   "cell_type": "code",
   "execution_count": null,
   "metadata": {},
   "outputs": [],
   "source": [
    "### grab [9,10] and 'b'\n",
    "print(mylist3)\n",
    "print( [mylist3[3],mylist3[4][1]] )\n"
   ]
  },
  {
   "cell_type": "code",
   "execution_count": null,
   "metadata": {},
   "outputs": [],
   "source": []
  },
  {
   "cell_type": "code",
   "execution_count": null,
   "metadata": {},
   "outputs": [],
   "source": []
  },
  {
   "cell_type": "code",
   "execution_count": null,
   "metadata": {},
   "outputs": [],
   "source": []
  },
  {
   "cell_type": "markdown",
   "metadata": {},
   "source": [
    "### list operations\n",
    "\n",
    "###### List Concatenation\n",
    "- when a list gets added with another list its called as \"list concatenation\"\n",
    "- a list cannot be added with any other data type\n",
    "\n",
    "###### List multiplication\n",
    "  - when a list is multiplied with a number, it simply duplicates the list \n",
    "\n",
    "\n",
    "##### Arithmetic Additions/Subtractions in List\n",
    "-- can only be done at an element level. not at the whole list level\n",
    "-- adding two full lists will result in list concatenation"
   ]
  },
  {
   "cell_type": "code",
   "execution_count": null,
   "metadata": {},
   "outputs": [],
   "source": []
  },
  {
   "cell_type": "code",
   "execution_count": 75,
   "metadata": {},
   "outputs": [
    {
     "data": {
      "text/plain": [
       "['A String',\n",
       " 100.9,\n",
       " 200,\n",
       " [9, 10],\n",
       " ['a', 'b'],\n",
       " [1, 2, 3],\n",
       " ['h', 'i', 'j'],\n",
       " 'A String',\n",
       " 100.9,\n",
       " 200,\n",
       " [9, 10],\n",
       " ['a', 'b'],\n",
       " [1, 2, 3],\n",
       " ['h', 'i', 'j'],\n",
       " 'A String',\n",
       " 100.9,\n",
       " 200,\n",
       " [9, 10],\n",
       " ['a', 'b'],\n",
       " [1, 2, 3],\n",
       " ['h', 'i', 'j']]"
      ]
     },
     "execution_count": 75,
     "metadata": {},
     "output_type": "execute_result"
    }
   ],
   "source": [
    "mylist3 * 3"
   ]
  },
  {
   "cell_type": "code",
   "execution_count": 69,
   "metadata": {},
   "outputs": [
    {
     "data": {
      "text/plain": [
       "['A String',\n",
       " 100.9,\n",
       " 200,\n",
       " [9, 10],\n",
       " ['a', 'b'],\n",
       " [1, 2, 3],\n",
       " ['h', 'i', 'j'],\n",
       " 'A String',\n",
       " 100.9,\n",
       " 200,\n",
       " [9, 10],\n",
       " ['a', 'b'],\n",
       " [1, 2, 3],\n",
       " ['h', 'i', 'j']]"
      ]
     },
     "execution_count": 69,
     "metadata": {},
     "output_type": "execute_result"
    }
   ],
   "source": [
    "mylist3 + mylist3"
   ]
  },
  {
   "cell_type": "code",
   "execution_count": 71,
   "metadata": {},
   "outputs": [
    {
     "data": {
      "text/plain": [
       "list"
      ]
     },
     "execution_count": 71,
     "metadata": {},
     "output_type": "execute_result"
    }
   ],
   "source": [
    "type(mylist3[3])"
   ]
  },
  {
   "cell_type": "code",
   "execution_count": 67,
   "metadata": {},
   "outputs": [
    {
     "ename": "TypeError",
     "evalue": "must be str, not list",
     "output_type": "error",
     "traceback": [
      "\u001b[1;31m---------------------------------------------------------------------------\u001b[0m",
      "\u001b[1;31mTypeError\u001b[0m                                 Traceback (most recent call last)",
      "\u001b[1;32m<ipython-input-67-2c6abddc1e08>\u001b[0m in \u001b[0;36m<module>\u001b[1;34m()\u001b[0m\n\u001b[0;32m      1\u001b[0m \u001b[1;31m### adding 2 lists will result in a concatenation\u001b[0m\u001b[1;33m\u001b[0m\u001b[1;33m\u001b[0m\u001b[0m\n\u001b[1;32m----> 2\u001b[1;33m \u001b[0mmylist3\u001b[0m\u001b[1;33m[\u001b[0m\u001b[1;36m0\u001b[0m\u001b[1;33m]\u001b[0m \u001b[1;33m+\u001b[0m \u001b[0mmylist3\u001b[0m\u001b[1;33m[\u001b[0m\u001b[1;36m3\u001b[0m\u001b[1;33m]\u001b[0m\u001b[1;33m\u001b[0m\u001b[0m\n\u001b[0m\u001b[0;32m      3\u001b[0m \u001b[1;33m\u001b[0m\u001b[0m\n\u001b[0;32m      4\u001b[0m \u001b[1;31m### 2 nested lists have been concatenated\u001b[0m\u001b[1;33m\u001b[0m\u001b[1;33m\u001b[0m\u001b[0m\n",
      "\u001b[1;31mTypeError\u001b[0m: must be str, not list"
     ]
    }
   ],
   "source": [
    "### adding 2 lists will result in a concatenation\n",
    "mylist3[0] + mylist3[3]\n",
    "\n",
    "### 2 nested lists have been concatenated"
   ]
  },
  {
   "cell_type": "code",
   "execution_count": null,
   "metadata": {},
   "outputs": [],
   "source": [
    "mylist3[0] + mylist3[3][0]"
   ]
  },
  {
   "cell_type": "code",
   "execution_count": null,
   "metadata": {},
   "outputs": [],
   "source": [
    "### this will give error\n",
    "\n",
    "mylist3[2] + mylist3[3]"
   ]
  },
  {
   "cell_type": "code",
   "execution_count": null,
   "metadata": {},
   "outputs": [],
   "source": [
    "### list operation\n",
    "print(mylist3)\n",
    "\n",
    "### add 200 from index 2 and 9 from the list in index 3 \n",
    "\n",
    "print(mylist3[2] + mylist3[3][0])\n",
    "\n"
   ]
  },
  {
   "cell_type": "code",
   "execution_count": null,
   "metadata": {},
   "outputs": [],
   "source": [
    "mylist_z = mylist3[3][0]\n",
    "print(mylist_z)"
   ]
  },
  {
   "cell_type": "code",
   "execution_count": null,
   "metadata": {},
   "outputs": [],
   "source": [
    "print(mylist3[2] + mylist_z)"
   ]
  },
  {
   "cell_type": "markdown",
   "metadata": {},
   "source": [
    "### Multiplication operations in list\n",
    " -  lists can be muliplied with integers\n",
    " -  this will result in duplication of list items based on the integer multiplied\n",
    " -  lists cannot be directly multiplied with another list\n",
    " -  lists cannot be multiplied with floats"
   ]
  },
  {
   "cell_type": "code",
   "execution_count": null,
   "metadata": {},
   "outputs": [],
   "source": [
    "mylist41 = [1,2,100]\n",
    "mylist42 = mylist41 * 2\n",
    "print(mylist42)\n",
    "print(type(mylist42))\n",
    "\n",
    "### note that the list mylist41 is repeated 2 times"
   ]
  },
  {
   "cell_type": "markdown",
   "metadata": {},
   "source": [
    "### Additions/Subtractions in List\n",
    "-- can only be done at an element level. not at the whole list level\n",
    "-- adding two full lists will result in list concatenation"
   ]
  },
  {
   "cell_type": "code",
   "execution_count": 84,
   "metadata": {},
   "outputs": [],
   "source": [
    "mylist30 = ['A String', 100.9, 200, [9, 10], ['a', 'b'], [1, 2, 3],[100,200],['h', 'i', 'j'],999] "
   ]
  },
  {
   "cell_type": "code",
   "execution_count": 78,
   "metadata": {},
   "outputs": [
    {
     "name": "stdout",
     "output_type": "stream",
     "text": [
      "1199\n"
     ]
    }
   ],
   "source": [
    "print(mylist30[2] + mylist30[8])  \n",
    "\n",
    "### both the list elements are integers and hence addition was possible\n"
   ]
  },
  {
   "cell_type": "markdown",
   "metadata": {},
   "source": [
    "#### LIST DELETION"
   ]
  },
  {
   "cell_type": "code",
   "execution_count": 79,
   "metadata": {},
   "outputs": [
    {
     "data": {
      "text/plain": [
       "['A String',\n",
       " 100.9,\n",
       " 200,\n",
       " [9, 10],\n",
       " ['a', 'b'],\n",
       " [1, 2, 3],\n",
       " [100, 200],\n",
       " ['h', 'i', 'j'],\n",
       " 999]"
      ]
     },
     "execution_count": 79,
     "metadata": {},
     "output_type": "execute_result"
    }
   ],
   "source": [
    "mylist30"
   ]
  },
  {
   "cell_type": "code",
   "execution_count": 80,
   "metadata": {},
   "outputs": [],
   "source": [
    "### deleting one item from a list- let us say we want ot delete the item \"A String\" from the list mylist30\n",
    "del mylist30[0]"
   ]
  },
  {
   "cell_type": "code",
   "execution_count": 81,
   "metadata": {},
   "outputs": [
    {
     "data": {
      "text/plain": [
       "[100.9, 200, [9, 10], ['a', 'b'], [1, 2, 3], [100, 200], ['h', 'i', 'j'], 999]"
      ]
     },
     "execution_count": 81,
     "metadata": {},
     "output_type": "execute_result"
    }
   ],
   "source": [
    "mylist30\n",
    "### element : in index 0 got deleted "
   ]
  },
  {
   "cell_type": "code",
   "execution_count": null,
   "metadata": {},
   "outputs": [],
   "source": [
    "### deleting multiple items from list using del key word and slice notation\n",
    "### say we want to delete 100.9 thru [9.10]\n",
    "del mylist30[0:3]"
   ]
  },
  {
   "cell_type": "code",
   "execution_count": 86,
   "metadata": {},
   "outputs": [
    {
     "data": {
      "text/plain": [
       "['A String',\n",
       " 100.9,\n",
       " 200,\n",
       " [9, 10],\n",
       " ['a', 'b'],\n",
       " [1, 2, 3],\n",
       " [100, 200],\n",
       " ['h', 'i', 'j'],\n",
       " 999]"
      ]
     },
     "execution_count": 86,
     "metadata": {},
     "output_type": "execute_result"
    }
   ],
   "source": [
    "mylist30"
   ]
  },
  {
   "cell_type": "code",
   "execution_count": 88,
   "metadata": {},
   "outputs": [],
   "source": [
    "mylist30[2] = 20000"
   ]
  },
  {
   "cell_type": "code",
   "execution_count": 90,
   "metadata": {},
   "outputs": [
    {
     "name": "stdout",
     "output_type": "stream",
     "text": [
      "['A String', 100.9, 20000, [9, 10], ['a', 'b'], [1, 2, 3], [100, 200], ['h', 'i', 'j'], 999]\n"
     ]
    }
   ],
   "source": [
    "print(mylist30)"
   ]
  },
  {
   "cell_type": "code",
   "execution_count": 92,
   "metadata": {},
   "outputs": [],
   "source": [
    "mylist30 = [1,2]"
   ]
  },
  {
   "cell_type": "code",
   "execution_count": null,
   "metadata": {},
   "outputs": [],
   "source": []
  },
  {
   "cell_type": "code",
   "execution_count": 82,
   "metadata": {},
   "outputs": [],
   "source": [
    "### delete entire list\n",
    "del mylist30\n"
   ]
  },
  {
   "cell_type": "code",
   "execution_count": 83,
   "metadata": {},
   "outputs": [
    {
     "ename": "NameError",
     "evalue": "name 'mylist30' is not defined",
     "output_type": "error",
     "traceback": [
      "\u001b[1;31m---------------------------------------------------------------------------\u001b[0m",
      "\u001b[1;31mNameError\u001b[0m                                 Traceback (most recent call last)",
      "\u001b[1;32m<ipython-input-83-45948c815fb8>\u001b[0m in \u001b[0;36m<module>\u001b[1;34m()\u001b[0m\n\u001b[1;32m----> 1\u001b[1;33m \u001b[0mmylist30\u001b[0m\u001b[1;33m\u001b[0m\u001b[0m\n\u001b[0m",
      "\u001b[1;31mNameError\u001b[0m: name 'mylist30' is not defined"
     ]
    }
   ],
   "source": [
    "mylist30"
   ]
  },
  {
   "cell_type": "markdown",
   "metadata": {},
   "source": [
    "### List Transformations\n",
    " - Transforming a list to string"
   ]
  },
  {
   "cell_type": "code",
   "execution_count": 95,
   "metadata": {},
   "outputs": [
    {
     "name": "stdout",
     "output_type": "stream",
     "text": [
      "first python class\n",
      "<class 'str'>\n",
      "18\n"
     ]
    }
   ],
   "source": [
    "mystring = 'first python class'\n",
    "\n",
    "print(mystring)\n",
    "\n",
    "print(type(mystring))\n",
    "print(len(mystring))"
   ]
  },
  {
   "cell_type": "code",
   "execution_count": 108,
   "metadata": {},
   "outputs": [
    {
     "name": "stdout",
     "output_type": "stream",
     "text": [
      "['f', 'i', 'r', 's', 't', ' ', 'p', 'y', 't', 'h', 'o', 'n', ' ', 'c', 'l', 'a', 's', 's']\n",
      "<class 'list'>\n",
      "18\n"
     ]
    }
   ],
   "source": [
    "### convert mystring to a list using \"list\" built in function\n",
    "mylistnew = list(mystring)\n",
    "print(mylistnew)\n",
    "\n",
    "### type of mylistnew\n",
    "print(type(mylistnew))\n",
    "\n",
    "## length of mylistnew\n",
    "print(len(mylistnew))"
   ]
  },
  {
   "cell_type": "code",
   "execution_count": 109,
   "metadata": {},
   "outputs": [
    {
     "data": {
      "text/plain": [
       "['f',\n",
       " 'i',\n",
       " 'r',\n",
       " 's',\n",
       " 't',\n",
       " ' ',\n",
       " 'p',\n",
       " 'y',\n",
       " 't',\n",
       " 'h',\n",
       " 'o',\n",
       " 'n',\n",
       " ' ',\n",
       " 'c',\n",
       " 'l',\n",
       " 'a',\n",
       " 's',\n",
       " 's']"
      ]
     },
     "execution_count": 109,
     "metadata": {},
     "output_type": "execute_result"
    }
   ],
   "source": [
    "mylistnew"
   ]
  },
  {
   "cell_type": "code",
   "execution_count": 102,
   "metadata": {},
   "outputs": [
    {
     "data": {
      "text/plain": [
       "['f',\n",
       " 'i',\n",
       " 'r',\n",
       " 's',\n",
       " 't',\n",
       " ' ',\n",
       " 'p',\n",
       " 'y',\n",
       " 't',\n",
       " 'h',\n",
       " 'o',\n",
       " 'n',\n",
       " ' ',\n",
       " 'c',\n",
       " 'l',\n",
       " 'a',\n",
       " 's',\n",
       " 's']"
      ]
     },
     "execution_count": 102,
     "metadata": {},
     "output_type": "execute_result"
    }
   ],
   "source": [
    "list(mystring)"
   ]
  },
  {
   "cell_type": "code",
   "execution_count": 105,
   "metadata": {},
   "outputs": [],
   "source": [
    "xstring = str(mylistnew)"
   ]
  },
  {
   "cell_type": "code",
   "execution_count": 107,
   "metadata": {},
   "outputs": [
    {
     "name": "stdout",
     "output_type": "stream",
     "text": [
      "<class 'str'>\n"
     ]
    }
   ],
   "source": [
    " print(type(xstring))"
   ]
  },
  {
   "cell_type": "code",
   "execution_count": null,
   "metadata": {},
   "outputs": [],
   "source": [
    "###CONVERTING A STRING TO LIST\n",
    "mystring30 = \"first python class\"\n",
    "print(mystring30)\n",
    "print(type(mystring30))\n",
    "\n",
    "### converting string to list\n",
    "mystring30.split()\n"
   ]
  },
  {
   "cell_type": "code",
   "execution_count": null,
   "metadata": {},
   "outputs": [],
   "source": [
    "###\n",
    "print(type(mystring30))"
   ]
  },
  {
   "cell_type": "code",
   "execution_count": null,
   "metadata": {},
   "outputs": [],
   "source": [
    "###alternate way of converting a string to list forcibly\n",
    "print(list(mystring30))\n",
    "\n"
   ]
  },
  {
   "cell_type": "code",
   "execution_count": null,
   "metadata": {},
   "outputs": [],
   "source": [
    "### Note that both list function and .split method will apply only for that specific execution\n",
    "### the actual value and type of mystring30 will be intact post the operation"
   ]
  },
  {
   "cell_type": "code",
   "execution_count": null,
   "metadata": {},
   "outputs": [],
   "source": [
    "\n",
    "print(type(mystring30))\n",
    "print(mystring30)"
   ]
  },
  {
   "cell_type": "code",
   "execution_count": null,
   "metadata": {},
   "outputs": [],
   "source": []
  },
  {
   "cell_type": "code",
   "execution_count": null,
   "metadata": {},
   "outputs": [],
   "source": [
    "mylist9 = [1,2,3]\n",
    "mylist10 = [1,'a','b']\n",
    "mylist11 = mylist9 + mylist10\n",
    "print(mylist11)"
   ]
  },
  {
   "cell_type": "code",
   "execution_count": null,
   "metadata": {},
   "outputs": [],
   "source": [
    "print(mylist3)"
   ]
  },
  {
   "cell_type": "markdown",
   "metadata": {},
   "source": [
    "###### MUTABILITY OF LISTS\n",
    "###### LISTS ARE MUTABLE"
   ]
  },
  {
   "cell_type": "code",
   "execution_count": null,
   "metadata": {},
   "outputs": [],
   "source": [
    "mylist3"
   ]
  },
  {
   "cell_type": "code",
   "execution_count": null,
   "metadata": {},
   "outputs": [],
   "source": [
    "mylist3[2]"
   ]
  },
  {
   "cell_type": "code",
   "execution_count": null,
   "metadata": {},
   "outputs": [],
   "source": [
    "## update value in index 2 (200) to \"40000\"\n",
    "mylist3[2] = 400000\n",
    "print(mylist3)\n",
    "\n",
    "### LISTS ARE MUTABLE"
   ]
  },
  {
   "cell_type": "code",
   "execution_count": null,
   "metadata": {},
   "outputs": [],
   "source": [
    "mylistop = ['a','b','c',100]"
   ]
  },
  {
   "cell_type": "code",
   "execution_count": null,
   "metadata": {},
   "outputs": [],
   "source": [
    "### list operation through multiplication\n",
    "print(mylistop * 4)"
   ]
  },
  {
   "cell_type": "markdown",
   "metadata": {},
   "source": [
    "### built in methods in list"
   ]
  },
  {
   "cell_type": "code",
   "execution_count": 110,
   "metadata": {},
   "outputs": [
    {
     "name": "stdout",
     "output_type": "stream",
     "text": [
      "[10, 200, 203, 200, 303, 'ex1', [5, 'a'], 600, 9]\n"
     ]
    }
   ],
   "source": [
    "#### List methods \n",
    "mylist12 = [10,200,203,200,303,'ex1',[5,'a'],600,9]\n",
    "print(mylist12)"
   ]
  },
  {
   "cell_type": "code",
   "execution_count": null,
   "metadata": {},
   "outputs": [],
   "source": []
  },
  {
   "cell_type": "markdown",
   "metadata": {},
   "source": [
    "##### append method\n",
    " - appends an item to the end of the list"
   ]
  },
  {
   "cell_type": "code",
   "execution_count": 111,
   "metadata": {},
   "outputs": [],
   "source": [
    "### to know all the built-in methods in a list use tab key after the list name\n",
    "## mylist12.\"hit tab key\""
   ]
  },
  {
   "cell_type": "code",
   "execution_count": 112,
   "metadata": {},
   "outputs": [
    {
     "data": {
      "text/plain": [
       "[10, 200, 203, 200, 303, 'ex1', [5, 'a'], 600, 9]"
      ]
     },
     "execution_count": 112,
     "metadata": {},
     "output_type": "execute_result"
    }
   ],
   "source": [
    "mylist12"
   ]
  },
  {
   "cell_type": "code",
   "execution_count": 119,
   "metadata": {},
   "outputs": [
    {
     "name": "stdout",
     "output_type": "stream",
     "text": [
      "[10, 200, 200, 303, 'ex1', [5, 'a'], 600, 9, 100, 103, 100]\n"
     ]
    }
   ],
   "source": [
    "### append an item 100 to the list\n",
    "mylist12.append(100)\n",
    "print(mylist12)"
   ]
  },
  {
   "cell_type": "code",
   "execution_count": null,
   "metadata": {},
   "outputs": [],
   "source": [
    " "
   ]
  },
  {
   "cell_type": "code",
   "execution_count": 117,
   "metadata": {},
   "outputs": [],
   "source": [
    "mylist12[-1] = 103"
   ]
  },
  {
   "cell_type": "code",
   "execution_count": 120,
   "metadata": {},
   "outputs": [
    {
     "data": {
      "text/plain": [
       "[10, 200, 200, 303, 'ex1', [5, 'a'], 600, 9, 100, 103, 100]"
      ]
     },
     "execution_count": 120,
     "metadata": {},
     "output_type": "execute_result"
    }
   ],
   "source": [
    "mylist12"
   ]
  },
  {
   "cell_type": "code",
   "execution_count": 121,
   "metadata": {},
   "outputs": [
    {
     "data": {
      "text/plain": [
       "103"
      ]
     },
     "execution_count": 121,
     "metadata": {},
     "output_type": "execute_result"
    }
   ],
   "source": [
    "mylist12.pop(-2)"
   ]
  },
  {
   "cell_type": "markdown",
   "metadata": {},
   "source": [
    "##### .pop method\n",
    "- permanently removes an element from the list\n",
    "- expects an index of the element to be passed within the .pop method\n",
    "- if no index is given, it removes the element in the last index by default\n"
   ]
  },
  {
   "cell_type": "code",
   "execution_count": 122,
   "metadata": {},
   "outputs": [
    {
     "name": "stdout",
     "output_type": "stream",
     "text": [
      "[10, 200, 200, 303, 'ex1', [5, 'a'], 600, 9, 100, 100]\n"
     ]
    }
   ],
   "source": [
    "print(mylist12)"
   ]
  },
  {
   "cell_type": "code",
   "execution_count": 114,
   "metadata": {},
   "outputs": [
    {
     "name": "stdout",
     "output_type": "stream",
     "text": [
      "203\n"
     ]
    }
   ],
   "source": [
    "###pop the specific element and prints the removed item\n",
    "### by default .pop removes the last item in the list and displays it\n",
    "print(mylist12.pop(2))\n"
   ]
  },
  {
   "cell_type": "code",
   "execution_count": null,
   "metadata": {},
   "outputs": [],
   "source": [
    "### check if the popped item is permanently removed from list\n",
    "mylist12"
   ]
  },
  {
   "cell_type": "code",
   "execution_count": 125,
   "metadata": {},
   "outputs": [
    {
     "name": "stdout",
     "output_type": "stream",
     "text": [
      "[10, 200, '6667', 200, 303, 'ex1', [5, 'a'], 9, 100, 100]\n"
     ]
    }
   ],
   "source": [
    "### to pop specific item 600 from the list , we need to specify the index of the element that we want to pop\n",
    "print(mylist12)\n"
   ]
  },
  {
   "cell_type": "markdown",
   "metadata": {},
   "source": [
    "## Insert method"
   ]
  },
  {
   "cell_type": "code",
   "execution_count": 124,
   "metadata": {},
   "outputs": [
    {
     "data": {
      "text/plain": [
       "600"
      ]
     },
     "execution_count": 124,
     "metadata": {},
     "output_type": "execute_result"
    }
   ],
   "source": [
    "mylist12.pop(-4)"
   ]
  },
  {
   "cell_type": "code",
   "execution_count": 126,
   "metadata": {},
   "outputs": [
    {
     "name": "stdout",
     "output_type": "stream",
     "text": [
      "[10, 200, '600', '6667', 200, 303, 'ex1', [5, 'a'], 9, 100, 100]\n"
     ]
    }
   ],
   "source": [
    "### insert into a list\n",
    "mylist12.insert(2,'600')\n",
    "print(mylist12)"
   ]
  },
  {
   "cell_type": "markdown",
   "metadata": {},
   "source": [
    "######  remove method\n",
    "- permanently removes an item from the list\n",
    "- unlike pop method, the exact item value has to be passed as argument/parameter"
   ]
  },
  {
   "cell_type": "code",
   "execution_count": null,
   "metadata": {},
   "outputs": [],
   "source": [
    "print(mylist12)"
   ]
  },
  {
   "cell_type": "code",
   "execution_count": null,
   "metadata": {},
   "outputs": [],
   "source": [
    "### to remove 303\n",
    "mylist12.remove(200)\n"
   ]
  },
  {
   "cell_type": "code",
   "execution_count": null,
   "metadata": {},
   "outputs": [],
   "source": [
    "### check list after remove to verify 303 is removed\n",
    "mylist12"
   ]
  },
  {
   "cell_type": "code",
   "execution_count": null,
   "metadata": {},
   "outputs": [],
   "source": [
    "### giving any value outside the list will give error\n",
    "mylist12.remove(1)"
   ]
  },
  {
   "cell_type": "code",
   "execution_count": null,
   "metadata": {},
   "outputs": [],
   "source": [
    "## LISTS and Files"
   ]
  },
  {
   "cell_type": "code",
   "execution_count": 24,
   "metadata": {},
   "outputs": [
    {
     "name": "stdout",
     "output_type": "stream",
     "text": [
      "START_DATE* END_DATE* CATEGORY*\n",
      "1/1/2016 21:11 1/1/2016 21:17 Business\n",
      "1/2/2016 1:25 1/2/2016 1:37 Business\n",
      "1/2/2016 20:25 1/2/2016 20:38 Business\n",
      "1/5/2016 17:31 1/5/2016 17:45 Business\n",
      "1/6/2016 14:42 1/6/2016 15:49 Business\n",
      "1/6/2016 17:15 1/6/2016 17:19 Business\n",
      "1/6/2016 17:30 1/6/2016 17:35 Business\n",
      "1/7/2016 13:27 1/7/2016 13:33 Business\n",
      "1/10/2016 8:05 1/10/2016 8:25 Business\n",
      "1/10/2016 12:17 1/10/2016 12:44 Business\n",
      "1/10/2016 15:08 1/10/2016 15:51 Business\n",
      "1/10/2016 18:18 1/10/2016 18:53 Business\n",
      "1/10/2016 19:12 1/10/2016 19:32 Business\n",
      "1/11/2016 8:55 1/11/2016 9:21 Business\n",
      "1/11/2016 11:56 1/11/2016 12:03 Business\n",
      "1/11/2016 13:32 1/11/2016 13:46 Business\n",
      "1/11/2016 14:30 1/11/2016 14:43 Business\n",
      "1/12/2016 12:33 1/12/2016 12:49 Business\n",
      "1/12/2016 12:53 1/12/2016 13:09 Business\n",
      "1/12/2016 14:42 1/12/2016 14:56 Business\n",
      "1/12/2016 15:13 1/12/2016 15:28 Business\n",
      "1/12/2016 15:42 1/12/2016 15:54 Business\n",
      "1/12/2016 16:02 1/12/2016 17:00 Business\n",
      "1/13/2016 13:54 1/13/2016 14:07 Business\n",
      "1/13/2016 15:00 1/13/2016 15:28 Business\n",
      "1/14/2016 16:29 1/14/2016 17:05 Business\n",
      "1/14/2016 21:39 1/14/2016 21:45 Business\n",
      "1/15/2016 0:41 1/15/2016 1:01 Business\n",
      "1/15/2016 11:43 1/15/2016 12:03 Business\n",
      "1/15/2016 13:26 1/15/2016 13:44 Business\n",
      "1/18/2016 14:55 1/18/2016 15:06 Business\n",
      "1/18/2016 16:13 1/18/2016 16:24 Business\n",
      "1/19/2016 9:09 1/19/2016 9:23 Business\n",
      "1/19/2016 10:55 1/19/2016 11:09 Business\n",
      "1/20/2016 10:36 1/20/2016 11:11 Business\n",
      "1/20/2016 11:48 1/20/2016 12:19 Business\n",
      "1/20/2016 13:25 1/20/2016 14:19 Business\n",
      "1/21/2016 14:25 1/21/2016 14:29 Business\n",
      "1/21/2016 14:43 1/21/2016 14:51 Business\n",
      "1/21/2016 16:01 1/21/2016 16:06 Business\n",
      "1/26/2016 10:41 1/26/2016 10:50 Business\n",
      "1/26/2016 12:33 1/26/2016 12:41 Business\n",
      "1/26/2016 16:24 1/26/2016 16:32 Business\n",
      "1/26/2016 17:17 1/26/2016 17:22 Business\n",
      "1/26/2016 17:27 1/26/2016 17:29 Business\n",
      "1/27/2016 9:24 1/27/2016 9:31 Business\n",
      "1/27/2016 10:19 1/27/2016 10:48 Business\n",
      "1/27/2016 12:34 1/27/2016 12:44 Business\n",
      "1/27/2016 14:05 1/27/2016 14:13 Business\n",
      "1/27/2016 14:46 1/27/2016 15:08 Business\n",
      "1/28/2016 12:28 1/28/2016 13:00 Business\n",
      "1/28/2016 15:11 1/28/2016 15:31 Business\n",
      "1/28/2016 16:21 1/28/2016 16:51 Business\n",
      "1/29/2016 9:31 1/29/2016 9:45 Business\n",
      "1/29/2016 10:56 1/29/2016 11:07 Business\n",
      "1/29/2016 11:43 1/29/2016 12:03 Business\n",
      "1/29/2016 13:24 1/29/2016 13:47 Business\n",
      "1/29/2016 18:31 1/29/2016 18:52 Business\n",
      "1/29/2016 21:21 1/29/2016 21:40 Business\n",
      "1/30/2016 16:21 1/30/2016 16:33 Business\n",
      "1/30/2016 18:09 1/30/2016 18:24 Business\n",
      "2/1/2016 10:35 2/1/2016 11:15 Business\n",
      "2/1/2016 12:10 2/1/2016 12:43 Business\n",
      "2/1/2016 12:56 2/1/2016 13:07 Business\n",
      "2/2/2016 13:04 2/2/2016 13:23 Business\n",
      "2/2/2016 13:51 2/2/2016 14:06 Business\n",
      "2/2/2016 14:38 2/2/2016 14:42 Business\n",
      "2/4/2016 8:40 2/4/2016 9:01 Business\n",
      "2/4/2016 9:37 2/4/2016 10:09 Business\n",
      "2/4/2016 10:26 2/4/2016 10:32 Business\n",
      "2/4/2016 15:59 2/4/2016 16:03 Business\n",
      "2/4/2016 16:35 2/4/2016 16:39 Business\n",
      "2/4/2016 18:04 2/4/2016 18:31 Business\n",
      "2/4/2016 20:36 2/4/2016 20:55 Business\n",
      "2/5/2016 11:47 2/5/2016 12:07 Business\n",
      "2/5/2016 13:22 2/5/2016 13:41 Business\n",
      "2/6/2016 16:20 2/6/2016 16:53 Business\n",
      "2/6/2016 18:57 2/6/2016 19:21 Business\n",
      "2/6/2016 19:28 2/6/2016 19:37 Business\n",
      "2/7/2016 16:49 2/7/2016 17:01 Business\n",
      "2/7/2016 18:03 2/7/2016 18:17 Business\n",
      "2/7/2016 18:39 2/7/2016 18:53 Business\n",
      "2/7/2016 20:22 2/7/2016 20:40 Business\n",
      "2/8/2016 12:57 2/8/2016 13:08 Business\n",
      "2/8/2016 14:00 2/8/2016 14:10 Business\n",
      "2/9/2016 10:54 2/9/2016 11:07 Personal\n",
      "2/9/2016 11:43 2/9/2016 11:50 Personal\n",
      "2/9/2016 13:36 2/9/2016 13:52 Personal\n",
      "2/9/2016 13:58 2/9/2016 14:02 Personal\n",
      "2/9/2016 18:55 2/9/2016 19:11 Business\n",
      "2/9/2016 20:24 2/9/2016 20:40 Business\n",
      "2/11/2016 16:28 2/11/2016 17:10 Business\n",
      "2/11/2016 17:49 2/11/2016 18:10 Business\n",
      "2/11/2016 18:24 2/11/2016 18:46 Business\n",
      "2/11/2016 20:36 2/11/2016 20:51 Business\n",
      "2/12/2016 8:21 2/12/2016 8:42 Business\n",
      "2/12/2016 10:45 2/12/2016 10:52 Business\n",
      "2/12/2016 11:14 2/12/2016 11:35 Business\n",
      "2/12/2016 13:02 2/12/2016 13:36 Business\n",
      "2/12/2016 14:49 2/12/2016 15:06 Business\n",
      "2/12/2016 15:33 2/12/2016 16:06 Business\n",
      "2/13/2016 14:21 2/13/2016 14:41 Business\n",
      "2/13/2016 23:45 2/14/2016 0:01 Personal\n",
      "2/14/2016 0:50 2/14/2016 1:00 Personal\n",
      "2/14/2016 14:07 2/14/2016 14:40 Business\n",
      "2/14/2016 14:46 2/14/2016 15:03 Business\n",
      "2/14/2016 16:35 2/14/2016 17:02 Business\n",
      "2/14/2016 17:06 2/14/2016 17:29 Business\n",
      "2/16/2016 3:21 2/16/2016 4:13 Business\n",
      "2/16/2016 8:29 2/16/2016 9:34 Business\n",
      "2/16/2016 10:31 2/16/2016 10:41 Business\n",
      "2/16/2016 11:32 2/16/2016 12:02 Business\n",
      "2/16/2016 12:39 2/16/2016 12:42 Business\n",
      "2/16/2016 13:43 2/16/2016 13:55 Business\n",
      "2/16/2016 16:34 2/16/2016 17:10 Business\n",
      "2/16/2016 17:17 2/16/2016 17:26 Business\n",
      "2/16/2016 17:40 2/16/2016 17:44 Business\n",
      "2/17/2016 13:18 2/17/2016 14:04 Business\n",
      "2/17/2016 15:17 2/17/2016 15:22 Business\n",
      "2/17/2016 15:33 2/17/2016 16:17 Business\n",
      "2/17/2016 16:38 2/17/2016 16:43 Business\n",
      "2/18/2016 8:19 2/18/2016 8:27 Business\n",
      "2/18/2016 14:03 2/18/2016 14:45 Business\n",
      "2/18/2016 15:16 2/18/2016 15:31 Business\n",
      "2/18/2016 18:44 2/18/2016 18:58 Business\n",
      "2/18/2016 19:27 2/18/2016 20:08 Business\n",
      "2/19/2016 9:02 2/19/2016 9:14 Business\n",
      "2/19/2016 9:21 2/19/2016 9:51 Business\n",
      "2/19/2016 10:21 2/19/2016 10:48 Business\n",
      "2/19/2016 11:20 2/19/2016 11:26 Personal\n",
      "2/19/2016 11:45 2/19/2016 11:50 Personal\n",
      "2/19/2016 12:09 2/19/2016 12:27 Business\n",
      "2/19/2016 16:26 2/19/2016 16:45 Business\n",
      "2/19/2016 17:09 2/19/2016 17:20 Business\n",
      "2/19/2016 20:08 2/19/2016 20:30 Personal\n",
      "2/19/2016 20:34 2/19/2016 20:51 Personal\n",
      "2/20/2016 7:59 2/20/2016 8:32 Personal\n",
      "2/20/2016 10:48 2/20/2016 10:56 Personal\n",
      "2/20/2016 11:45 2/20/2016 11:53 Personal\n",
      "2/20/2016 12:41 2/20/2016 13:17 Business\n",
      "2/20/2016 14:50 2/20/2016 15:54 Business\n",
      "2/20/2016 16:59 2/20/2016 17:54 Personal\n",
      "2/20/2016 18:00 2/20/2016 18:03 Business\n",
      "2/20/2016 19:28 2/20/2016 19:49 Business\n",
      "2/21/2016 9:07 2/21/2016 9:46 Business\n",
      "2/21/2016 11:39 2/21/2016 11:43 Business\n",
      "2/21/2016 11:47 2/21/2016 12:01 Business\n",
      "2/21/2016 12:13 2/21/2016 12:35 Business\n",
      "2/21/2016 12:51 2/21/2016 13:12 Business\n",
      "2/21/2016 13:33 2/21/2016 14:30 Business\n",
      "2/21/2016 14:36 2/21/2016 15:03 Business\n",
      "2/21/2016 15:14 2/21/2016 15:31 Business\n",
      "2/21/2016 15:36 2/21/2016 15:41 Business\n",
      "2/21/2016 16:04 2/21/2016 16:32 Business\n",
      "2/21/2016 23:15 2/21/2016 23:52 Business\n",
      "2/22/2016 21:54 2/22/2016 22:09 Business\n",
      "2/24/2016 14:30 2/24/2016 14:35 Business\n",
      "2/24/2016 15:19 2/24/2016 15:25 Business\n",
      "2/25/2016 16:27 2/25/2016 16:35 Business\n",
      "2/25/2016 16:47 2/25/2016 17:02 Business\n",
      "2/25/2016 17:16 2/25/2016 17:36 Business\n",
      "2/25/2016 18:22 2/25/2016 18:39 Business\n",
      "2/26/2016 9:06 2/26/2016 9:29 Business\n",
      "2/26/2016 11:05 2/26/2016 11:11 Personal\n",
      "2/26/2016 11:35 2/26/2016 11:59 Business\n",
      "2/26/2016 13:01 2/26/2016 13:24 Business\n",
      "2/26/2016 14:38 2/26/2016 14:46 Personal\n",
      "2/26/2016 15:00 2/26/2016 15:18 Personal\n",
      "2/26/2016 17:01 2/26/2016 17:12 Personal\n",
      "2/28/2016 5:22 2/28/2016 5:38 Business\n",
      "2/28/2016 9:26 2/28/2016 9:42 Business\n",
      "2/29/2016 11:07 2/29/2016 11:14 Personal\n",
      "2/29/2016 11:30 2/29/2016 11:40 Business\n",
      "2/29/2016 12:36 2/29/2016 12:48 Business\n",
      "2/29/2016 14:55 2/29/2016 15:03 Business\n",
      "2/29/2016 16:40 2/29/2016 17:00 Business\n",
      "3/1/2016 18:47 3/1/2016 19:10 Business\n",
      "3/1/2016 21:27 3/1/2016 21:45 Business\n",
      "3/3/2016 9:45 3/3/2016 9:52 Personal\n",
      "3/3/2016 11:04 3/3/2016 11:10 Business\n",
      "3/3/2016 14:44 3/3/2016 14:58 Business\n",
      "3/3/2016 15:27 3/3/2016 15:48 Business\n",
      "3/3/2016 16:02 3/3/2016 16:42 Business\n",
      "3/4/2016 7:47 3/4/2016 8:06 Business\n",
      "3/4/2016 9:46 3/4/2016 10:03 Business\n",
      "3/4/2016 11:46 3/4/2016 12:06 Business\n",
      "3/4/2016 13:03 3/4/2016 13:25 Business\n",
      "3/4/2016 13:40 3/4/2016 14:09 Business\n",
      "3/4/2016 15:56 3/4/2016 16:08 Business\n",
      "3/4/2016 16:16 3/4/2016 16:22 Business\n",
      "3/4/2016 16:43 3/4/2016 17:12 Business\n",
      "3/4/2016 19:02 3/4/2016 19:08 Business\n",
      "3/4/2016 19:16 3/4/2016 19:25 Business\n",
      "3/5/2016 11:44 3/5/2016 11:59 Business\n",
      "3/5/2016 12:57 3/5/2016 13:12 Personal\n",
      "3/5/2016 14:08 3/5/2016 14:18 Personal\n",
      "3/5/2016 14:39 3/5/2016 15:01 Business\n",
      "3/5/2016 16:52 3/5/2016 17:13 Business\n",
      "3/5/2016 17:23 3/5/2016 17:34 Business\n",
      "3/7/2016 9:10 3/7/2016 9:20 Business\n",
      "3/7/2016 9:23 3/7/2016 9:47 Business\n",
      "3/7/2016 12:10 3/7/2016 12:26 Business\n",
      "3/7/2016 13:57 3/7/2016 14:18 Business\n",
      "3/7/2016 15:19 3/7/2016 15:45 Business\n",
      "3/8/2016 14:38 3/8/2016 14:55 Business\n",
      "3/8/2016 15:35 3/8/2016 16:00 Business\n",
      "3/8/2016 16:13 3/8/2016 16:25 Personal\n",
      "3/10/2016 3:36 3/10/2016 3:53 Business\n",
      "3/10/2016 10:08 3/10/2016 10:37 Business\n",
      "3/10/2016 14:39 3/10/2016 14:55 Business\n",
      "3/10/2016 16:18 3/10/2016 16:28 Business\n",
      "3/11/2016 9:47 3/11/2016 9:59 Business\n",
      "3/11/2016 10:29 3/11/2016 10:36 Business\n",
      "3/11/2016 11:57 3/11/2016 12:04 Business\n",
      "3/11/2016 13:43 3/11/2016 13:51 Business\n",
      "3/11/2016 19:21 3/11/2016 19:35 Business\n",
      "3/12/2016 9:13 3/12/2016 9:22 Business\n",
      "3/12/2016 18:27 3/12/2016 18:37 Personal\n",
      "3/13/2016 9:07 3/13/2016 9:37 Business\n",
      "3/13/2016 18:23 3/13/2016 18:43 Business\n",
      "3/13/2016 20:07 3/13/2016 20:28 Business\n",
      "3/13/2016 20:39 3/13/2016 20:58 Business\n",
      "3/13/2016 21:11 3/13/2016 21:23 Business\n",
      "3/13/2016 22:19 3/13/2016 22:39 Business\n",
      "3/14/2016 8:34 3/14/2016 8:49 Business\n",
      "3/14/2016 18:39 3/14/2016 18:55 Business\n",
      "3/15/2016 8:45 3/15/2016 8:57 Business\n",
      "3/15/2016 20:48 3/15/2016 21:01 Business\n",
      "3/16/2016 11:34 3/16/2016 11:45 Business\n",
      "3/16/2016 14:44 3/16/2016 14:55 Business\n",
      "3/16/2016 18:43 3/16/2016 18:56 Business\n",
      "3/17/2016 0:33 3/17/2016 0:44 Personal\n",
      "3/17/2016 12:52 3/17/2016 15:11 Business\n",
      "3/17/2016 15:16 3/17/2016 15:58 Business\n",
      "3/17/2016 17:20 3/17/2016 18:02 Business\n",
      "3/17/2016 18:47 3/17/2016 19:09 Personal\n",
      "3/17/2016 20:57 3/17/2016 21:28 Personal\n",
      "3/17/2016 21:48 3/17/2016 22:04 Personal\n",
      "3/18/2016 7:15 3/18/2016 7:21 Business\n",
      "3/18/2016 8:35 3/18/2016 8:43 Business\n",
      "3/18/2016 18:24 3/18/2016 19:08 Business\n",
      "3/18/2016 19:23 3/18/2016 19:29 Business\n",
      "3/18/2016 21:01 3/18/2016 21:15 Business\n",
      "3/19/2016 9:10 3/19/2016 9:25 Business\n",
      "3/19/2016 12:50 3/19/2016 13:13 Business\n",
      "3/19/2016 14:01 3/19/2016 14:57 Business\n",
      "3/19/2016 15:34 3/19/2016 16:38 Business\n",
      "3/19/2016 17:17 3/19/2016 17:32 Business\n",
      "3/19/2016 17:37 3/19/2016 17:47 Business\n",
      "3/19/2016 17:52 3/19/2016 18:00 Business\n",
      "3/19/2016 18:53 3/19/2016 19:29 Business\n",
      "3/19/2016 19:33 3/19/2016 20:39 Business\n",
      "3/20/2016 7:37 3/20/2016 7:48 Business\n",
      "3/20/2016 11:42 3/20/2016 11:56 Business\n",
      "3/20/2016 17:08 3/20/2016 17:34 Business\n",
      "3/20/2016 18:34 3/20/2016 18:40 Personal\n",
      "3/20/2016 18:45 3/20/2016 19:06 Business\n",
      "3/21/2016 10:21 3/21/2016 10:26 Personal\n",
      "3/21/2016 16:05 3/21/2016 16:13 Business\n",
      "3/21/2016 18:59 3/21/2016 19:15 Business\n",
      "3/21/2016 20:18 3/21/2016 20:55 Business\n",
      "3/22/2016 6:17 3/22/2016 6:43 Business\n",
      "3/22/2016 12:06 3/22/2016 12:24 Personal\n",
      "3/22/2016 19:12 3/22/2016 19:25 Personal\n",
      "3/23/2016 14:37 3/23/2016 14:42 Personal\n",
      "3/23/2016 14:53 3/23/2016 14:59 Personal\n",
      "3/24/2016 19:47 3/24/2016 19:54 Personal\n",
      "3/24/2016 20:34 3/24/2016 20:40 Business\n",
      "3/25/2016 13:24 3/25/2016 16:22 Business\n",
      "3/25/2016 16:52 3/25/2016 22:22 Business\n",
      "3/25/2016 22:54 3/26/2016 1:39 Business\n",
      "3/26/2016 14:05 3/26/2016 14:29 Personal\n",
      "3/26/2016 15:19 3/26/2016 15:49 Personal\n",
      "3/26/2016 16:26 3/26/2016 16:30 Personal\n",
      "3/27/2016 0:31 3/27/2016 0:40 Business\n",
      "3/27/2016 1:11 3/27/2016 1:23 Business\n",
      "3/27/2016 15:31 3/27/2016 15:56 Business\n",
      "3/27/2016 21:26 3/27/2016 21:41 Personal\n",
      "3/27/2016 23:04 3/27/2016 23:18 Personal\n",
      "3/28/2016 12:29 3/28/2016 12:42 Personal\n",
      "3/28/2016 19:30 3/28/2016 20:23 Personal\n",
      "3/28/2016 22:55 3/28/2016 23:26 Personal\n",
      "3/29/2016 15:27 3/29/2016 16:11 Personal\n",
      "3/29/2016 18:20 3/29/2016 18:39 Personal\n",
      "3/29/2016 20:29 3/29/2016 20:44 Personal\n",
      "3/29/2016 23:04 3/29/2016 23:21 Personal\n",
      "3/30/2016 22:05 3/30/2016 22:55 Business\n",
      "3/31/2016 12:47 3/31/2016 13:22 Business\n",
      "3/31/2016 14:37 3/31/2016 15:09 Business\n",
      "4/1/2016 13:43 4/1/2016 14:01 Business\n",
      "4/1/2016 14:36 4/1/2016 15:24 Business\n",
      "4/1/2016 16:01 4/1/2016 16:49 Business\n",
      "4/1/2016 16:52 4/1/2016 16:57 Personal\n",
      "4/2/2016 8:48 4/2/2016 9:04 Personal\n",
      "4/2/2016 11:01 4/2/2016 11:16 Personal\n",
      "4/2/2016 12:21 4/2/2016 14:47 Business\n",
      "4/2/2016 16:57 4/2/2016 18:09 Business\n",
      "4/2/2016 19:38 4/2/2016 22:36 Business\n",
      "4/2/2016 23:11 4/3/2016 1:34 Business\n",
      "4/3/2016 2:00 4/3/2016 4:16 Business\n",
      "4/5/2016 21:39 4/5/2016 21:55 Business\n",
      "4/6/2016 0:19 4/6/2016 0:39 Business\n",
      "4/7/2016 18:20 4/7/2016 18:39 Business\n",
      "4/7/2016 19:45 4/7/2016 20:00 Business\n",
      "4/8/2016 12:30 4/8/2016 12:48 Business\n",
      "4/8/2016 13:34 4/8/2016 13:51 Business\n",
      "4/8/2016 13:55 4/8/2016 14:03 Business\n",
      "4/8/2016 14:43 4/8/2016 15:20 Business\n",
      "4/8/2016 16:05 4/8/2016 16:47 Business\n",
      "4/12/2016 9:15 4/12/2016 9:26 Business\n",
      "4/12/2016 9:34 4/12/2016 9:53 Business\n",
      "4/12/2016 10:58 4/12/2016 11:18 Business\n",
      "4/12/2016 12:22 4/12/2016 12:44 Business\n",
      "4/12/2016 13:42 4/12/2016 14:01 Business\n",
      "4/14/2016 7:29 4/14/2016 8:09 Business\n",
      "4/14/2016 16:00 4/14/2016 16:43 Business\n",
      "4/15/2016 11:36 4/15/2016 12:07 Business\n",
      "4/15/2016 12:29 4/15/2016 12:32 Business\n",
      "4/15/2016 14:31 4/15/2016 15:01 Business\n",
      "4/16/2016 12:59 4/16/2016 13:17 Business\n",
      "4/16/2016 15:10 4/16/2016 15:26 Business\n",
      "4/19/2016 17:44 4/19/2016 18:08 Business\n",
      "4/19/2016 19:57 4/19/2016 20:19 Business\n",
      "4/22/2016 8:25 4/22/2016 9:04 Business\n",
      "4/22/2016 10:10 4/22/2016 10:40 Business\n",
      "4/22/2016 12:08 4/22/2016 12:28 Business\n",
      "4/22/2016 13:02 4/22/2016 13:26 Business\n",
      "4/23/2016 17:03 4/23/2016 17:16 Business\n",
      "4/23/2016 18:49 4/23/2016 19:05 Business\n",
      "4/24/2016 19:07 4/24/2016 19:16 Business\n",
      "4/24/2016 19:46 4/24/2016 19:52 Business\n",
      "4/24/2016 21:41 4/24/2016 21:50 Business\n",
      "4/27/2016 13:30 4/27/2016 13:40 Business\n",
      "4/27/2016 14:13 4/27/2016 14:25 Business\n",
      "4/28/2016 12:09 4/28/2016 12:34 Business\n",
      "4/28/2016 13:30 4/28/2016 13:49 Business\n",
      "4/28/2016 22:10 4/28/2016 22:28 Business\n",
      "4/29/2016 11:44 4/29/2016 12:01 Business\n",
      "4/29/2016 13:13 4/29/2016 13:34 Business\n",
      "4/29/2016 18:46 4/29/2016 19:18 Business\n",
      "4/29/2016 22:44 4/29/2016 23:19 Business\n",
      "4/30/2016 18:42 4/30/2016 18:57 Business\n",
      "4/30/2016 22:16 4/30/2016 22:34 Business\n",
      "5/1/2016 13:45 5/1/2016 13:53 Business\n",
      "5/1/2016 14:26 5/1/2016 14:31 Business\n",
      "5/1/2016 17:33 5/1/2016 17:45 Business\n",
      "5/1/2016 17:54 5/1/2016 18:10 Business\n",
      "5/1/2016 22:38 5/1/2016 22:49 Business\n",
      "5/2/2016 14:14 5/2/2016 14:21 Business\n",
      "5/2/2016 15:37 5/2/2016 15:48 Business\n",
      "5/3/2016 22:20 5/3/2016 22:28 Business\n",
      "5/4/2016 15:16 5/4/2016 15:37 Business\n",
      "5/4/2016 20:55 5/4/2016 21:14 Business\n",
      "5/4/2016 21:30 5/4/2016 21:36 Business\n",
      "5/4/2016 22:19 5/4/2016 22:27 Business\n",
      "5/5/2016 21:24 5/5/2016 21:36 Business\n",
      "5/5/2016 22:34 5/5/2016 22:40 Business\n",
      "5/5/2016 23:55 5/6/2016 0:08 Business\n",
      "5/6/2016 5:47 5/6/2016 6:02 Business\n",
      "5/6/2016 16:45 5/6/2016 16:59 Business\n",
      "5/6/2016 17:18 5/6/2016 17:44 Business\n",
      "5/9/2016 6:08 5/9/2016 6:25 Business\n",
      "5/9/2016 14:39 5/9/2016 15:06 Business\n",
      "5/9/2016 17:58 5/9/2016 18:26 Business\n",
      "5/9/2016 19:35 5/9/2016 19:59 Business\n",
      "5/10/2016 9:03 5/10/2016 9:20 Business\n",
      "5/10/2016 17:19 5/10/2016 17:31 Business\n",
      "5/11/2016 8:35 5/11/2016 9:12 Business\n",
      "5/11/2016 21:47 5/11/2016 22:04 Business\n",
      "5/14/2016 18:35 5/14/2016 18:39 Business\n",
      "5/14/2016 23:01 5/14/2016 23:05 Business\n",
      "5/17/2016 13:15 5/17/2016 13:23 Business\n",
      "5/17/2016 13:56 5/17/2016 14:08 Business\n",
      "5/17/2016 14:34 5/17/2016 14:40 Business\n",
      "5/18/2016 9:11 5/18/2016 9:41 Business\n",
      "5/18/2016 13:00 5/18/2016 13:02 Business\n",
      "5/19/2016 14:37 5/19/2016 15:01 Business\n",
      "5/20/2016 10:56 5/20/2016 11:07 Business\n",
      "5/20/2016 15:43 5/20/2016 16:12 Business\n",
      "5/22/2016 15:39 5/22/2016 15:46 Business\n",
      "5/22/2016 18:46 5/22/2016 18:53 Business\n",
      "5/23/2016 20:19 5/23/2016 20:27 Business\n",
      "5/23/2016 21:09 5/23/2016 21:21 Business\n",
      "5/27/2016 20:26 5/27/2016 20:30 Business\n",
      "5/27/2016 20:47 5/27/2016 20:53 Business\n",
      "5/27/2016 22:11 5/27/2016 22:14 Business\n",
      "5/28/2016 0:15 5/28/2016 0:21 Business\n",
      "5/28/2016 12:52 5/28/2016 13:06 Business\n",
      "5/28/2016 14:35 5/28/2016 15:04 Business\n",
      "5/31/2016 13:54 5/31/2016 14:41 Business\n",
      "5/31/2016 16:02 5/31/2016 16:39 Business\n",
      "5/31/2016 17:50 5/31/2016 17:59 Business\n",
      "6/1/2016 10:19 6/1/2016 10:47 Business\n",
      "6/1/2016 13:10 6/1/2016 13:39 Business\n",
      "6/3/2016 11:29 6/3/2016 11:49 Business\n",
      "6/3/2016 13:08 6/3/2016 13:38 Business\n",
      "6/3/2016 15:31 6/3/2016 15:54 Business\n",
      "6/3/2016 18:14 6/3/2016 18:29 Business\n",
      "6/3/2016 18:41 6/3/2016 18:53 Business\n",
      "6/3/2016 19:36 6/3/2016 19:42 Business\n",
      "6/3/2016 22:47 6/3/2016 23:06 Business\n",
      "6/5/2016 14:03 6/5/2016 14:33 Business\n",
      "6/5/2016 15:06 6/5/2016 15:22 Business\n",
      "6/5/2016 15:57 6/5/2016 16:08 Business\n",
      "6/5/2016 18:05 6/5/2016 18:14 Business\n",
      "6/5/2016 21:53 6/5/2016 22:05 Business\n",
      "6/5/2016 23:52 6/6/2016 0:08 Business\n",
      "6/6/2016 15:36 6/6/2016 15:45 Business\n",
      "6/6/2016 16:16 6/6/2016 16:24 Business\n",
      "6/6/2016 20:06 6/6/2016 20:20 Business\n",
      "6/6/2016 21:08 6/6/2016 21:37 Business\n",
      "6/6/2016 21:41 6/6/2016 22:00 Business\n",
      "6/6/2016 23:34 6/6/2016 23:48 Business\n",
      "6/7/2016 21:42 6/7/2016 22:00 Business\n",
      "6/7/2016 23:41 6/8/2016 0:04 Business\n",
      "6/8/2016 8:23 6/8/2016 8:53 Business\n",
      "6/8/2016 12:04 6/8/2016 13:01 Business\n",
      "6/8/2016 13:12 6/8/2016 13:29 Business\n",
      "6/8/2016 14:31 6/8/2016 14:37 Business\n",
      "6/8/2016 16:55 6/8/2016 17:11 Business\n",
      "6/8/2016 17:16 6/8/2016 17:18 Business\n",
      "6/8/2016 17:59 6/8/2016 18:05 Business\n",
      "6/8/2016 20:11 6/8/2016 20:25 Business\n",
      "6/10/2016 15:19 6/10/2016 16:28 Business\n",
      "6/10/2016 21:47 6/10/2016 22:04 Business\n",
      "6/10/2016 23:53 6/11/2016 0:01 Business\n",
      "6/11/2016 17:08 6/11/2016 17:16 Business\n",
      "6/11/2016 17:34 6/11/2016 17:39 Business\n",
      "6/11/2016 17:50 6/11/2016 17:56 Business\n",
      "6/11/2016 21:45 6/11/2016 22:04 Business\n",
      "6/11/2016 23:39 6/12/2016 0:05 Business\n",
      "6/12/2016 19:53 6/12/2016 19:56 Business\n",
      "6/12/2016 20:05 6/12/2016 20:16 Business\n",
      "6/12/2016 21:58 6/12/2016 22:19 Business\n",
      "6/13/2016 5:23 6/13/2016 5:42 Business\n",
      "6/13/2016 14:17 6/13/2016 14:46 Business\n",
      "6/13/2016 18:08 6/13/2016 18:47 Business\n",
      "6/13/2016 18:54 6/13/2016 19:23 Business\n",
      "6/13/2016 20:00 6/13/2016 20:05 Business\n",
      "6/14/2016 12:03 6/14/2016 12:21 Business\n",
      "6/14/2016 16:09 6/14/2016 16:39 Business\n",
      "6/14/2016 17:15 6/14/2016 17:24 Business\n",
      "6/14/2016 17:27 6/14/2016 17:57 Business\n",
      "6/15/2016 1:46 6/15/2016 2:06 Business\n",
      "6/15/2016 15:26 6/15/2016 15:34 Business\n",
      "6/15/2016 16:37 6/15/2016 17:02 Business\n",
      "6/15/2016 17:29 6/15/2016 17:49 Personal\n",
      "6/15/2016 19:52 6/15/2016 19:58 Business\n",
      "6/16/2016 13:36 6/16/2016 14:30 Business\n",
      "6/16/2016 14:42 6/16/2016 14:46 Business\n",
      "6/16/2016 15:17 6/16/2016 15:41 Business\n",
      "6/16/2016 19:39 6/16/2016 19:56 Business\n",
      "6/16/2016 21:43 6/16/2016 21:56 Business\n",
      "6/17/2016 16:11 6/17/2016 16:44 Business\n",
      "6/18/2016 0:29 6/18/2016 0:51 Business\n",
      "6/19/2016 2:39 6/19/2016 2:50 Business\n",
      "6/19/2016 5:51 6/19/2016 6:00 Business\n",
      "6/21/2016 15:39 6/21/2016 16:08 Business\n",
      "6/21/2016 17:11 6/21/2016 18:02 Business\n",
      "6/24/2016 10:41 6/24/2016 10:57 Business\n",
      "6/24/2016 11:54 6/24/2016 12:01 Business\n",
      "6/24/2016 12:19 6/24/2016 12:37 Business\n",
      "6/24/2016 12:50 6/24/2016 13:12 Business\n",
      "6/24/2016 13:18 6/24/2016 13:27 Business\n",
      "6/24/2016 14:01 6/24/2016 14:20 Business\n",
      "6/24/2016 20:44 6/24/2016 21:02 Business\n",
      "6/25/2016 9:03 6/25/2016 9:12 Business\n",
      "6/25/2016 9:15 6/25/2016 10:08 Business\n",
      "6/25/2016 10:18 6/25/2016 10:25 Business\n",
      "6/25/2016 10:50 6/25/2016 11:18 Business\n",
      "6/25/2016 11:25 6/25/2016 11:34 Business\n",
      "6/25/2016 11:53 6/25/2016 13:21 Business\n",
      "6/25/2016 19:47 6/25/2016 19:58 Business\n",
      "6/25/2016 23:19 6/25/2016 23:26 Business\n",
      "6/26/2016 17:43 6/26/2016 18:18 Business\n",
      "6/26/2016 18:45 6/26/2016 19:12 Business\n",
      "6/26/2016 19:41 6/26/2016 19:50 Business\n",
      "6/26/2016 21:14 6/26/2016 21:42 Business\n",
      "6/27/2016 7:37 6/27/2016 8:48 Business\n",
      "6/27/2016 8:51 6/27/2016 9:00 Business\n",
      "6/27/2016 9:05 6/27/2016 9:33 Business\n",
      "6/27/2016 9:43 6/27/2016 10:08 Business\n",
      "6/27/2016 10:22 6/27/2016 10:39 Business\n",
      "6/27/2016 10:51 6/27/2016 10:58 Business\n",
      "6/27/2016 11:06 6/27/2016 11:24 Business\n",
      "6/27/2016 11:30 6/27/2016 11:42 Business\n",
      "6/27/2016 12:22 6/27/2016 13:02 Business\n",
      "6/27/2016 13:56 6/27/2016 14:05 Business\n",
      "6/27/2016 21:09 6/27/2016 21:19 Business\n",
      "6/28/2016 0:48 6/28/2016 1:05 Business\n",
      "6/28/2016 20:13 6/28/2016 20:33 Business\n",
      "6/28/2016 23:34 6/28/2016 23:59 Business\n",
      "6/28/2016 23:34 6/28/2016 23:59 Business\n",
      "6/29/2016 8:56 6/29/2016 9:24 Business\n",
      "6/29/2016 10:22 6/29/2016 10:38 Business\n",
      "6/29/2016 11:49 6/29/2016 11:51 Business\n",
      "6/29/2016 12:11 6/29/2016 12:16 Business\n",
      "6/29/2016 20:11 6/29/2016 20:29 Business\n",
      "6/29/2016 23:38 6/30/2016 0:00 Business\n",
      "6/30/2016 20:09 6/30/2016 20:26 Business\n",
      "7/1/2016 0:00 7/1/2016 0:25 Business\n",
      "7/1/2016 9:34 7/1/2016 9:57 Business\n",
      "7/1/2016 12:36 7/1/2016 13:00 Business\n",
      "7/1/2016 20:06 7/1/2016 20:24 Business\n",
      "7/1/2016 23:48 7/2/2016 0:09 Business\n",
      "7/2/2016 20:18 7/2/2016 20:36 Business\n",
      "7/2/2016 23:48 7/3/2016 0:12 Business\n",
      "7/3/2016 0:28 7/3/2016 0:38 Business\n",
      "7/3/2016 3:02 7/3/2016 3:08 Business\n",
      "7/3/2016 20:00 7/3/2016 20:18 Business\n",
      "7/4/2016 0:32 7/4/2016 0:47 Business\n",
      "7/4/2016 17:31 7/4/2016 17:49 Business\n",
      "7/4/2016 18:23 7/4/2016 18:49 Business\n",
      "7/4/2016 20:00 7/4/2016 20:17 Business\n",
      "7/5/2016 0:00 7/5/2016 0:05 Business\n",
      "7/5/2016 0:08 7/5/2016 0:28 Business\n",
      "7/5/2016 16:48 7/5/2016 16:52 Business\n",
      "7/5/2016 20:06 7/5/2016 20:26 Business\n",
      "7/5/2016 22:41 7/5/2016 23:02 Business\n",
      "7/6/2016 0:33 7/6/2016 0:53 Business\n",
      "7/6/2016 9:06 7/6/2016 9:25 Business\n",
      "7/6/2016 12:48 7/6/2016 13:08 Business\n",
      "7/6/2016 20:04 7/6/2016 20:14 Business\n",
      "7/6/2016 23:46 7/6/2016 23:59 Business\n",
      "7/7/2016 8:22 7/7/2016 8:50 Business\n",
      "7/7/2016 10:27 7/7/2016 10:33 Business\n",
      "7/7/2016 12:59 7/7/2016 13:35 Business\n",
      "7/8/2016 9:50 7/8/2016 10:13 Business\n",
      "7/8/2016 10:51 7/8/2016 11:12 Business\n",
      "7/8/2016 13:48 7/8/2016 14:11 Business\n",
      "7/8/2016 17:11 7/8/2016 17:30 Business\n",
      "7/9/2016 9:03 7/9/2016 9:46 Business\n",
      "7/9/2016 9:52 7/9/2016 10:06 Business\n",
      "7/9/2016 10:15 7/9/2016 10:33 Business\n",
      "7/10/2016 14:10 7/10/2016 14:17 Business\n",
      "7/10/2016 16:04 7/10/2016 16:15 Business\n",
      "7/10/2016 18:05 7/10/2016 18:21 Business\n",
      "7/10/2016 19:51 7/10/2016 20:08 Business\n",
      "7/12/2016 16:10 7/12/2016 16:45 Business\n",
      "7/12/2016 19:21 7/12/2016 19:26 Personal\n",
      "7/12/2016 23:47 7/13/2016 0:11 Personal\n",
      "7/13/2016 12:39 7/13/2016 13:20 Personal\n",
      "7/13/2016 13:25 7/13/2016 13:39 Personal\n",
      "7/13/2016 13:42 7/13/2016 13:54 Personal\n",
      "7/14/2016 15:51 7/14/2016 15:59 Personal\n",
      "7/14/2016 16:03 7/14/2016 16:34 Business\n",
      "7/14/2016 16:39 7/14/2016 20:05 Business\n",
      "7/15/2016 11:32 7/15/2016 11:53 Personal\n",
      "7/15/2016 12:09 7/15/2016 12:19 Personal\n",
      "7/15/2016 12:35 7/15/2016 13:15 Personal\n",
      "7/15/2016 15:03 7/15/2016 15:33 Personal\n",
      "7/15/2016 15:40 7/15/2016 15:52 Personal\n",
      "7/16/2016 13:14 7/16/2016 14:10 Personal\n",
      "7/16/2016 14:14 7/16/2016 14:30 Personal\n",
      "7/16/2016 15:29 7/16/2016 16:57 Personal\n",
      "7/16/2016 19:42 7/16/2016 20:35 Personal\n",
      "7/16/2016 21:45 7/16/2016 22:18 Personal\n",
      "7/16/2016 22:50 7/16/2016 23:03 Business\n",
      "7/17/2016 11:23 7/17/2016 11:50 Personal\n",
      "7/17/2016 12:20 7/17/2016 15:25 Personal\n",
      "7/18/2016 10:37 7/18/2016 10:49 Personal\n",
      "7/18/2016 10:54 7/18/2016 11:15 Personal\n",
      "7/18/2016 11:25 7/18/2016 11:36 Personal\n",
      "7/18/2016 11:40 7/18/2016 11:56 Personal\n",
      "7/18/2016 17:12 7/18/2016 17:33 Business\n",
      "7/18/2016 18:32 7/18/2016 18:47 Business\n",
      "7/18/2016 19:07 7/18/2016 19:14 Business\n",
      "7/18/2016 20:28 7/18/2016 20:32 Business\n",
      "7/18/2016 21:11 7/18/2016 21:19 Business\n",
      "7/19/2016 10:35 7/19/2016 10:51 Business\n",
      "7/19/2016 10:56 7/19/2016 11:11 Business\n",
      "7/19/2016 11:30 7/19/2016 12:00 Business\n",
      "7/19/2016 17:14 7/19/2016 17:24 Business\n",
      "7/19/2016 17:50 7/19/2016 18:08 Personal\n",
      "7/20/2016 17:12 7/20/2016 17:24 Personal\n",
      "7/20/2016 17:50 7/20/2016 17:57 Personal\n",
      "7/20/2016 18:16 7/20/2016 18:20 Personal\n",
      "7/21/2016 17:17 7/21/2016 17:23 Business\n",
      "7/21/2016 17:42 7/21/2016 17:51 Business\n",
      "7/21/2016 18:27 7/21/2016 18:42 Business\n",
      "7/21/2016 19:30 7/21/2016 19:39 Business\n",
      "7/22/2016 10:42 7/22/2016 10:53 Business\n",
      "7/22/2016 11:11 7/22/2016 11:25 Business\n",
      "7/22/2016 11:37 7/22/2016 12:00 Business\n",
      "7/22/2016 12:14 7/22/2016 12:31 Business\n",
      "7/22/2016 13:21 7/22/2016 13:42 Business\n",
      "7/22/2016 14:27 7/22/2016 14:43 Business\n",
      "7/22/2016 15:49 7/22/2016 16:22 Business\n",
      "7/22/2016 18:33 7/22/2016 18:51 Business\n",
      "7/23/2016 14:27 7/23/2016 14:44 Business\n",
      "7/23/2016 14:48 7/23/2016 15:12 Business\n",
      "7/23/2016 15:15 7/23/2016 15:27 Business\n",
      "7/23/2016 15:50 7/23/2016 16:10 Business\n",
      "7/23/2016 20:17 7/23/2016 20:33 Business\n",
      "7/23/2016 23:18 7/23/2016 23:43 Business\n",
      "7/25/2016 10:35 7/25/2016 10:41 Business\n",
      "7/25/2016 10:47 7/25/2016 10:58 Business\n",
      "7/25/2016 11:04 7/25/2016 11:33 Business\n",
      "7/25/2016 11:37 7/25/2016 11:44 Business\n",
      "7/26/2016 15:43 7/26/2016 15:49 Business\n",
      "7/26/2016 17:14 7/26/2016 17:24 Business\n",
      "7/26/2016 20:52 7/26/2016 21:00 Business\n",
      "7/26/2016 22:31 7/26/2016 22:39 Business\n",
      "7/27/2016 19:08 7/27/2016 19:20 Business\n",
      "7/27/2016 21:34 7/27/2016 21:57 Business\n",
      "7/27/2016 22:00 7/27/2016 22:26 Business\n",
      "7/28/2016 0:04 7/28/2016 0:09 Business\n",
      "7/29/2016 15:45 7/29/2016 15:47 Business\n",
      "7/29/2016 17:27 7/29/2016 17:45 Business\n",
      "7/30/2016 17:02 7/30/2016 17:27 Business\n",
      "7/30/2016 21:16 7/30/2016 21:41 Business\n",
      "7/31/2016 17:30 7/31/2016 17:37 Business\n",
      "8/1/2016 12:47 8/1/2016 13:04 Business\n",
      "8/1/2016 13:08 8/1/2016 13:19 Business\n",
      "8/1/2016 13:28 8/1/2016 13:46 Business\n",
      "8/1/2016 13:52 8/1/2016 14:14 Business\n",
      "8/1/2016 15:40 8/1/2016 15:47 Business\n",
      "8/1/2016 16:18 8/1/2016 16:25 Business\n",
      "8/1/2016 16:29 8/1/2016 16:59 Business\n",
      "8/1/2016 17:23 8/1/2016 17:55 Business\n",
      "8/2/2016 8:11 8/2/2016 8:32 Business\n",
      "8/2/2016 11:51 8/2/2016 12:15 Business\n",
      "8/2/2016 19:15 8/2/2016 19:23 Business\n",
      "8/2/2016 21:23 8/2/2016 21:29 Business\n",
      "8/3/2016 12:46 8/3/2016 13:00 Business\n",
      "8/3/2016 14:59 8/3/2016 15:03 Business\n",
      "8/3/2016 16:00 8/3/2016 16:04 Business\n",
      "8/5/2016 17:23 8/5/2016 17:30 Business\n",
      "8/5/2016 18:17 8/5/2016 18:21 Business\n",
      "8/5/2016 19:17 8/5/2016 19:27 Business\n",
      "8/6/2016 6:40 8/6/2016 6:58 Business\n",
      "8/6/2016 9:31 8/6/2016 9:53 Business\n",
      "8/7/2016 17:14 8/7/2016 17:23 Business\n",
      "8/7/2016 17:28 8/7/2016 17:43 Business\n",
      "8/7/2016 18:17 8/7/2016 18:23 Business\n",
      "8/7/2016 20:15 8/7/2016 20:23 Business\n",
      "8/8/2016 16:17 8/8/2016 16:31 Business\n",
      "8/8/2016 16:37 8/8/2016 16:50 Business\n",
      "8/8/2016 17:02 8/8/2016 17:13 Business\n",
      "8/8/2016 21:50 8/8/2016 22:15 Business\n",
      "8/8/2016 23:28 8/8/2016 23:37 Business\n",
      "8/9/2016 14:20 8/9/2016 14:38 Business\n",
      "8/9/2016 15:15 8/9/2016 15:36 Business\n",
      "8/9/2016 16:04 8/9/2016 16:37 Business\n",
      "8/10/2016 16:56 8/10/2016 17:24 Business\n",
      "8/10/2016 17:53 8/10/2016 18:28 Business\n",
      "8/10/2016 18:49 8/10/2016 18:50 Business\n",
      "8/10/2016 19:47 8/10/2016 20:02 Business\n",
      "8/11/2016 12:53 8/11/2016 13:00 Business\n",
      "8/11/2016 13:14 8/11/2016 13:28 Business\n",
      "8/11/2016 13:32 8/11/2016 13:42 Business\n",
      "8/11/2016 18:37 8/11/2016 19:29 Business\n",
      "8/11/2016 20:59 8/11/2016 21:44 Business\n",
      "8/12/2016 18:49 8/12/2016 18:52 Business\n",
      "8/12/2016 18:56 8/12/2016 19:05 Business\n",
      "8/13/2016 15:35 8/13/2016 15:58 Business\n",
      "8/15/2016 9:05 8/15/2016 9:52 Business\n",
      "8/15/2016 15:20 8/15/2016 15:47 Business\n",
      "8/15/2016 16:52 8/15/2016 17:30 Business\n",
      "8/15/2016 19:08 8/15/2016 20:30 Business\n",
      "8/16/2016 7:58 8/16/2016 8:11 Business\n",
      "8/16/2016 8:16 8/16/2016 8:23 Business\n",
      "8/16/2016 8:46 8/16/2016 8:53 Business\n",
      "8/16/2016 10:06 8/16/2016 10:27 Business\n",
      "8/16/2016 10:31 8/16/2016 10:38 Business\n",
      "8/16/2016 11:47 8/16/2016 12:03 Business\n",
      "8/16/2016 15:13 8/16/2016 15:36 Business\n",
      "8/17/2016 10:17 8/17/2016 10:41 Business\n",
      "8/17/2016 10:57 8/17/2016 11:20 Business\n",
      "8/17/2016 14:45 8/17/2016 14:50 Business\n",
      "8/17/2016 15:32 8/17/2016 15:47 Business\n",
      "8/17/2016 16:29 8/17/2016 16:50 Business\n",
      "8/17/2016 16:54 8/17/2016 17:00 Business\n",
      "8/17/2016 17:05 8/17/2016 17:34 Business\n",
      "8/17/2016 18:38 8/17/2016 18:57 Business\n",
      "8/18/2016 18:40 8/18/2016 19:07 Business\n",
      "8/19/2016 8:24 8/19/2016 8:45 Business\n",
      "8/19/2016 8:54 8/19/2016 9:07 Business\n",
      "8/19/2016 9:27 8/19/2016 9:47 Business\n",
      "8/19/2016 10:57 8/19/2016 11:06 Business\n",
      "8/19/2016 12:07 8/19/2016 12:24 Business\n",
      "8/19/2016 15:51 8/19/2016 16:06 Business\n",
      "8/19/2016 17:12 8/19/2016 17:52 Business\n",
      "8/21/2016 10:00 8/21/2016 10:29 Business\n",
      "8/21/2016 14:05 8/21/2016 14:34 Business\n",
      "8/21/2016 16:30 8/21/2016 17:02 Business\n",
      "8/21/2016 18:10 8/21/2016 18:17 Business\n",
      "8/21/2016 18:48 8/21/2016 19:24 Business\n",
      "8/22/2016 10:00 8/22/2016 10:44 Business\n",
      "8/22/2016 11:07 8/22/2016 11:23 Business\n",
      "8/22/2016 12:36 8/22/2016 12:49 Business\n",
      "8/22/2016 13:02 8/22/2016 13:11 Business\n",
      "8/22/2016 14:07 8/22/2016 14:31 Business\n",
      "8/22/2016 15:14 8/22/2016 15:49 Business\n",
      "8/22/2016 15:59 8/22/2016 17:16 Business\n",
      "8/22/2016 19:58 8/22/2016 20:50 Business\n",
      "8/22/2016 20:53 8/22/2016 21:31 Business\n",
      "8/22/2016 22:31 8/22/2016 23:00 Business\n",
      "8/23/2016 8:10 8/23/2016 8:25 Business\n",
      "8/23/2016 9:35 8/23/2016 10:09 Business\n",
      "8/23/2016 12:59 8/23/2016 13:15 Business\n",
      "8/23/2016 13:19 8/23/2016 13:30 Business\n",
      "8/23/2016 13:49 8/23/2016 14:04 Business\n",
      "8/23/2016 15:07 8/23/2016 15:12 Business\n",
      "8/23/2016 15:15 8/23/2016 17:16 Business\n",
      "8/23/2016 17:42 8/23/2016 18:31 Business\n",
      "8/24/2016 12:05 8/24/2016 12:56 Business\n",
      "8/24/2016 13:01 8/24/2016 15:25 Business\n",
      "8/25/2016 15:17 8/25/2016 16:22 Business\n",
      "8/25/2016 16:36 8/25/2016 16:56 Business\n",
      "8/25/2016 17:19 8/25/2016 19:20 Business\n",
      "8/25/2016 19:25 8/25/2016 19:57 Business\n",
      "8/25/2016 22:58 8/25/2016 23:16 Business\n",
      "8/26/2016 9:06 8/26/2016 9:20 Business\n",
      "8/26/2016 11:14 8/26/2016 11:26 Business\n",
      "8/26/2016 12:10 8/26/2016 12:20 Business\n",
      "8/26/2016 14:10 8/26/2016 14:33 Business\n",
      "8/26/2016 15:23 8/26/2016 15:35 Business\n",
      "8/26/2016 15:59 8/26/2016 16:24 Business\n",
      "8/26/2016 16:55 8/26/2016 17:12 Business\n",
      "8/26/2016 18:42 8/26/2016 18:56 Business\n",
      "8/26/2016 19:31 8/26/2016 19:54 Business\n",
      "8/26/2016 20:06 8/26/2016 20:16 Business\n",
      "8/27/2016 9:34 8/27/2016 10:11 Business\n",
      "8/27/2016 11:47 8/27/2016 12:06 Business\n",
      "8/27/2016 12:12 8/27/2016 12:17 Business\n",
      "8/27/2016 14:01 8/27/2016 15:44 Business\n",
      "8/27/2016 16:15 8/27/2016 19:13 Business\n",
      "8/28/2016 9:57 8/28/2016 10:18 Business\n",
      "8/28/2016 16:39 8/28/2016 16:55 Business\n",
      "8/28/2016 17:37 8/28/2016 17:55 Business\n",
      "8/28/2016 21:15 8/28/2016 21:59 Business\n",
      "8/29/2016 12:02 8/29/2016 12:31 Business\n",
      "8/29/2016 13:38 8/29/2016 13:48 Business\n",
      "8/29/2016 14:31 8/29/2016 14:41 Business\n",
      "8/29/2016 14:49 8/29/2016 15:04 Business\n",
      "8/29/2016 15:49 8/29/2016 15:59 Business\n",
      "8/29/2016 16:06 8/29/2016 16:21 Business\n",
      "8/29/2016 17:24 8/29/2016 17:41 Business\n",
      "8/29/2016 18:27 8/29/2016 18:36 Business\n",
      "8/30/2016 11:53 8/30/2016 12:05 Business\n",
      "8/30/2016 12:46 8/30/2016 13:09 Business\n",
      "8/30/2016 13:25 8/30/2016 13:46 Business\n",
      "8/30/2016 14:00 8/30/2016 14:20 Business\n",
      "8/30/2016 17:27 8/30/2016 18:09 Business\n",
      "9/1/2016 11:51 9/1/2016 12:24 Business\n",
      "9/1/2016 17:21 9/1/2016 17:36 Business\n",
      "9/1/2016 18:49 9/1/2016 19:08 Business\n",
      "9/2/2016 11:37 9/2/2016 12:24 Business\n",
      "9/2/2016 18:56 9/2/2016 19:37 Business\n",
      "9/5/2016 10:25 9/5/2016 10:44 Business\n",
      "9/6/2016 17:49 9/6/2016 17:49 Business\n",
      "9/10/2016 10:28 9/10/2016 10:45 Business\n",
      "9/11/2016 9:51 9/11/2016 9:55 Business\n",
      "9/11/2016 21:40 9/11/2016 21:42 Business\n",
      "9/12/2016 8:07 9/12/2016 8:12 Business\n",
      "9/12/2016 11:15 9/12/2016 11:24 Business\n",
      "9/12/2016 13:04 9/12/2016 13:44 Business\n",
      "9/13/2016 16:56 9/13/2016 17:02 Business\n",
      "9/14/2016 11:55 9/14/2016 11:59 Business\n",
      "9/15/2016 20:33 9/15/2016 20:38 Business\n",
      "9/16/2016 7:08 9/16/2016 7:08 Business\n",
      "9/18/2016 18:07 9/18/2016 18:11 Business\n",
      "9/19/2016 6:18 9/19/2016 6:49 Business\n",
      "9/19/2016 14:40 9/19/2016 14:56 Business\n",
      "9/19/2016 16:23 9/19/2016 16:31 Business\n",
      "9/19/2016 17:36 9/19/2016 18:20 Business\n",
      "9/19/2016 19:10 9/19/2016 19:49 Business\n",
      "9/20/2016 11:29 9/20/2016 11:48 Business\n",
      "9/20/2016 20:47 9/20/2016 22:47 Business\n",
      "9/23/2016 13:15 9/23/2016 13:40 Business\n",
      "9/24/2016 14:34 9/24/2016 15:15 Business\n",
      "9/24/2016 20:29 9/24/2016 20:33 Business\n",
      "9/27/2016 8:33 9/27/2016 8:35 Business\n",
      "9/27/2016 13:21 9/27/2016 14:43 Business\n",
      "9/27/2016 19:14 9/27/2016 20:34 Business\n",
      "9/27/2016 21:01 9/28/2016 2:37 Business\n",
      "9/28/2016 17:21 9/28/2016 19:36 Business\n",
      "9/29/2016 16:13 9/29/2016 18:47 Business\n",
      "9/30/2016 17:39 9/30/2016 20:20 Business\n",
      "9/30/2016 20:59 9/30/2016 22:34 Business\n",
      "10/3/2016 17:09 10/3/2016 17:12 Business\n",
      "10/3/2016 18:17 10/3/2016 18:34 Business\n",
      "10/3/2016 18:51 10/3/2016 19:01 Business\n",
      "10/3/2016 22:04 10/3/2016 22:33 Business\n",
      "10/4/2016 9:50 10/4/2016 10:52 Business\n",
      "10/4/2016 12:17 10/4/2016 12:18 Business\n",
      "10/6/2016 8:49 10/6/2016 11:36 Business\n",
      "10/6/2016 17:23 10/6/2016 17:40 Business\n",
      "10/6/2016 18:37 10/6/2016 18:39 Business\n",
      "10/6/2016 19:46 10/6/2016 20:26 Business\n",
      "10/7/2016 10:56 10/7/2016 10:59 Business\n",
      "10/7/2016 11:27 10/7/2016 11:50 Business\n",
      "10/7/2016 13:52 10/7/2016 14:08 Business\n",
      "10/7/2016 14:29 10/7/2016 15:11 Business\n",
      "10/7/2016 15:47 10/7/2016 16:02 Business\n",
      "10/7/2016 18:08 10/7/2016 18:27 Business\n",
      "10/7/2016 18:33 10/7/2016 19:01 Business\n",
      "10/8/2016 15:03 10/8/2016 15:03 Business\n",
      "10/8/2016 18:15 10/8/2016 18:18 Business\n",
      "10/9/2016 14:04 10/9/2016 14:23 Business\n",
      "10/10/2016 17:22 10/10/2016 17:28 Business\n",
      "10/10/2016 17:33 10/10/2016 18:13 Business\n",
      "10/11/2016 1:27 10/11/2016 2:08 Business\n",
      "10/12/2016 19:18 10/12/2016 19:21 Business\n",
      "10/13/2016 11:20 10/13/2016 11:58 Business\n",
      "10/13/2016 12:08 10/13/2016 12:14 Business\n",
      "10/13/2016 13:02 10/13/2016 13:02 Business\n",
      "10/13/2016 13:37 10/13/2016 13:46 Business\n",
      "10/13/2016 16:08 10/13/2016 16:53 Business\n",
      "10/14/2016 8:50 10/14/2016 9:44 Business\n",
      "10/14/2016 10:16 10/14/2016 10:52 Business\n",
      "10/14/2016 15:56 10/14/2016 16:20 Business\n",
      "10/14/2016 23:54 10/15/2016 2:06 Business\n",
      "10/15/2016 22:28 10/15/2016 22:48 Business\n",
      "10/16/2016 0:01 10/16/2016 0:14 Business\n",
      "10/16/2016 12:52 10/16/2016 13:11 Business\n",
      "10/16/2016 14:40 10/16/2016 15:01 Business\n",
      "10/16/2016 15:10 10/16/2016 15:19 Business\n",
      "10/16/2016 19:27 10/16/2016 19:33 Business\n",
      "10/16/2016 20:30 10/16/2016 20:39 Business\n",
      "10/16/2016 21:34 10/16/2016 21:41 Business\n",
      "10/17/2016 15:19 10/17/2016 15:57 Business\n",
      "10/17/2016 16:29 10/17/2016 17:11 Business\n",
      "10/17/2016 18:02 10/17/2016 18:16 Business\n",
      "10/17/2016 18:31 10/17/2016 18:45 Business\n",
      "10/17/2016 19:08 10/17/2016 19:25 Business\n",
      "10/18/2016 8:12 10/18/2016 8:22 Business\n",
      "10/18/2016 8:53 10/18/2016 9:02 Business\n",
      "10/18/2016 10:41 10/18/2016 11:09 Business\n",
      "10/18/2016 18:12 10/18/2016 18:33 Business\n",
      "10/18/2016 19:03 10/18/2016 19:13 Business\n",
      "10/18/2016 20:31 10/18/2016 20:37 Business\n",
      "10/19/2016 9:33 10/19/2016 9:47 Business\n",
      "10/19/2016 9:54 10/19/2016 10:21 Business\n",
      "10/19/2016 13:45 10/19/2016 13:56 Business\n",
      "10/19/2016 14:02 10/19/2016 14:31 Business\n",
      "10/19/2016 15:44 10/19/2016 16:02 Business\n",
      "10/19/2016 16:06 10/19/2016 16:19 Business\n",
      "10/19/2016 16:33 10/19/2016 17:01 Business\n",
      "10/20/2016 11:26 10/20/2016 11:34 Business\n",
      "10/20/2016 12:19 10/20/2016 13:17 Business\n",
      "10/20/2016 20:44 10/20/2016 21:37 Business\n",
      "10/21/2016 10:06 10/21/2016 10:21 Business\n",
      "10/22/2016 0:54 10/22/2016 1:09 Business\n",
      "10/22/2016 13:26 10/22/2016 14:03 Business\n",
      "10/22/2016 17:08 10/22/2016 17:55 Business\n",
      "10/23/2016 9:24 10/23/2016 10:05 Business\n",
      "10/23/2016 12:17 10/23/2016 12:59 Business\n",
      "10/23/2016 19:04 10/23/2016 19:14 Business\n",
      "10/23/2016 21:10 10/23/2016 21:25 Business\n",
      "10/24/2016 14:57 10/24/2016 15:26 Business\n",
      "10/24/2016 15:33 10/24/2016 16:13 Business\n",
      "10/24/2016 16:34 10/24/2016 16:41 Business\n",
      "10/25/2016 13:27 10/25/2016 14:08 Business\n",
      "10/25/2016 15:04 10/25/2016 15:11 Business\n",
      "10/25/2016 15:16 10/25/2016 15:33 Business\n",
      "10/25/2016 20:00 10/25/2016 20:11 Business\n",
      "10/25/2016 20:54 10/25/2016 21:03 Business\n",
      "10/25/2016 22:24 10/25/2016 22:45 Business\n",
      "10/26/2016 19:25 10/26/2016 19:31 Business\n",
      "10/26/2016 20:53 10/26/2016 21:03 Business\n",
      "10/27/2016 18:51 10/27/2016 19:16 Business\n",
      "10/27/2016 19:20 10/27/2016 19:35 Business\n",
      "10/27/2016 19:52 10/27/2016 20:21 Business\n",
      "10/27/2016 20:47 10/27/2016 20:54 Business\n",
      "10/27/2016 21:26 10/27/2016 21:48 Business\n",
      "10/28/2016 11:34 10/28/2016 11:52 Business\n",
      "10/28/2016 13:06 10/28/2016 13:36 Business\n",
      "10/28/2016 15:53 10/28/2016 17:59 Business\n",
      "10/28/2016 18:13 10/28/2016 20:07 Business\n",
      "10/28/2016 20:13 10/28/2016 22:00 Business\n",
      "10/29/2016 15:22 10/29/2016 17:05 Business\n",
      "10/29/2016 17:13 10/29/2016 19:19 Business\n",
      "10/30/2016 7:49 10/30/2016 8:30 Business\n",
      "10/30/2016 9:07 10/30/2016 10:09 Business\n",
      "10/30/2016 10:11 10/30/2016 10:38 Business\n",
      "10/30/2016 10:51 10/30/2016 11:21 Business\n",
      "10/30/2016 12:24 10/30/2016 12:35 Business\n",
      "10/30/2016 12:58 10/30/2016 13:18 Business\n",
      "10/30/2016 13:24 10/30/2016 14:37 Business\n",
      "10/30/2016 15:22 10/30/2016 18:23 Business\n",
      "10/30/2016 18:26 10/30/2016 19:39 Business\n",
      "10/31/2016 18:11 10/31/2016 18:20 Business\n",
      "10/31/2016 18:47 10/31/2016 19:16 Business\n",
      "10/31/2016 20:18 10/31/2016 20:44 Business\n",
      "10/31/2016 21:45 10/31/2016 22:10 Business\n",
      "11/1/2016 11:50 11/1/2016 12:27 Business\n",
      "11/1/2016 16:29 11/1/2016 17:02 Business\n",
      "11/1/2016 17:35 11/1/2016 17:42 Business\n",
      "11/1/2016 19:14 11/1/2016 19:20 Business\n",
      "11/1/2016 19:59 11/1/2016 20:12 Business\n",
      "11/1/2016 20:41 11/1/2016 20:55 Business\n",
      "11/2/2016 15:10 11/2/2016 15:18 Business\n",
      "11/2/2016 15:45 11/2/2016 15:52 Business\n",
      "11/2/2016 16:46 11/2/2016 17:11 Business\n",
      "11/2/2016 17:34 11/2/2016 17:49 Business\n",
      "11/2/2016 17:53 11/2/2016 18:00 Business\n",
      "11/3/2016 11:28 11/3/2016 11:34 Business\n",
      "11/3/2016 12:43 11/3/2016 12:49 Business\n",
      "11/3/2016 13:42 11/3/2016 13:47 Business\n",
      "11/3/2016 14:13 11/3/2016 14:26 Business\n",
      "11/3/2016 18:51 11/3/2016 19:08 Business\n",
      "11/3/2016 22:46 11/3/2016 22:58 Business\n",
      "11/4/2016 10:02 11/4/2016 10:18 Business\n",
      "11/4/2016 18:14 11/4/2016 18:21 Business\n",
      "11/4/2016 21:04 11/4/2016 21:20 Business\n",
      "11/4/2016 22:12 11/4/2016 22:25 Business\n",
      "11/5/2016 8:34 11/5/2016 8:43 Business\n",
      "11/5/2016 17:29 11/5/2016 17:40 Business\n",
      "11/5/2016 19:20 11/5/2016 19:28 Business\n",
      "11/6/2016 10:50 11/6/2016 11:04 Business\n",
      "11/6/2016 16:05 11/6/2016 16:22 Business\n",
      "11/6/2016 16:27 11/6/2016 17:28 Business\n",
      "11/6/2016 19:04 11/6/2016 19:12 Business\n",
      "11/6/2016 20:06 11/6/2016 20:21 Business\n",
      "11/7/2016 12:28 11/7/2016 12:57 Business\n",
      "11/7/2016 19:17 11/7/2016 19:57 Business\n",
      "11/8/2016 10:29 11/8/2016 10:57 Business\n",
      "11/8/2016 12:16 11/8/2016 12:49 Business\n",
      "11/8/2016 13:41 11/8/2016 14:01 Business\n",
      "11/8/2016 16:21 11/8/2016 16:34 Business\n",
      "11/9/2016 13:08 11/9/2016 13:41 Business\n",
      "11/9/2016 15:58 11/9/2016 16:04 Business\n",
      "11/9/2016 17:31 11/9/2016 18:03 Business\n",
      "11/9/2016 18:09 11/9/2016 18:14 Business\n",
      "11/9/2016 18:21 11/9/2016 18:35 Business\n",
      "11/9/2016 18:40 11/9/2016 19:17 Business\n",
      "11/9/2016 20:52 11/9/2016 21:02 Business\n",
      "11/9/2016 21:56 11/9/2016 22:02 Business\n",
      "11/10/2016 9:46 11/10/2016 10:15 Business\n",
      "11/10/2016 10:20 11/10/2016 10:31 Business\n",
      "11/10/2016 14:57 11/10/2016 15:07 Business\n",
      "11/10/2016 15:17 11/10/2016 15:22 Business\n",
      "11/10/2016 15:30 11/10/2016 15:53 Business\n",
      "11/10/2016 19:18 11/10/2016 19:21 Business\n",
      "11/11/2016 9:35 11/11/2016 10:23 Business\n",
      "11/11/2016 12:58 11/11/2016 13:13 Business\n",
      "11/11/2016 14:20 11/11/2016 14:32 Business\n",
      "11/11/2016 14:39 11/11/2016 15:46 Business\n",
      "11/11/2016 18:30 11/11/2016 18:43 Business\n",
      "11/11/2016 21:08 11/11/2016 21:18 Business\n",
      "11/12/2016 10:32 11/12/2016 10:52 Business\n",
      "11/12/2016 10:55 11/12/2016 11:25 Business\n",
      "11/12/2016 13:07 11/12/2016 13:15 Business\n",
      "11/12/2016 13:46 11/12/2016 13:50 Business\n",
      "11/12/2016 14:22 11/12/2016 14:53 Business\n",
      "11/12/2016 15:14 11/12/2016 15:21 Business\n",
      "11/12/2016 15:25 11/12/2016 15:36 Business\n",
      "11/12/2016 15:40 11/12/2016 15:59 Business\n",
      "11/13/2016 8:54 11/13/2016 9:02 Business\n",
      "11/13/2016 9:27 11/13/2016 9:53 Business\n",
      "11/13/2016 10:31 11/13/2016 10:37 Business\n",
      "11/13/2016 11:04 11/13/2016 11:16 Business\n",
      "11/13/2016 12:22 11/13/2016 12:51 Business\n",
      "11/13/2016 13:05 11/13/2016 13:11 Business\n",
      "11/13/2016 13:14 11/13/2016 13:18 Business\n",
      "11/13/2016 14:35 11/13/2016 14:46 Business\n",
      "11/13/2016 15:14 11/13/2016 15:24 Business\n",
      "11/13/2016 15:47 11/13/2016 15:59 Business\n",
      "11/14/2016 11:24 11/14/2016 12:13 Business\n",
      "11/14/2016 13:40 11/14/2016 14:33 Business\n",
      "11/14/2016 15:27 11/14/2016 15:36 Business\n",
      "11/14/2016 20:19 11/14/2016 20:30 Business\n",
      "11/15/2016 13:59 11/15/2016 14:06 Business\n",
      "11/15/2016 14:09 11/15/2016 14:26 Business\n",
      "11/15/2016 20:44 11/15/2016 21:00 Business\n",
      "11/16/2016 20:21 11/16/2016 20:27 Business\n",
      "11/16/2016 22:52 11/16/2016 23:02 Business\n",
      "11/17/2016 10:13 11/17/2016 10:44 Business\n",
      "11/18/2016 20:09 11/18/2016 20:19 Business\n",
      "11/18/2016 21:23 11/18/2016 21:34 Business\n",
      "11/18/2016 21:56 11/18/2016 22:21 Business\n",
      "11/19/2016 13:51 11/19/2016 14:10 Business\n",
      "11/19/2016 14:30 11/19/2016 14:51 Business\n",
      "11/19/2016 16:01 11/19/2016 16:06 Business\n",
      "11/19/2016 16:27 11/19/2016 16:41 Business\n",
      "11/19/2016 17:41 11/19/2016 17:54 Business\n",
      "11/19/2016 21:14 11/19/2016 21:35 Business\n",
      "11/20/2016 10:27 11/20/2016 11:32 Business\n",
      "11/20/2016 11:58 11/20/2016 12:28 Business\n",
      "11/20/2016 14:58 11/20/2016 15:07 Business\n",
      "11/20/2016 17:45 11/20/2016 18:37 Business\n",
      "11/21/2016 13:37 11/21/2016 13:49 Business\n",
      "11/21/2016 14:34 11/21/2016 14:44 Business\n",
      "11/21/2016 17:50 11/21/2016 18:04 Business\n",
      "11/21/2016 18:18 11/21/2016 18:27 Business\n",
      "11/21/2016 18:43 11/21/2016 18:51 Business\n",
      "11/22/2016 15:12 11/22/2016 15:27 Business\n",
      "11/22/2016 15:31 11/22/2016 15:44 Business\n",
      "11/22/2016 15:51 11/22/2016 16:43 Business\n",
      "11/22/2016 18:18 11/22/2016 18:28 Business\n",
      "11/22/2016 21:02 11/22/2016 21:14 Business\n",
      "11/23/2016 15:34 11/23/2016 15:50 Business\n",
      "11/23/2016 16:18 11/23/2016 16:29 Business\n",
      "11/23/2016 16:49 11/23/2016 17:00 Business\n",
      "11/23/2016 18:37 11/23/2016 18:47 Business\n",
      "11/25/2016 11:47 11/25/2016 12:04 Business\n",
      "11/25/2016 13:13 11/25/2016 13:31 Business\n",
      "11/26/2016 15:54 11/26/2016 15:59 Business\n",
      "11/26/2016 17:00 11/26/2016 17:12 Business\n",
      "11/26/2016 17:36 11/26/2016 17:56 Business\n",
      "11/26/2016 18:29 11/26/2016 19:04 Business\n",
      "11/26/2016 19:47 11/26/2016 19:54 Business\n",
      "11/27/2016 15:59 11/27/2016 16:06 Business\n",
      "11/27/2016 18:55 11/27/2016 19:09 Business\n",
      "11/30/2016 11:03 11/30/2016 11:34 Business\n",
      "11/30/2016 11:53 11/30/2016 12:35 Business\n",
      "11/30/2016 12:43 11/30/2016 12:53 Business\n",
      "12/1/2016 7:44 12/1/2016 7:59 Business\n",
      "12/1/2016 8:37 12/1/2016 8:53 Business\n",
      "12/1/2016 18:00 12/1/2016 18:12 Business\n",
      "12/1/2016 20:36 12/1/2016 20:46 Business\n",
      "12/2/2016 12:12 12/2/2016 12:23 Business\n",
      "12/2/2016 13:07 12/2/2016 13:22 Business\n",
      "12/2/2016 20:41 12/2/2016 20:48 Business\n",
      "12/2/2016 22:59 12/2/2016 23:07 Business\n",
      "12/3/2016 18:35 12/3/2016 18:56 Business\n",
      "12/3/2016 19:08 12/3/2016 19:15 Business\n",
      "12/3/2016 20:31 12/3/2016 20:41 Business\n",
      "12/4/2016 18:56 12/4/2016 19:03 Business\n",
      "12/4/2016 20:23 12/4/2016 20:34 Business\n",
      "12/5/2016 18:04 12/5/2016 18:17 Business\n",
      "12/5/2016 19:22 12/5/2016 19:37 Business\n",
      "12/7/2016 12:03 12/7/2016 12:32 Business\n",
      "12/7/2016 12:35 12/7/2016 12:46 Business\n",
      "12/7/2016 19:53 12/7/2016 20:13 Business\n",
      "12/7/2016 21:13 12/7/2016 21:50 Business\n",
      "12/8/2016 14:19 12/8/2016 14:32 Business\n",
      "12/8/2016 14:53 12/8/2016 15:02 Business\n",
      "12/8/2016 19:22 12/8/2016 19:27 Business\n",
      "12/8/2016 21:26 12/8/2016 21:31 Business\n",
      "12/9/2016 12:09 12/9/2016 12:24 Business\n",
      "12/9/2016 13:15 12/9/2016 13:43 Business\n",
      "12/9/2016 20:11 12/9/2016 20:34 Business\n",
      "12/9/2016 22:03 12/9/2016 22:57 Business\n",
      "12/10/2016 12:43 12/10/2016 13:16 Business\n",
      "12/10/2016 14:42 12/10/2016 15:18 Business\n",
      "12/10/2016 18:17 12/10/2016 18:27 Business\n",
      "12/10/2016 22:09 12/10/2016 22:21 Business\n",
      "12/11/2016 16:06 12/11/2016 16:16 Business\n",
      "12/11/2016 19:05 12/11/2016 19:15 Business\n",
      "12/11/2016 21:48 12/11/2016 21:56 Business\n",
      "12/12/2016 13:22 12/12/2016 13:32 Business\n",
      "12/12/2016 13:36 12/12/2016 13:51 Business\n",
      "12/12/2016 14:26 12/12/2016 14:39 Business\n",
      "12/12/2016 17:51 12/12/2016 18:01 Business\n",
      "12/12/2016 20:48 12/12/2016 20:57 Business\n",
      "12/13/2016 18:19 12/13/2016 18:29 Business\n",
      "12/13/2016 20:20 12/13/2016 20:29 Business\n",
      "12/14/2016 16:52 12/14/2016 17:10 Business\n",
      "12/14/2016 17:22 12/14/2016 17:34 Business\n",
      "12/14/2016 17:50 12/14/2016 18:00 Business\n",
      "12/14/2016 20:24 12/14/2016 20:40 Business\n",
      "12/15/2016 14:20 12/15/2016 14:54 Business\n",
      "12/17/2016 15:38 12/17/2016 16:12 Business\n",
      "12/17/2016 17:19 12/17/2016 17:59 Business\n",
      "12/18/2016 13:03 12/18/2016 13:41 Business\n",
      "12/18/2016 16:38 12/18/2016 17:25 Business\n",
      "12/18/2016 20:35 12/18/2016 21:04 Business\n",
      "12/19/2016 9:08 12/19/2016 9:36 Business\n",
      "12/19/2016 10:15 12/19/2016 10:34 Business\n",
      "12/19/2016 13:04 12/19/2016 13:08 Business\n",
      "12/19/2016 13:24 12/19/2016 13:35 Business\n",
      "12/19/2016 14:07 12/19/2016 14:15 Business\n",
      "12/19/2016 14:18 12/19/2016 14:32 Business\n",
      "12/19/2016 14:37 12/19/2016 14:50 Business\n",
      "12/19/2016 15:09 12/19/2016 15:38 Business\n",
      "12/19/2016 16:50 12/19/2016 17:09 Business\n",
      "12/19/2016 19:05 12/19/2016 19:17 Business\n",
      "12/19/2016 19:55 12/19/2016 20:30 Business\n",
      "12/20/2016 8:49 12/20/2016 9:24 Business\n",
      "12/20/2016 10:30 12/20/2016 10:48 Business\n",
      "12/20/2016 11:30 12/20/2016 12:17 Business\n",
      "12/20/2016 13:14 12/20/2016 13:20 Business\n",
      "12/20/2016 13:54 12/20/2016 14:17 Business\n",
      "12/20/2016 16:14 12/20/2016 16:24 Business\n",
      "12/20/2016 16:56 12/20/2016 17:07 Business\n",
      "12/20/2016 18:47 12/20/2016 19:21 Business\n",
      "12/21/2016 7:42 12/21/2016 8:10 Business\n",
      "12/21/2016 10:14 12/21/2016 10:30 Business\n",
      "12/21/2016 11:35 12/21/2016 11:49 Business\n",
      "12/21/2016 12:51 12/21/2016 13:33 Business\n",
      "12/21/2016 15:38 12/21/2016 15:49 Business\n",
      "12/21/2016 15:55 12/21/2016 16:05 Business\n",
      "12/21/2016 17:45 12/21/2016 17:54 Business\n",
      "12/21/2016 17:59 12/21/2016 18:31 Business\n",
      "12/21/2016 19:49 12/21/2016 20:35 Business\n",
      "12/21/2016 20:56 12/21/2016 23:42 Business\n",
      "12/22/2016 15:40 12/22/2016 16:38 Business\n",
      "12/22/2016 17:04 12/22/2016 17:20 Business\n",
      "12/22/2016 17:27 12/22/2016 17:53 Business\n",
      "12/22/2016 17:56 12/22/2016 18:29 Business\n",
      "12/22/2016 18:31 12/22/2016 18:37 Business\n",
      "12/22/2016 18:38 12/22/2016 18:47 Business\n",
      "12/22/2016 19:04 12/22/2016 19:50 Business\n",
      "12/22/2016 21:41 12/22/2016 21:53 Business\n",
      "12/22/2016 23:27 12/22/2016 23:32 Business\n",
      "12/23/2016 9:21 12/23/2016 9:41 Business\n",
      "12/23/2016 11:33 12/23/2016 11:58 Business\n",
      "12/23/2016 14:15 12/23/2016 15:25 Business\n",
      "12/23/2016 16:23 12/23/2016 16:34 Business\n",
      "12/23/2016 17:34 12/23/2016 18:27 Business\n",
      "12/24/2016 7:43 12/24/2016 8:04 Business\n",
      "12/24/2016 9:19 12/24/2016 9:55 Business\n",
      "12/24/2016 10:34 12/24/2016 10:53 Business\n",
      "12/24/2016 12:51 12/24/2016 12:53 Business\n",
      "12/24/2016 13:08 12/24/2016 13:29 Business\n",
      "12/24/2016 17:12 12/24/2016 17:27 Business\n",
      "12/24/2016 19:12 12/24/2016 19:27 Business\n",
      "12/24/2016 22:04 12/24/2016 22:09 Business\n",
      "12/25/2016 0:10 12/25/2016 0:14 Business\n",
      "12/25/2016 19:15 12/25/2016 19:26 Business\n",
      "12/25/2016 21:58 12/25/2016 22:04 Business\n",
      "12/26/2016 8:30 12/26/2016 8:41 Business\n",
      "12/26/2016 9:05 12/26/2016 9:19 Business\n",
      "12/26/2016 10:15 12/26/2016 10:36 Business\n",
      "12/26/2016 11:29 12/26/2016 11:42 Business\n",
      "12/26/2016 13:09 12/26/2016 13:43 Business\n",
      "12/27/2016 7:02 12/27/2016 7:14 Business\n",
      "12/27/2016 8:37 12/27/2016 8:59 Business\n",
      "12/27/2016 12:53 12/27/2016 12:57 Business\n",
      "12/27/2016 14:49 12/27/2016 15:03 Business\n",
      "12/27/2016 16:34 12/27/2016 16:58 Business\n",
      "12/27/2016 19:19 12/27/2016 19:50 Business\n",
      "12/28/2016 8:34 12/28/2016 9:06 Business\n",
      "12/28/2016 11:42 12/28/2016 12:12 Business\n",
      "12/28/2016 13:53 12/28/2016 14:01 Business\n",
      "12/28/2016 15:04 12/28/2016 15:39 Business\n",
      "12/28/2016 17:02 12/28/2016 17:16 Business\n",
      "12/28/2016 18:33 12/28/2016 18:56 Business\n",
      "12/28/2016 22:44 12/28/2016 23:18 Business\n",
      "12/29/2016 0:49 12/29/2016 1:06 Business\n",
      "12/29/2016 9:44 12/29/2016 10:07 Business\n",
      "12/29/2016 11:28 12/29/2016 12:00 Business\n",
      "12/29/2016 12:25 12/29/2016 12:33 Business\n",
      "12/29/2016 13:17 12/29/2016 13:24 Business\n",
      "12/29/2016 13:56 12/29/2016 14:11 Business\n",
      "12/29/2016 14:42 12/29/2016 14:58 Business\n",
      "12/29/2016 15:05 12/29/2016 15:16 Business\n",
      "12/29/2016 18:59 12/29/2016 19:14 Business\n",
      "12/29/2016 19:50 12/29/2016 20:10 Business\n",
      "12/29/2016 20:15 12/29/2016 20:45 Business\n",
      "12/29/2016 20:53 12/29/2016 21:42 Business\n",
      "12/29/2016 23:14 12/29/2016 23:47 Business\n",
      "12/30/2016 10:15 12/30/2016 10:33 Business\n",
      "12/30/2016 11:31 12/30/2016 11:56 Business\n",
      "12/30/2016 15:41 12/30/2016 16:03 Business\n",
      "12/30/2016 16:45 12/30/2016 17:08 Business\n",
      "12/30/2016 23:06 12/30/2016 23:10 Business\n",
      "12/31/2016 1:07 12/31/2016 1:14 Business\n",
      "12/31/2016 13:24 12/31/2016 13:42 Business\n",
      "12/31/2016 15:03 12/31/2016 15:38 Business\n",
      "12/31/2016 21:32 12/31/2016 21:50 Business\n",
      "12/31/2016 22:08 12/31/2016 23:51 Business\n",
      "Totals  \n"
     ]
    }
   ],
   "source": [
    "import csv\n",
    "with open('Uber Drives 2016.csv')as f:\n",
    "  mydata = csv.reader(f,delimiter=',')\n",
    "  for row in mydata:\n",
    "      #  print(row)\n",
    "        print(row[0],row[1],row[2])\n",
    "\n",
    " "
   ]
  },
  {
   "cell_type": "code",
   "execution_count": 128,
   "metadata": {},
   "outputs": [],
   "source": [
    "import pandas as pd\n",
    "mydf = pd.read_csv('Uber Drives 2016.csv')\n",
    " "
   ]
  },
  {
   "cell_type": "code",
   "execution_count": 130,
   "metadata": {},
   "outputs": [
    {
     "data": {
      "text/plain": [
       "pandas.core.frame.DataFrame"
      ]
     },
     "execution_count": 130,
     "metadata": {},
     "output_type": "execute_result"
    }
   ],
   "source": [
    "type(mydf)"
   ]
  },
  {
   "cell_type": "code",
   "execution_count": 131,
   "metadata": {},
   "outputs": [
    {
     "data": {
      "text/html": [
       "<div>\n",
       "<style scoped>\n",
       "    .dataframe tbody tr th:only-of-type {\n",
       "        vertical-align: middle;\n",
       "    }\n",
       "\n",
       "    .dataframe tbody tr th {\n",
       "        vertical-align: top;\n",
       "    }\n",
       "\n",
       "    .dataframe thead th {\n",
       "        text-align: right;\n",
       "    }\n",
       "</style>\n",
       "<table border=\"1\" class=\"dataframe\">\n",
       "  <thead>\n",
       "    <tr style=\"text-align: right;\">\n",
       "      <th></th>\n",
       "      <th>START_DATE*</th>\n",
       "      <th>END_DATE*</th>\n",
       "      <th>CATEGORY*</th>\n",
       "      <th>START*</th>\n",
       "      <th>STOP*</th>\n",
       "      <th>MILES*</th>\n",
       "      <th>PURPOSE*</th>\n",
       "    </tr>\n",
       "  </thead>\n",
       "  <tbody>\n",
       "    <tr>\n",
       "      <th>0</th>\n",
       "      <td>1/1/2016 21:11</td>\n",
       "      <td>1/1/2016 21:17</td>\n",
       "      <td>Business</td>\n",
       "      <td>Fort Pierce</td>\n",
       "      <td>Fort Pierce</td>\n",
       "      <td>5.1</td>\n",
       "      <td>Meal/Entertain</td>\n",
       "    </tr>\n",
       "    <tr>\n",
       "      <th>1</th>\n",
       "      <td>1/2/2016 1:25</td>\n",
       "      <td>1/2/2016 1:37</td>\n",
       "      <td>Business</td>\n",
       "      <td>Fort Pierce</td>\n",
       "      <td>Fort Pierce</td>\n",
       "      <td>5.0</td>\n",
       "      <td>NaN</td>\n",
       "    </tr>\n",
       "    <tr>\n",
       "      <th>2</th>\n",
       "      <td>1/2/2016 20:25</td>\n",
       "      <td>1/2/2016 20:38</td>\n",
       "      <td>Business</td>\n",
       "      <td>Fort Pierce</td>\n",
       "      <td>Fort Pierce</td>\n",
       "      <td>4.8</td>\n",
       "      <td>Errand/Supplies</td>\n",
       "    </tr>\n",
       "    <tr>\n",
       "      <th>3</th>\n",
       "      <td>1/5/2016 17:31</td>\n",
       "      <td>1/5/2016 17:45</td>\n",
       "      <td>Business</td>\n",
       "      <td>Fort Pierce</td>\n",
       "      <td>Fort Pierce</td>\n",
       "      <td>4.7</td>\n",
       "      <td>Meeting</td>\n",
       "    </tr>\n",
       "    <tr>\n",
       "      <th>4</th>\n",
       "      <td>1/6/2016 14:42</td>\n",
       "      <td>1/6/2016 15:49</td>\n",
       "      <td>Business</td>\n",
       "      <td>Fort Pierce</td>\n",
       "      <td>West Palm Beach</td>\n",
       "      <td>63.7</td>\n",
       "      <td>Customer Visit</td>\n",
       "    </tr>\n",
       "  </tbody>\n",
       "</table>\n",
       "</div>"
      ],
      "text/plain": [
       "      START_DATE*       END_DATE* CATEGORY*       START*            STOP*  \\\n",
       "0  1/1/2016 21:11  1/1/2016 21:17  Business  Fort Pierce      Fort Pierce   \n",
       "1   1/2/2016 1:25   1/2/2016 1:37  Business  Fort Pierce      Fort Pierce   \n",
       "2  1/2/2016 20:25  1/2/2016 20:38  Business  Fort Pierce      Fort Pierce   \n",
       "3  1/5/2016 17:31  1/5/2016 17:45  Business  Fort Pierce      Fort Pierce   \n",
       "4  1/6/2016 14:42  1/6/2016 15:49  Business  Fort Pierce  West Palm Beach   \n",
       "\n",
       "   MILES*         PURPOSE*  \n",
       "0     5.1   Meal/Entertain  \n",
       "1     5.0              NaN  \n",
       "2     4.8  Errand/Supplies  \n",
       "3     4.7          Meeting  \n",
       "4    63.7   Customer Visit  "
      ]
     },
     "execution_count": 131,
     "metadata": {},
     "output_type": "execute_result"
    }
   ],
   "source": [
    "mydf.head()"
   ]
  },
  {
   "cell_type": "code",
   "execution_count": 137,
   "metadata": {},
   "outputs": [],
   "source": [
    "mydflist = list(mydf.loc[0])"
   ]
  },
  {
   "cell_type": "code",
   "execution_count": 138,
   "metadata": {},
   "outputs": [
    {
     "data": {
      "text/plain": [
       "list"
      ]
     },
     "execution_count": 138,
     "metadata": {},
     "output_type": "execute_result"
    }
   ],
   "source": [
    "type(mydflist)"
   ]
  },
  {
   "cell_type": "code",
   "execution_count": 139,
   "metadata": {},
   "outputs": [
    {
     "data": {
      "text/plain": [
       "['1/1/2016 21:11',\n",
       " '1/1/2016 21:17',\n",
       " 'Business',\n",
       " 'Fort Pierce',\n",
       " 'Fort Pierce',\n",
       " 5.1,\n",
       " 'Meal/Entertain']"
      ]
     },
     "execution_count": 139,
     "metadata": {},
     "output_type": "execute_result"
    }
   ],
   "source": [
    "mydflist"
   ]
  },
  {
   "cell_type": "code",
   "execution_count": 54,
   "metadata": {},
   "outputs": [
    {
     "data": {
      "text/plain": [
       "['1/1/2016 21:11',\n",
       " '1/1/2016 21:17',\n",
       " 'Business',\n",
       " 'Fort Pierce',\n",
       " 'Fort Pierce',\n",
       " 5.1,\n",
       " 'Meal/Entertain']"
      ]
     },
     "execution_count": 54,
     "metadata": {},
     "output_type": "execute_result"
    }
   ],
   "source": [
    "mydflist"
   ]
  },
  {
   "cell_type": "code",
   "execution_count": 52,
   "metadata": {},
   "outputs": [
    {
     "data": {
      "text/plain": [
       "list"
      ]
     },
     "execution_count": 52,
     "metadata": {},
     "output_type": "execute_result"
    }
   ],
   "source": [
    " type(mydflist)\n"
   ]
  },
  {
   "cell_type": "markdown",
   "metadata": {},
   "source": [
    "## LISTS IN PYTHON -- END"
   ]
  },
  {
   "cell_type": "markdown",
   "metadata": {},
   "source": [
    "---"
   ]
  },
  {
   "cell_type": "markdown",
   "metadata": {},
   "source": [
    "## TUPLES  IN PYTHON --- STARTS\n"
   ]
  },
  {
   "cell_type": "markdown",
   "metadata": {},
   "source": [
    "- python object\n",
    "- similar to lists - i.e - it can hold any data type\n",
    "- tuples are immutable like strings\n",
    "- tuples are represented by ()"
   ]
  },
  {
   "cell_type": "code",
   "execution_count": 140,
   "metadata": {},
   "outputs": [
    {
     "name": "stdout",
     "output_type": "stream",
     "text": [
      "('a', 'A', 'STRNG', 1299, 1200.99)\n"
     ]
    }
   ],
   "source": [
    "### create a tuple using mixed data types\n",
    "mytup2 = ('a', 'A','STRNG',1299, 1200.99)\n",
    "print(mytup2)\n"
   ]
  },
  {
   "cell_type": "markdown",
   "metadata": {},
   "source": [
    "## nested tuples and other data types in a tuple"
   ]
  },
  {
   "cell_type": "code",
   "execution_count": 141,
   "metadata": {},
   "outputs": [
    {
     "name": "stdout",
     "output_type": "stream",
     "text": [
      "((1, 2, 3), 199, 'a', 200.88, 'string', ('a', 'b'))\n"
     ]
    }
   ],
   "source": [
    "### create tuple within a tuple\n",
    "mytup3=((1,2,3),199,'a',200.88,'string',('a','b'))\n",
    "print(mytup3)"
   ]
  },
  {
   "cell_type": "code",
   "execution_count": 160,
   "metadata": {},
   "outputs": [
    {
     "name": "stdout",
     "output_type": "stream",
     "text": [
      "((1, 2, 3), 199, 'a', 200.88, 'string', ('a', 'b'), [199, 299], ['IAM A LIST', 'Y'])\n"
     ]
    }
   ],
   "source": [
    "### create list  within a tuple\n",
    "mytup4=((1,2,3),199,'a',200.88,'string',('a','b'),[199,299],[\"IAM A LIST\",'Y'])\n",
    "print(mytup4)\n"
   ]
  },
  {
   "cell_type": "code",
   "execution_count": 155,
   "metadata": {},
   "outputs": [],
   "source": [
    "mytup4 = (100,'python')"
   ]
  },
  {
   "cell_type": "code",
   "execution_count": null,
   "metadata": {},
   "outputs": [],
   "source": [
    "mytup4 =  100"
   ]
  },
  {
   "cell_type": "code",
   "execution_count": 153,
   "metadata": {},
   "outputs": [],
   "source": [
    "mytup4=((1,2,3),199,'a',200.88,'string',('a','b'),[199,299],[\"IAM A LIST\",'Y'])\n"
   ]
  },
  {
   "cell_type": "code",
   "execution_count": 156,
   "metadata": {},
   "outputs": [
    {
     "ename": "IndexError",
     "evalue": "tuple index out of range",
     "output_type": "error",
     "traceback": [
      "\u001b[1;31m---------------------------------------------------------------------------\u001b[0m",
      "\u001b[1;31mIndexError\u001b[0m                                Traceback (most recent call last)",
      "\u001b[1;32m<ipython-input-156-2c55ffc6a37b>\u001b[0m in \u001b[0;36m<module>\u001b[1;34m()\u001b[0m\n\u001b[1;32m----> 1\u001b[1;33m \u001b[0mmytup4\u001b[0m\u001b[1;33m[\u001b[0m\u001b[1;36m5\u001b[0m\u001b[1;33m]\u001b[0m\u001b[1;33m[\u001b[0m\u001b[1;36m0\u001b[0m\u001b[1;33m]\u001b[0m \u001b[1;33m=\u001b[0m \u001b[1;36m1929\u001b[0m\u001b[1;33m\u001b[0m\u001b[0m\n\u001b[0m",
      "\u001b[1;31mIndexError\u001b[0m: tuple index out of range"
     ]
    }
   ],
   "source": [
    "mytup4[5][0] = 1929"
   ]
  },
  {
   "cell_type": "code",
   "execution_count": 162,
   "metadata": {},
   "outputs": [
    {
     "ename": "TypeError",
     "evalue": "'tuple' object does not support item assignment",
     "output_type": "error",
     "traceback": [
      "\u001b[1;31m---------------------------------------------------------------------------\u001b[0m",
      "\u001b[1;31mTypeError\u001b[0m                                 Traceback (most recent call last)",
      "\u001b[1;32m<ipython-input-162-73afd00d9c71>\u001b[0m in \u001b[0;36m<module>\u001b[1;34m()\u001b[0m\n\u001b[1;32m----> 1\u001b[1;33m \u001b[0mmytup4\u001b[0m\u001b[1;33m[\u001b[0m\u001b[1;36m6\u001b[0m\u001b[1;33m]\u001b[0m \u001b[1;33m=\u001b[0m \u001b[1;36m9999\u001b[0m\u001b[1;33m\u001b[0m\u001b[0m\n\u001b[0m",
      "\u001b[1;31mTypeError\u001b[0m: 'tuple' object does not support item assignment"
     ]
    }
   ],
   "source": [
    " mytup4[6] = 9999"
   ]
  },
  {
   "cell_type": "code",
   "execution_count": 151,
   "metadata": {},
   "outputs": [
    {
     "data": {
      "text/plain": [
       "((1, 2, 3),\n",
       " 199,\n",
       " 'a',\n",
       " 200.88,\n",
       " 'string',\n",
       " ('a', 'b'),\n",
       " [9999, 299],\n",
       " ['IAM A LIST', 'Y'])"
      ]
     },
     "execution_count": 151,
     "metadata": {},
     "output_type": "execute_result"
    }
   ],
   "source": [
    "mytup4"
   ]
  },
  {
   "cell_type": "markdown",
   "metadata": {},
   "source": [
    "### immutability check for tuples"
   ]
  },
  {
   "cell_type": "code",
   "execution_count": 144,
   "metadata": {},
   "outputs": [
    {
     "ename": "TypeError",
     "evalue": "'tuple' object does not support item assignment",
     "output_type": "error",
     "traceback": [
      "\u001b[1;31m---------------------------------------------------------------------------\u001b[0m",
      "\u001b[1;31mTypeError\u001b[0m                                 Traceback (most recent call last)",
      "\u001b[1;32m<ipython-input-144-f654f6ef2124>\u001b[0m in \u001b[0;36m<module>\u001b[1;34m()\u001b[0m\n\u001b[1;32m----> 1\u001b[1;33m \u001b[0mmytup4\u001b[0m\u001b[1;33m[\u001b[0m\u001b[1;36m1\u001b[0m\u001b[1;33m]\u001b[0m \u001b[1;33m=\u001b[0m \u001b[1;36m10000\u001b[0m\u001b[1;33m\u001b[0m\u001b[0m\n\u001b[0m",
      "\u001b[1;31mTypeError\u001b[0m: 'tuple' object does not support item assignment"
     ]
    }
   ],
   "source": [
    "mytup4[1] = 10000"
   ]
  },
  {
   "cell_type": "markdown",
   "metadata": {},
   "source": [
    " ### Accessing Elements within a Tuple using indexes\n",
    "  - indexing in tuple is similar to indexing in lists\n",
    "  - indexing can be done to retrieve individual element\n",
    "  - indexing can be done for selection of multiple individual elements from a tuple\n",
    "  - indexing is used for extracting a sequence of individual elements using slice notation"
   ]
  },
  {
   "cell_type": "code",
   "execution_count": 158,
   "metadata": {},
   "outputs": [
    {
     "data": {
      "text/plain": [
       "(100, 'python')"
      ]
     },
     "execution_count": 158,
     "metadata": {},
     "output_type": "execute_result"
    }
   ],
   "source": [
    "mytup4"
   ]
  },
  {
   "cell_type": "code",
   "execution_count": 159,
   "metadata": {},
   "outputs": [
    {
     "ename": "IndexError",
     "evalue": "tuple index out of range",
     "output_type": "error",
     "traceback": [
      "\u001b[1;31m---------------------------------------------------------------------------\u001b[0m",
      "\u001b[1;31mIndexError\u001b[0m                                Traceback (most recent call last)",
      "\u001b[1;32m<ipython-input-159-cc3bda4c0fd7>\u001b[0m in \u001b[0;36m<module>\u001b[1;34m()\u001b[0m\n\u001b[0;32m      1\u001b[0m \u001b[1;31m### grab the element in index 6\u001b[0m\u001b[1;33m\u001b[0m\u001b[1;33m\u001b[0m\u001b[0m\n\u001b[1;32m----> 2\u001b[1;33m \u001b[0mmytup4\u001b[0m\u001b[1;33m[\u001b[0m\u001b[1;36m6\u001b[0m\u001b[1;33m]\u001b[0m\u001b[1;33m\u001b[0m\u001b[0m\n\u001b[0m",
      "\u001b[1;31mIndexError\u001b[0m: tuple index out of range"
     ]
    }
   ],
   "source": [
    "### grab the element in index 6\n",
    "mytup4[6]"
   ]
  },
  {
   "cell_type": "code",
   "execution_count": 98,
   "metadata": {},
   "outputs": [
    {
     "name": "stdout",
     "output_type": "stream",
     "text": [
      "((1, 2, 3), 199, 'a', 200.88, 'string', ('a', 'b'), [199, 299], ['IAM A LIST', 'Y'])\n"
     ]
    }
   ],
   "source": [
    "print(mytup4)"
   ]
  },
  {
   "cell_type": "code",
   "execution_count": 157,
   "metadata": {},
   "outputs": [
    {
     "name": "stdout",
     "output_type": "stream",
     "text": [
      "100\n",
      "python\n"
     ]
    },
    {
     "ename": "IndexError",
     "evalue": "tuple index out of range",
     "output_type": "error",
     "traceback": [
      "\u001b[1;31m---------------------------------------------------------------------------\u001b[0m",
      "\u001b[1;31mIndexError\u001b[0m                                Traceback (most recent call last)",
      "\u001b[1;32m<ipython-input-157-91c4198e9a6b>\u001b[0m in \u001b[0;36m<module>\u001b[1;34m()\u001b[0m\n\u001b[0;32m      5\u001b[0m \u001b[1;31m### last item in tuple\u001b[0m\u001b[1;33m\u001b[0m\u001b[1;33m\u001b[0m\u001b[0m\n\u001b[0;32m      6\u001b[0m \u001b[0mprint\u001b[0m\u001b[1;33m(\u001b[0m\u001b[0mmytup4\u001b[0m\u001b[1;33m[\u001b[0m\u001b[1;33m-\u001b[0m\u001b[1;36m1\u001b[0m\u001b[1;33m]\u001b[0m\u001b[1;33m)\u001b[0m\u001b[1;33m\u001b[0m\u001b[0m\n\u001b[1;32m----> 7\u001b[1;33m \u001b[0mprint\u001b[0m\u001b[1;33m(\u001b[0m\u001b[0mmytup4\u001b[0m\u001b[1;33m[\u001b[0m\u001b[1;36m7\u001b[0m\u001b[1;33m]\u001b[0m\u001b[1;33m)\u001b[0m\u001b[1;33m\u001b[0m\u001b[0m\n\u001b[0m",
      "\u001b[1;31mIndexError\u001b[0m: tuple index out of range"
     ]
    }
   ],
   "source": [
    "## grab the first and last element in a tuple\n",
    "### first item in tuple\n",
    "print(mytup4[0])\n",
    "\n",
    "### last item in tuple\n",
    "print(mytup4[-1])\n",
    "print(mytup4[7])"
   ]
  },
  {
   "cell_type": "markdown",
   "metadata": {},
   "source": [
    "### indexing in tuples with tuples or lists "
   ]
  },
  {
   "cell_type": "code",
   "execution_count": 94,
   "metadata": {},
   "outputs": [
    {
     "ename": "NameError",
     "evalue": "name 'mytup4' is not defined",
     "output_type": "error",
     "traceback": [
      "\u001b[1;31m---------------------------------------------------------------------------\u001b[0m",
      "\u001b[1;31mNameError\u001b[0m                                 Traceback (most recent call last)",
      "\u001b[1;32m<ipython-input-94-32101458e340>\u001b[0m in \u001b[0;36m<module>\u001b[1;34m\u001b[0m\n\u001b[0;32m      1\u001b[0m \u001b[1;31m### grab a specific element 199 from the list [199,299]   within tuple\u001b[0m\u001b[1;33m\u001b[0m\u001b[1;33m\u001b[0m\u001b[1;33m\u001b[0m\u001b[0m\n\u001b[1;32m----> 2\u001b[1;33m \u001b[0mprint\u001b[0m\u001b[1;33m(\u001b[0m\u001b[0mmytup4\u001b[0m\u001b[1;33m[\u001b[0m\u001b[1;36m6\u001b[0m\u001b[1;33m]\u001b[0m\u001b[1;33m[\u001b[0m\u001b[1;36m0\u001b[0m\u001b[1;33m]\u001b[0m\u001b[1;33m)\u001b[0m\u001b[1;33m\u001b[0m\u001b[1;33m\u001b[0m\u001b[0m\n\u001b[0m",
      "\u001b[1;31mNameError\u001b[0m: name 'mytup4' is not defined"
     ]
    }
   ],
   "source": [
    "### grab a specific element 199 from the list [199,299]   within tuple \n",
    "print(mytup4[6][0])"
   ]
  },
  {
   "cell_type": "code",
   "execution_count": null,
   "metadata": {},
   "outputs": [],
   "source": [
    "### grab a specific element in a tuple within a tuple\n",
    "print(mytup4[5][0])"
   ]
  },
  {
   "cell_type": "code",
   "execution_count": null,
   "metadata": {},
   "outputs": [],
   "source": [
    "print(mytup4)"
   ]
  },
  {
   "cell_type": "markdown",
   "metadata": {},
   "source": [
    "###### SLICE NOTATIONS"
   ]
  },
  {
   "cell_type": "code",
   "execution_count": 122,
   "metadata": {},
   "outputs": [
    {
     "name": "stdout",
     "output_type": "stream",
     "text": [
      "('a', 200.88, 'string', ('a', 'b'), [199, 299], ['IAM A LIST', 'Y'])\n"
     ]
    }
   ],
   "source": [
    "### get all the elements from index 2 \n",
    "print(mytup4[2:])"
   ]
  },
  {
   "cell_type": "code",
   "execution_count": 101,
   "metadata": {},
   "outputs": [
    {
     "name": "stdout",
     "output_type": "stream",
     "text": [
      "((1, 2, 3), 199, 'a', 200.88, 'string', ('a', 'b'), [199, 299], ['IAM A LIST', 'Y'])\n",
      "((1, 2, 3), 199, 'a', 200.88, 'string', ('a', 'b'))\n"
     ]
    }
   ],
   "source": [
    "### get all the elements from indeex 0 till index 5\n",
    "print(mytup4)\n",
    "print(mytup4[0:6])"
   ]
  },
  {
   "cell_type": "code",
   "execution_count": 102,
   "metadata": {},
   "outputs": [
    {
     "name": "stdout",
     "output_type": "stream",
     "text": [
      "((1, 2, 3), 199, 'a', 200.88, 'string', ('a', 'b'), [199, 299], ['IAM A LIST', 'Y'])\n",
      "299\n"
     ]
    }
   ],
   "source": [
    "###\n",
    "print(mytup4)\n",
    "print(mytup4[6][1])"
   ]
  },
  {
   "cell_type": "code",
   "execution_count": 103,
   "metadata": {},
   "outputs": [
    {
     "name": "stdout",
     "output_type": "stream",
     "text": [
      "(199, 'a', 200.88, 'string')\n"
     ]
    }
   ],
   "source": [
    "### grab 1st index to 4 index\n",
    "print(mytup4[1:5])"
   ]
  },
  {
   "cell_type": "code",
   "execution_count": 104,
   "metadata": {},
   "outputs": [
    {
     "name": "stdout",
     "output_type": "stream",
     "text": [
      "200.88\n"
     ]
    }
   ],
   "source": [
    "print(mytup4[1:5][2])"
   ]
  },
  {
   "cell_type": "code",
   "execution_count": 107,
   "metadata": {},
   "outputs": [
    {
     "name": "stdout",
     "output_type": "stream",
     "text": [
      "((1, 2, 3), 199, 'a', 200.88, 'string', ('a', 'b'), [199, 299], ['IAM A LIST', 'Y'])\n"
     ]
    }
   ],
   "source": [
    "print(mytup4)"
   ]
  },
  {
   "cell_type": "code",
   "execution_count": 109,
   "metadata": {},
   "outputs": [
    {
     "ename": "TypeError",
     "evalue": "'tuple' object doesn't support item deletion",
     "output_type": "error",
     "traceback": [
      "\u001b[1;31m---------------------------------------------------------------------------\u001b[0m",
      "\u001b[1;31mTypeError\u001b[0m                                 Traceback (most recent call last)",
      "\u001b[1;32m<ipython-input-109-160141903fc1>\u001b[0m in \u001b[0;36m<module>\u001b[1;34m\u001b[0m\n\u001b[1;32m----> 1\u001b[1;33m \u001b[1;32mdel\u001b[0m \u001b[0mmytup4\u001b[0m\u001b[1;33m[\u001b[0m\u001b[1;36m0\u001b[0m\u001b[1;33m]\u001b[0m\u001b[1;33m\u001b[0m\u001b[1;33m\u001b[0m\u001b[0m\n\u001b[0m",
      "\u001b[1;31mTypeError\u001b[0m: 'tuple' object doesn't support item deletion"
     ]
    }
   ],
   "source": [
    "del mytup4[0]"
   ]
  },
  {
   "cell_type": "code",
   "execution_count": 112,
   "metadata": {},
   "outputs": [
    {
     "ename": "NameError",
     "evalue": "name 'mytup4' is not defined",
     "output_type": "error",
     "traceback": [
      "\u001b[1;31m---------------------------------------------------------------------------\u001b[0m",
      "\u001b[1;31mNameError\u001b[0m                                 Traceback (most recent call last)",
      "\u001b[1;32m<ipython-input-112-ece8bf5593d9>\u001b[0m in \u001b[0;36m<module>\u001b[1;34m\u001b[0m\n\u001b[1;32m----> 1\u001b[1;33m \u001b[0mprint\u001b[0m\u001b[1;33m(\u001b[0m\u001b[0mmytup4\u001b[0m\u001b[1;33m)\u001b[0m\u001b[1;33m\u001b[0m\u001b[1;33m\u001b[0m\u001b[0m\n\u001b[0m",
      "\u001b[1;31mNameError\u001b[0m: name 'mytup4' is not defined"
     ]
    }
   ],
   "source": [
    "print(mytup4)"
   ]
  },
  {
   "cell_type": "code",
   "execution_count": 111,
   "metadata": {},
   "outputs": [],
   "source": [
    "### deleting entire tuple is possible -\n",
    "del mytup4"
   ]
  },
  {
   "cell_type": "markdown",
   "metadata": {},
   "source": [
    "### Built-in methods in tuple\n",
    "###### count and index are the only 2 methods"
   ]
  },
  {
   "cell_type": "code",
   "execution_count": null,
   "metadata": {},
   "outputs": [],
   "source": []
  },
  {
   "cell_type": "code",
   "execution_count": 164,
   "metadata": {},
   "outputs": [],
   "source": [
    "### count method counts the number of occurrences of a particular item in the tuple\n",
    "my_tuple7 = ((1, 2, 3), 199, 'a', 200.88, 'string', ('a', 'b'), [199, 299], ['IAM A LIST', 'Y'],[199,299])\n"
   ]
  },
  {
   "cell_type": "code",
   "execution_count": 166,
   "metadata": {},
   "outputs": [
    {
     "data": {
      "text/plain": [
       "2"
      ]
     },
     "execution_count": 166,
     "metadata": {},
     "output_type": "execute_result"
    }
   ],
   "source": [
    "my_tuple7.count([199,299])"
   ]
  },
  {
   "cell_type": "code",
   "execution_count": 167,
   "metadata": {},
   "outputs": [
    {
     "data": {
      "text/plain": [
       "((1, 2, 3),\n",
       " 199,\n",
       " 'a',\n",
       " 200.88,\n",
       " 'string',\n",
       " ('a', 'b'),\n",
       " [199, 299],\n",
       " ['IAM A LIST', 'Y'],\n",
       " [199, 299])"
      ]
     },
     "execution_count": 167,
     "metadata": {},
     "output_type": "execute_result"
    }
   ],
   "source": [
    "my_tuple7"
   ]
  },
  {
   "cell_type": "code",
   "execution_count": 168,
   "metadata": {},
   "outputs": [
    {
     "data": {
      "text/plain": [
       "6"
      ]
     },
     "execution_count": 168,
     "metadata": {},
     "output_type": "execute_result"
    }
   ],
   "source": [
    "### index returns the very first occurrence of that item \n",
    "my_tuple7.index([199,299])"
   ]
  },
  {
   "cell_type": "code",
   "execution_count": 141,
   "metadata": {},
   "outputs": [],
   "source": [
    "list1 = [1,2]\n",
    "list2 = [3,5]"
   ]
  },
  {
   "cell_type": "code",
   "execution_count": 143,
   "metadata": {},
   "outputs": [
    {
     "ename": "TypeError",
     "evalue": "can't multiply sequence by non-int of type 'list'",
     "output_type": "error",
     "traceback": [
      "\u001b[1;31m---------------------------------------------------------------------------\u001b[0m",
      "\u001b[1;31mTypeError\u001b[0m                                 Traceback (most recent call last)",
      "\u001b[1;32m<ipython-input-143-7c0157aad319>\u001b[0m in \u001b[0;36m<module>\u001b[1;34m()\u001b[0m\n\u001b[1;32m----> 1\u001b[1;33m \u001b[0mlist1\u001b[0m \u001b[1;33m*\u001b[0m \u001b[0mlist2\u001b[0m\u001b[1;33m\u001b[0m\u001b[0m\n\u001b[0m",
      "\u001b[1;31mTypeError\u001b[0m: can't multiply sequence by non-int of type 'list'"
     ]
    }
   ],
   "source": [
    "list1 * list2"
   ]
  },
  {
   "cell_type": "code",
   "execution_count": 169,
   "metadata": {},
   "outputs": [],
   "source": [
    "mytup1 = (1,2)\n",
    "mytup2 = (2,4)"
   ]
  },
  {
   "cell_type": "code",
   "execution_count": 170,
   "metadata": {},
   "outputs": [
    {
     "ename": "TypeError",
     "evalue": "can't multiply sequence by non-int of type 'tuple'",
     "output_type": "error",
     "traceback": [
      "\u001b[1;31m---------------------------------------------------------------------------\u001b[0m",
      "\u001b[1;31mTypeError\u001b[0m                                 Traceback (most recent call last)",
      "\u001b[1;32m<ipython-input-170-47af22342ba0>\u001b[0m in \u001b[0;36m<module>\u001b[1;34m()\u001b[0m\n\u001b[1;32m----> 1\u001b[1;33m \u001b[0mmytup1\u001b[0m \u001b[1;33m*\u001b[0m \u001b[0mmytup2\u001b[0m\u001b[1;33m\u001b[0m\u001b[0m\n\u001b[0m",
      "\u001b[1;31mTypeError\u001b[0m: can't multiply sequence by non-int of type 'tuple'"
     ]
    }
   ],
   "source": [
    "mytup1 * mytup2"
   ]
  },
  {
   "cell_type": "code",
   "execution_count": 173,
   "metadata": {},
   "outputs": [
    {
     "ename": "TypeError",
     "evalue": "can only concatenate tuple (not \"int\") to tuple",
     "output_type": "error",
     "traceback": [
      "\u001b[1;31m---------------------------------------------------------------------------\u001b[0m",
      "\u001b[1;31mTypeError\u001b[0m                                 Traceback (most recent call last)",
      "\u001b[1;32m<ipython-input-173-bce3c244a117>\u001b[0m in \u001b[0;36m<module>\u001b[1;34m()\u001b[0m\n\u001b[1;32m----> 1\u001b[1;33m \u001b[0mmytup1\u001b[0m \u001b[1;33m+\u001b[0m \u001b[0mmytup2\u001b[0m\u001b[1;33m[\u001b[0m\u001b[1;36m1\u001b[0m\u001b[1;33m]\u001b[0m\u001b[1;33m\u001b[0m\u001b[0m\n\u001b[0m",
      "\u001b[1;31mTypeError\u001b[0m: can only concatenate tuple (not \"int\") to tuple"
     ]
    }
   ],
   "source": [
    "mytup1 + mytup2[1]"
   ]
  },
  {
   "cell_type": "code",
   "execution_count": 127,
   "metadata": {},
   "outputs": [
    {
     "name": "stdout",
     "output_type": "stream",
     "text": [
      "(1, 2, 2, 4)\n"
     ]
    }
   ],
   "source": [
    "print(mytup1)"
   ]
  },
  {
   "cell_type": "code",
   "execution_count": null,
   "metadata": {},
   "outputs": [],
   "source": [
    "type(mytup1)"
   ]
  },
  {
   "cell_type": "code",
   "execution_count": null,
   "metadata": {},
   "outputs": [],
   "source": [
    "list(mytup1)"
   ]
  },
  {
   "cell_type": "code",
   "execution_count": 174,
   "metadata": {},
   "outputs": [
    {
     "data": {
      "text/plain": [
       "tuple"
      ]
     },
     "execution_count": 174,
     "metadata": {},
     "output_type": "execute_result"
    }
   ],
   "source": [
    "type(mytup1)"
   ]
  },
  {
   "cell_type": "code",
   "execution_count": 180,
   "metadata": {},
   "outputs": [
    {
     "name": "stdout",
     "output_type": "stream",
     "text": [
      "[1, 2, 3, 'a']\n",
      "<class 'list'>\n"
     ]
    }
   ],
   "source": [
    "mylistt = [1,2,3,'a']\n",
    "print(mylistt)\n",
    "print(type(mylistt))"
   ]
  },
  {
   "cell_type": "code",
   "execution_count": 182,
   "metadata": {},
   "outputs": [
    {
     "data": {
      "text/plain": [
       "\"[1, 2, 3, 'a']\""
      ]
     },
     "execution_count": 182,
     "metadata": {},
     "output_type": "execute_result"
    }
   ],
   "source": [
    "xstring = str(mylistt) \n"
   ]
  },
  {
   "cell_type": "code",
   "execution_count": 184,
   "metadata": {},
   "outputs": [
    {
     "name": "stdout",
     "output_type": "stream",
     "text": [
      "[1, 2, 3, 'a']\n",
      "<class 'list'>\n"
     ]
    }
   ],
   "source": [
    "print(mylistt)\n",
    "print(type(mylistt))"
   ]
  },
  {
   "cell_type": "code",
   "execution_count": 178,
   "metadata": {},
   "outputs": [
    {
     "name": "stdout",
     "output_type": "stream",
     "text": [
      "i am a string\n",
      "<class 'str'>\n"
     ]
    }
   ],
   "source": [
    "mylistt = 'i am a string'\n",
    "print(mylistt)\n",
    "print(type(mylistt))"
   ]
  },
  {
   "cell_type": "markdown",
   "metadata": {},
   "source": [
    "## TUPLES  IN PYTHON --- END"
   ]
  },
  {
   "cell_type": "markdown",
   "metadata": {},
   "source": [
    "---"
   ]
  },
  {
   "cell_type": "markdown",
   "metadata": {},
   "source": [
    "## DICTIONARY  IN PYTHON --- START"
   ]
  },
  {
   "cell_type": "markdown",
   "metadata": {},
   "source": [
    " \n",
    "Python objects that are represented in the form of Key and Value pairs\n",
    "Dictionary helps to create our own user defined indexes in the form of \"Keys\"\n",
    "Every Key will have a value\n",
    "\n",
    "Dictionary can have strings, numeric, float, lists, tuples, dictionaries as values\n",
    "\n",
    "Dictionary is mutable on the whole but the Key of a dictionary is always IMMUTABLE\n",
    "\n",
    "syntax of dictionary is \n",
    "        mydict1 = {'keyname':value, 'keyname2':value2, 'keyname3':value3....}\n",
    "        "
   ]
  },
  {
   "cell_type": "code",
   "execution_count": 145,
   "metadata": {},
   "outputs": [
    {
     "name": "stdout",
     "output_type": "stream",
     "text": [
      "\n",
      "\n",
      "{'k1': 100, 'k2': 'str', 'k3': 199.99, 'k4': '0'}\n",
      "\n",
      "\n",
      "<class 'dict'>\n",
      "\n",
      "\n",
      "4\n"
     ]
    }
   ],
   "source": [
    "### create first dictionary\n",
    "mydict0 =  {'k1':100,'k2':'str','k3':199.99,'k4':'0'}\n",
    "print('\\n')\n",
    "print(mydict0)\n",
    "print('\\n')\n",
    "print(type(mydict0))\n",
    "print('\\n')\n",
    "print(len(mydict0))"
   ]
  },
  {
   "cell_type": "code",
   "execution_count": 148,
   "metadata": {},
   "outputs": [
    {
     "name": "stdout",
     "output_type": "stream",
     "text": [
      "{'key1': [1, 2, 3], 'key2': (1, 2, 3), 'key3': {'k1': 1990, 'k2': 'a', 'k3': [1, 2, 3]}, 'strkey': 'i am a string'}\n",
      "<class 'dict'>\n",
      "4\n"
     ]
    }
   ],
   "source": [
    "### dictionaries with lists, tuples, dictionary\n",
    "mydict2= {'key1' : [1,2,3],  'key2' : (1,2,3), 'key3':{'k1':1990,'k2':'a','k3':[1,2,3]}, 'strkey':'i am a string' }\n",
    "print(mydict2)\n",
    "print(type(mydict2))\n",
    "print(len(mydict2))"
   ]
  },
  {
   "cell_type": "code",
   "execution_count": null,
   "metadata": {},
   "outputs": [],
   "source": []
  },
  {
   "cell_type": "markdown",
   "metadata": {},
   "source": [
    "### indexing in dictionaries\n",
    "different from strings,list and tuples"
   ]
  },
  {
   "cell_type": "code",
   "execution_count": 150,
   "metadata": {},
   "outputs": [
    {
     "ename": "KeyError",
     "evalue": "0",
     "output_type": "error",
     "traceback": [
      "\u001b[1;31m---------------------------------------------------------------------------\u001b[0m",
      "\u001b[1;31mKeyError\u001b[0m                                  Traceback (most recent call last)",
      "\u001b[1;32m<ipython-input-150-46af850c5b8f>\u001b[0m in \u001b[0;36m<module>\u001b[1;34m()\u001b[0m\n\u001b[0;32m      1\u001b[0m \u001b[1;31m### usual way of grabbing elements using indexes will not work for dictionaries\u001b[0m\u001b[1;33m\u001b[0m\u001b[1;33m\u001b[0m\u001b[0m\n\u001b[0;32m      2\u001b[0m \u001b[1;33m\u001b[0m\u001b[0m\n\u001b[1;32m----> 3\u001b[1;33m \u001b[0mmydict2\u001b[0m\u001b[1;33m[\u001b[0m\u001b[1;36m0\u001b[0m\u001b[1;33m]\u001b[0m\u001b[1;33m\u001b[0m\u001b[0m\n\u001b[0m",
      "\u001b[1;31mKeyError\u001b[0m: 0"
     ]
    }
   ],
   "source": [
    "### usual way of grabbing elements using indexes will not work for dictionaries\n",
    "\n",
    "mydict2[0]"
   ]
  },
  {
   "cell_type": "code",
   "execution_count": 151,
   "metadata": {},
   "outputs": [
    {
     "data": {
      "text/plain": [
       "{'k1': 1990, 'k2': 'a', 'k3': [1, 2, 3]}"
      ]
     },
     "execution_count": 151,
     "metadata": {},
     "output_type": "execute_result"
    }
   ],
   "source": [
    "### call the dictionary using keyvalue\n",
    "mydict2['key3']"
   ]
  },
  {
   "cell_type": "code",
   "execution_count": 153,
   "metadata": {},
   "outputs": [
    {
     "name": "stdout",
     "output_type": "stream",
     "text": [
      "{'listkey1': [10, 2, 3], 'dictkey': {'k1': 1990, 'k2': 'a', 'k3': [1, 2, 3]}, 'strkey': 'i am a string'}\n"
     ]
    }
   ],
   "source": [
    "### having the same key names with multiple elements will result in one key being retained\n",
    "mydict2= {'listkey1' : [1,2,3],  'listkey1' : [10,2,3], 'dictkey':{'k1':1990,'k2':'a','k3':[1,2,3]}, 'strkey':'i am a string' }\n",
    "print(mydict2)"
   ]
  },
  {
   "cell_type": "code",
   "execution_count": null,
   "metadata": {},
   "outputs": [],
   "source": []
  },
  {
   "cell_type": "markdown",
   "metadata": {},
   "source": [
    "#indexing, slicing of dictionaries"
   ]
  },
  {
   "cell_type": "code",
   "execution_count": 154,
   "metadata": {},
   "outputs": [
    {
     "name": "stdout",
     "output_type": "stream",
     "text": [
      "{'listkey1': [10, 2, 3], 'dictkey': {'k1': 1990, 'k2': 'a', 'k3': [1, 2, 3]}, 'strkey': 'i am a string'}\n"
     ]
    }
   ],
   "source": [
    "print(mydict2)"
   ]
  },
  {
   "cell_type": "code",
   "execution_count": 155,
   "metadata": {},
   "outputs": [
    {
     "data": {
      "text/plain": [
       "{'k1': 1990, 'k2': 'a', 'k3': [1, 2, 3]}"
      ]
     },
     "execution_count": 155,
     "metadata": {},
     "output_type": "execute_result"
    }
   ],
   "source": [
    "mydict2['dictkey']"
   ]
  },
  {
   "cell_type": "code",
   "execution_count": 157,
   "metadata": {},
   "outputs": [
    {
     "data": {
      "text/plain": [
       "1990"
      ]
     },
     "execution_count": 157,
     "metadata": {},
     "output_type": "execute_result"
    }
   ],
   "source": [
    "### to grab the first element of the key \"dictkey\"\n",
    "mydict2['dictkey']['k1']"
   ]
  },
  {
   "cell_type": "code",
   "execution_count": 158,
   "metadata": {},
   "outputs": [
    {
     "data": {
      "text/plain": [
       "10"
      ]
     },
     "execution_count": 158,
     "metadata": {},
     "output_type": "execute_result"
    }
   ],
   "source": [
    "mydict2['listkey1'][0]"
   ]
  },
  {
   "cell_type": "code",
   "execution_count": 103,
   "metadata": {},
   "outputs": [
    {
     "data": {
      "text/plain": [
       "(1990, 'a')"
      ]
     },
     "execution_count": 103,
     "metadata": {},
     "output_type": "execute_result"
    }
   ],
   "source": [
    "### to grab multiple elements from nested dictionary\n",
    "mydict2['dictkey']['k1'],mydict2['dictkey']['k2']"
   ]
  },
  {
   "cell_type": "code",
   "execution_count": 160,
   "metadata": {},
   "outputs": [
    {
     "name": "stdout",
     "output_type": "stream",
     "text": [
      "10\n",
      "3\n",
      "3\n"
     ]
    }
   ],
   "source": [
    "### to grab the element within an element in dictionary\n",
    "\n",
    "print(mydict2['listkey1'][0])\n",
    "print(mydict2['listkey1'][-1])\n",
    "print(mydict2['listkey1'][2])"
   ]
  },
  {
   "cell_type": "code",
   "execution_count": 161,
   "metadata": {},
   "outputs": [
    {
     "data": {
      "text/plain": [
       "{'listkey1': [10, 2, 3],\n",
       " 'dictkey': {'k1': 1990, 'k2': 'a', 'k3': [1, 2, 3]},\n",
       " 'strkey': 'i am a string'}"
      ]
     },
     "execution_count": 161,
     "metadata": {},
     "output_type": "execute_result"
    }
   ],
   "source": [
    "mydict2 "
   ]
  },
  {
   "cell_type": "code",
   "execution_count": 165,
   "metadata": {},
   "outputs": [],
   "source": [
    "### mutability in a dictionary\n",
    "mydict2['listkey1'][0] = 200\n",
    " "
   ]
  },
  {
   "cell_type": "code",
   "execution_count": 166,
   "metadata": {},
   "outputs": [
    {
     "data": {
      "text/plain": [
       "{'listkey1': [200, 2, 3],\n",
       " 'dictkey': {'k1': 1990, 'k2': 'a', 'k3': [1, 2, 3]},\n",
       " 'strkey': 'i am a string'}"
      ]
     },
     "execution_count": 166,
     "metadata": {},
     "output_type": "execute_result"
    }
   ],
   "source": [
    "mydict2"
   ]
  },
  {
   "cell_type": "code",
   "execution_count": 167,
   "metadata": {},
   "outputs": [
    {
     "name": "stdout",
     "output_type": "stream",
     "text": [
      "{'mykey1': (1, 2, 3), 'mykey2': 'mystring', 'mykey3': [1000, 2000, 'boa']}\n"
     ]
    }
   ],
   "source": [
    "mydict10 = {'mykey1':(1,2,3),'mykey2':'mystring','mykey3':[1000,2000,'boa']}\n",
    "print(mydict10)"
   ]
  },
  {
   "cell_type": "code",
   "execution_count": 209,
   "metadata": {},
   "outputs": [
    {
     "data": {
      "text/plain": [
       "1"
      ]
     },
     "execution_count": 209,
     "metadata": {},
     "output_type": "execute_result"
    }
   ],
   "source": [
    "mydict10['mykey1'][0] "
   ]
  },
  {
   "cell_type": "code",
   "execution_count": 169,
   "metadata": {},
   "outputs": [
    {
     "ename": "TypeError",
     "evalue": "'tuple' object does not support item assignment",
     "output_type": "error",
     "traceback": [
      "\u001b[1;31m---------------------------------------------------------------------------\u001b[0m",
      "\u001b[1;31mTypeError\u001b[0m                                 Traceback (most recent call last)",
      "\u001b[1;32m<ipython-input-169-04be853d43ef>\u001b[0m in \u001b[0;36m<module>\u001b[1;34m()\u001b[0m\n\u001b[1;32m----> 1\u001b[1;33m \u001b[0mmydict10\u001b[0m\u001b[1;33m[\u001b[0m\u001b[1;34m'mykey1'\u001b[0m\u001b[1;33m]\u001b[0m\u001b[1;33m[\u001b[0m\u001b[1;36m0\u001b[0m\u001b[1;33m]\u001b[0m  \u001b[1;33m=\u001b[0m \u001b[1;36m100\u001b[0m\u001b[1;33m\u001b[0m\u001b[0m\n\u001b[0m",
      "\u001b[1;31mTypeError\u001b[0m: 'tuple' object does not support item assignment"
     ]
    }
   ],
   "source": [
    "mydict10['mykey1'][0]  = 100"
   ]
  },
  {
   "cell_type": "code",
   "execution_count": 184,
   "metadata": {},
   "outputs": [
    {
     "name": "stdout",
     "output_type": "stream",
     "text": [
      "{'mykey1': ['a', 'bbb', 'ccc'], 'mykey2': 'mystring', 'mykey3': [1000, 2000, 'boa']}\n"
     ]
    }
   ],
   "source": [
    "mydict10['mykey1'] = ['a','bbb','ccc']\n",
    "print(mydict10)"
   ]
  },
  {
   "cell_type": "code",
   "execution_count": 194,
   "metadata": {},
   "outputs": [
    {
     "data": {
      "text/plain": [
       "str"
      ]
     },
     "execution_count": 194,
     "metadata": {},
     "output_type": "execute_result"
    }
   ],
   "source": [
    "type('python')"
   ]
  },
  {
   "cell_type": "code",
   "execution_count": 196,
   "metadata": {},
   "outputs": [],
   "source": [
    "x = {'k1':100}"
   ]
  },
  {
   "cell_type": "code",
   "execution_count": 200,
   "metadata": {},
   "outputs": [
    {
     "data": {
      "text/plain": [
       "dict"
      ]
     },
     "execution_count": 200,
     "metadata": {},
     "output_type": "execute_result"
    }
   ],
   "source": [
    "type(x)"
   ]
  },
  {
   "cell_type": "code",
   "execution_count": 201,
   "metadata": {},
   "outputs": [
    {
     "data": {
      "text/plain": [
       "str"
      ]
     },
     "execution_count": 201,
     "metadata": {},
     "output_type": "execute_result"
    }
   ],
   "source": [
    "str"
   ]
  },
  {
   "cell_type": "code",
   "execution_count": 199,
   "metadata": {},
   "outputs": [
    {
     "ename": "TypeError",
     "evalue": "unhashable type: 'dict'",
     "output_type": "error",
     "traceback": [
      "\u001b[1;31m---------------------------------------------------------------------------\u001b[0m",
      "\u001b[1;31mTypeError\u001b[0m                                 Traceback (most recent call last)",
      "\u001b[1;32m<ipython-input-199-24a9ad9fb544>\u001b[0m in \u001b[0;36m<module>\u001b[1;34m()\u001b[0m\n\u001b[0;32m      1\u001b[0m \u001b[1;31m### keys in dictionaries can be numbers\u001b[0m\u001b[1;33m\u001b[0m\u001b[1;33m\u001b[0m\u001b[0m\n\u001b[1;32m----> 2\u001b[1;33m \u001b[0mmydict3\u001b[0m\u001b[1;33m=\u001b[0m \u001b[1;33m{\u001b[0m\u001b[0mstr\u001b[0m\u001b[1;33m:\u001b[0m\u001b[1;36m1000\u001b[0m\u001b[1;33m,\u001b[0m\u001b[0mx\u001b[0m\u001b[1;33m:\u001b[0m\u001b[1;33m(\u001b[0m\u001b[1;36m1\u001b[0m\u001b[1;33m,\u001b[0m\u001b[1;36m2\u001b[0m\u001b[1;33m,\u001b[0m\u001b[1;36m3\u001b[0m\u001b[1;33m)\u001b[0m\u001b[1;33m}\u001b[0m\u001b[1;33m\u001b[0m\u001b[0m\n\u001b[0m",
      "\u001b[1;31mTypeError\u001b[0m: unhashable type: 'dict'"
     ]
    }
   ],
   "source": [
    "### keys in dictionaries can be numbers\n",
    "mydict3= {str:1000,x:(1,2,3)}\n"
   ]
  },
  {
   "cell_type": "code",
   "execution_count": 366,
   "metadata": {},
   "outputs": [
    {
     "ename": "SyntaxError",
     "evalue": "invalid syntax (<ipython-input-366-fc775eac570a>, line 2)",
     "output_type": "error",
     "traceback": [
      "\u001b[1;36m  File \u001b[1;32m\"<ipython-input-366-fc775eac570a>\"\u001b[1;36m, line \u001b[1;32m2\u001b[0m\n\u001b[1;33m    mydict3= {$$$ : [1,2,3],  2000 : (1,2,3)}\u001b[0m\n\u001b[1;37m              ^\u001b[0m\n\u001b[1;31mSyntaxError\u001b[0m\u001b[1;31m:\u001b[0m invalid syntax\n"
     ]
    }
   ],
   "source": [
    "### special chars are not allowed while defining a dictionary key\n",
    "mydict3= {$$$ : [1,2,3],  2000 : (1,2,3)}\n"
   ]
  },
  {
   "cell_type": "code",
   "execution_count": 367,
   "metadata": {},
   "outputs": [
    {
     "ename": "TypeError",
     "evalue": "unhashable type: 'list'",
     "output_type": "error",
     "traceback": [
      "\u001b[1;31m---------------------------------------------------------------------------\u001b[0m",
      "\u001b[1;31mTypeError\u001b[0m                                 Traceback (most recent call last)",
      "\u001b[1;32m<ipython-input-367-b88c5c6d09ba>\u001b[0m in \u001b[0;36m<module>\u001b[1;34m\u001b[0m\n\u001b[0;32m      1\u001b[0m \u001b[1;31m#### dictionaries cannot have a \"MUTABLE\" object as a Key. since list [1,2,3] is mutable, it cannot be a key for the dictionary\u001b[0m\u001b[1;33m\u001b[0m\u001b[1;33m\u001b[0m\u001b[1;33m\u001b[0m\u001b[0m\n\u001b[1;32m----> 2\u001b[1;33m \u001b[0mmydict3\u001b[0m \u001b[1;33m=\u001b[0m \u001b[1;33m{\u001b[0m\u001b[1;33m[\u001b[0m\u001b[1;36m1\u001b[0m\u001b[1;33m,\u001b[0m\u001b[1;36m2\u001b[0m\u001b[1;33m,\u001b[0m\u001b[1;36m3\u001b[0m\u001b[1;33m]\u001b[0m\u001b[1;33m:\u001b[0m \u001b[1;36m1000\u001b[0m\u001b[1;33m}\u001b[0m\u001b[1;33m\u001b[0m\u001b[1;33m\u001b[0m\u001b[0m\n\u001b[0m\u001b[0;32m      3\u001b[0m \u001b[1;33m\u001b[0m\u001b[0m\n\u001b[0;32m      4\u001b[0m \u001b[1;31m### why? - mutable objects allow item reassignment. which will corrupt the concept of a key\u001b[0m\u001b[1;33m\u001b[0m\u001b[1;33m\u001b[0m\u001b[1;33m\u001b[0m\u001b[0m\n",
      "\u001b[1;31mTypeError\u001b[0m: unhashable type: 'list'"
     ]
    }
   ],
   "source": [
    "#### dictionaries cannot have a \"MUTABLE\" object as a Key. since list [1,2,3] is mutable, it cannot be a key for the dictionary\n",
    "mydict3 = {[1,2,3]: 1000}\n",
    "\n",
    "### why? - mutable objects allow item reassignment. which will corrupt the concept of a key"
   ]
  },
  {
   "cell_type": "code",
   "execution_count": 368,
   "metadata": {},
   "outputs": [
    {
     "name": "stdout",
     "output_type": "stream",
     "text": [
      "{(1, 2, 3): 1000}\n"
     ]
    }
   ],
   "source": [
    "#### dictionaries  can have Tuples as a key because tuples are immutable.\n",
    "#### this is why dictionaries can also have strings or numbers as keys. because they are immutable too\n",
    "mydict3 = {(1,2,3): 1000}\n",
    "print(mydict3)"
   ]
  },
  {
   "cell_type": "code",
   "execution_count": 205,
   "metadata": {},
   "outputs": [],
   "source": [
    "### Restrictions with dictionaries\n",
    "### key duplication\n",
    "### definition of dictionary with same keys\n",
    "MLB_team = {'Colorado' : 'Rockies','Boston'   : 'Red Sox','Minnesota': 'Twins','Milwaukee': 'Brewers',\n",
    " 'Seattle'  : 'Mariners','Minnesota': 'TimbreWolves'}"
   ]
  },
  {
   "cell_type": "code",
   "execution_count": 204,
   "metadata": {},
   "outputs": [
    {
     "name": "stdout",
     "output_type": "stream",
     "text": [
      "{'Colorado': 'Rockies', 'Boston': 'Red Sox', 'Minnesota': 'TimbreWolves', 'Milwaukee': 'Brewers', 'Seattle': 'Mariners'}\n"
     ]
    }
   ],
   "source": [
    "print(MLB_team)  ### only the last occurrence of the key has been considered\n",
    "\n",
    "## so caution should exercised when we define dictionaries"
   ]
  },
  {
   "cell_type": "code",
   "execution_count": 335,
   "metadata": {},
   "outputs": [
    {
     "ename": "TypeError",
     "evalue": "unhashable type: 'dict'",
     "output_type": "error",
     "traceback": [
      "\u001b[1;31m---------------------------------------------------------------------------\u001b[0m",
      "\u001b[1;31mTypeError\u001b[0m                                 Traceback (most recent call last)",
      "\u001b[1;32m<ipython-input-335-83129df9eb81>\u001b[0m in \u001b[0;36m<module>\u001b[1;34m()\u001b[0m\n\u001b[0;32m      1\u001b[0m \u001b[1;31m### even a dictionary will not work as a key -- as dictionary is mutable\u001b[0m\u001b[1;33m\u001b[0m\u001b[1;33m\u001b[0m\u001b[0m\n\u001b[1;32m----> 2\u001b[1;33m \u001b[0mmydict8\u001b[0m \u001b[1;33m=\u001b[0m \u001b[1;33m{\u001b[0m\u001b[1;33m{\u001b[0m\u001b[1;34m'k1'\u001b[0m\u001b[1;33m:\u001b[0m \u001b[1;36m1\u001b[0m\u001b[1;33m}\u001b[0m\u001b[1;33m:\u001b[0m \u001b[1;34m'a'\u001b[0m\u001b[1;33m,\u001b[0m \u001b[1;33m(\u001b[0m\u001b[1;36m1\u001b[0m\u001b[1;33m,\u001b[0m \u001b[1;36m2\u001b[0m\u001b[1;33m)\u001b[0m\u001b[1;33m:\u001b[0m \u001b[1;34m'b'\u001b[0m\u001b[1;33m,\u001b[0m \u001b[1;33m(\u001b[0m\u001b[1;36m2\u001b[0m\u001b[1;33m,\u001b[0m \u001b[1;36m1\u001b[0m\u001b[1;33m)\u001b[0m\u001b[1;33m:\u001b[0m \u001b[1;34m'c'\u001b[0m\u001b[1;33m,\u001b[0m \u001b[1;33m(\u001b[0m\u001b[1;36m2\u001b[0m\u001b[1;33m,\u001b[0m \u001b[1;36m2\u001b[0m\u001b[1;33m)\u001b[0m\u001b[1;33m:\u001b[0m \u001b[1;34m'd'\u001b[0m\u001b[1;33m}\u001b[0m   \u001b[1;31m### this is NOT accepted\u001b[0m\u001b[1;33m\u001b[0m\u001b[0m\n\u001b[0m",
      "\u001b[1;31mTypeError\u001b[0m: unhashable type: 'dict'"
     ]
    }
   ],
   "source": [
    "### even a dictionary will not work as a key -- as dictionary is mutable\n",
    "mydict8 = {{'k1': 1}: 'a', (1, 2): 'b', (2, 1): 'c', (2, 2): 'd'}   ### this is NOT accepted\n"
   ]
  },
  {
   "cell_type": "markdown",
   "metadata": {},
   "source": [
    "### Is slice notation possible in a dictionary ??\n",
    "\n",
    "#### the answer is NO\n",
    "\n",
    "- REASON IS DICTIONARY is a key value pair. index is replaced by user defined keys. keys can be numbers, strings, tuples.\n",
    "- arrangement or sequence is not possible.\n",
    "- so slice notation does not make sense.\n",
    "- directly fetch items through a dictionary key\n"
   ]
  },
  {
   "cell_type": "code",
   "execution_count": 331,
   "metadata": {},
   "outputs": [],
   "source": [
    "### dictionary keys should be type immutable\n",
    "### keys of a dictionary can be a tuple or a string or a number or a float because keys of dictionary need to be immutable"
   ]
  },
  {
   "cell_type": "code",
   "execution_count": 214,
   "metadata": {},
   "outputs": [
    {
     "name": "stdout",
     "output_type": "stream",
     "text": [
      "{'Colorado': 'Rockies', 'Boston': 'Red Sox', 'Minnesota': 'TimbreWolves', 'Milwaukee': 'Brewers', 'Seattle': 'Mariners'}\n"
     ]
    }
   ],
   "source": [
    "print(MLB_team)"
   ]
  },
  {
   "cell_type": "code",
   "execution_count": 206,
   "metadata": {},
   "outputs": [
    {
     "data": {
      "text/plain": [
       "dict_keys(['Colorado', 'Boston', 'Minnesota', 'Milwaukee', 'Seattle'])"
      ]
     },
     "execution_count": 206,
     "metadata": {},
     "output_type": "execute_result"
    }
   ],
   "source": [
    "#### .keys returns the keys\n",
    "MLB_team.keys() "
   ]
  },
  {
   "cell_type": "code",
   "execution_count": 215,
   "metadata": {},
   "outputs": [
    {
     "data": {
      "text/plain": [
       "dict_keys([(1, 1), (1, 2), (2, 1), (2, 2)])"
      ]
     },
     "execution_count": 215,
     "metadata": {},
     "output_type": "execute_result"
    }
   ],
   "source": [
    "mydict7 = {(1, 1): 'a', (1, 2): 'b', (2, 1): 'c', (2, 2): 'd'}   ### this is accepted\n",
    "mydict7.keys()"
   ]
  },
  {
   "cell_type": "code",
   "execution_count": 207,
   "metadata": {},
   "outputs": [
    {
     "data": {
      "text/plain": [
       "dict_values(['Rockies', 'Red Sox', 'TimbreWolves', 'Brewers', 'Mariners'])"
      ]
     },
     "execution_count": 207,
     "metadata": {},
     "output_type": "execute_result"
    }
   ],
   "source": [
    "MLB_team.values() "
   ]
  },
  {
   "cell_type": "code",
   "execution_count": 208,
   "metadata": {},
   "outputs": [
    {
     "data": {
      "text/plain": [
       "dict_items([('Colorado', 'Rockies'), ('Boston', 'Red Sox'), ('Minnesota', 'TimbreWolves'), ('Milwaukee', 'Brewers'), ('Seattle', 'Mariners')])"
      ]
     },
     "execution_count": 208,
     "metadata": {},
     "output_type": "execute_result"
    }
   ],
   "source": [
    "MLB_team.items() "
   ]
  },
  {
   "cell_type": "code",
   "execution_count": 211,
   "metadata": {},
   "outputs": [
    {
     "data": {
      "text/plain": [
       "str"
      ]
     },
     "execution_count": 211,
     "metadata": {},
     "output_type": "execute_result"
    }
   ],
   "source": [
    "type('')"
   ]
  },
  {
   "cell_type": "code",
   "execution_count": 210,
   "metadata": {},
   "outputs": [
    {
     "ename": "NameError",
     "evalue": "name 'mydict7' is not defined",
     "output_type": "error",
     "traceback": [
      "\u001b[1;31m---------------------------------------------------------------------------\u001b[0m",
      "\u001b[1;31mNameError\u001b[0m                                 Traceback (most recent call last)",
      "\u001b[1;32m<ipython-input-210-a67e3d85fef0>\u001b[0m in \u001b[0;36m<module>\u001b[1;34m()\u001b[0m\n\u001b[0;32m      1\u001b[0m \u001b[1;31m### SLICING OR SLICE NOTATION DOES NOT WORK\u001b[0m\u001b[1;33m\u001b[0m\u001b[1;33m\u001b[0m\u001b[0m\n\u001b[1;32m----> 2\u001b[1;33m \u001b[0mprint\u001b[0m\u001b[1;33m(\u001b[0m\u001b[0mmydict7\u001b[0m\u001b[1;33m[\u001b[0m\u001b[1;36m0\u001b[0m\u001b[1;33m:\u001b[0m\u001b[1;36m2\u001b[0m\u001b[1;33m]\u001b[0m\u001b[1;33m)\u001b[0m     \u001b[1;31m#### NOT ACCEPTABLE\u001b[0m\u001b[1;33m\u001b[0m\u001b[0m\n\u001b[0m",
      "\u001b[1;31mNameError\u001b[0m: name 'mydict7' is not defined"
     ]
    }
   ],
   "source": [
    "### SLICING OR SLICE NOTATION DOES NOT WORK\n",
    "print(mydict7[0:2])     #### NOT ACCEPTABLE\n"
   ]
  },
  {
   "cell_type": "code",
   "execution_count": null,
   "metadata": {},
   "outputs": [],
   "source": [
    "##### Methods in dictionaries"
   ]
  },
  {
   "cell_type": "code",
   "execution_count": 220,
   "metadata": {},
   "outputs": [],
   "source": [
    "mydict10 = {'key1':123,'key2':[12,23,33],'key3':['item0','item1','item2'],'key4':{'sk1':1,'sk2':2}}"
   ]
  },
  {
   "cell_type": "code",
   "execution_count": null,
   "metadata": {},
   "outputs": [],
   "source": [
    "mydict10."
   ]
  },
  {
   "cell_type": "code",
   "execution_count": 221,
   "metadata": {},
   "outputs": [
    {
     "data": {
      "text/plain": [
       "dict_keys(['key1', 'key2', 'key3', 'key4'])"
      ]
     },
     "execution_count": 221,
     "metadata": {},
     "output_type": "execute_result"
    }
   ],
   "source": [
    "### to get the keys in a dictionary\n",
    "mydict10.keys()"
   ]
  },
  {
   "cell_type": "code",
   "execution_count": 222,
   "metadata": {},
   "outputs": [
    {
     "data": {
      "text/plain": [
       "dict_values([123, [12, 23, 33], ['item0', 'item1', 'item2'], {'sk1': 1, 'sk2': 2}])"
      ]
     },
     "execution_count": 222,
     "metadata": {},
     "output_type": "execute_result"
    }
   ],
   "source": [
    "### to get the values in a dictionary\n",
    "mydict10.values()"
   ]
  },
  {
   "cell_type": "code",
   "execution_count": 223,
   "metadata": {},
   "outputs": [
    {
     "data": {
      "text/plain": [
       "dict_items([('key1', 123), ('key2', [12, 23, 33]), ('key3', ['item0', 'item1', 'item2']), ('key4', {'sk1': 1, 'sk2': 2})])"
      ]
     },
     "execution_count": 223,
     "metadata": {},
     "output_type": "execute_result"
    }
   ],
   "source": [
    "### to get the items(key and value) in a dictionary\n",
    "mydict10.items()"
   ]
  },
  {
   "cell_type": "code",
   "execution_count": null,
   "metadata": {},
   "outputs": [],
   "source": []
  },
  {
   "cell_type": "code",
   "execution_count": 224,
   "metadata": {},
   "outputs": [
    {
     "data": {
      "text/plain": [
       "'ITEM0'"
      ]
     },
     "execution_count": 224,
     "metadata": {},
     "output_type": "execute_result"
    }
   ],
   "source": [
    "mydict10['key3'][0].upper()   ### extracts and converts into upper"
   ]
  },
  {
   "cell_type": "code",
   "execution_count": 380,
   "metadata": {},
   "outputs": [
    {
     "data": {
      "text/plain": [
       "'item0'"
      ]
     },
     "execution_count": 380,
     "metadata": {},
     "output_type": "execute_result"
    }
   ],
   "source": [
    "mydict10['key3'][0].lower()   ### extracts and converts into lower"
   ]
  },
  {
   "cell_type": "code",
   "execution_count": 348,
   "metadata": {},
   "outputs": [
    {
     "name": "stdout",
     "output_type": "stream",
     "text": [
      "{'key1': ['A', 'B'], 'key2': [12, 23, 33], 'key3': ['item0', 'item1', 'item2'], 'key4': {'sk1': 1, 'sk2': 2}}\n"
     ]
    }
   ],
   "source": [
    "### dictionaries are mutable (only the keys are immutable)\n",
    "### changing a value of a given key\n",
    "mydict10['key1'] = ['A','B']\n",
    "print(mydict10)"
   ]
  },
  {
   "cell_type": "code",
   "execution_count": 381,
   "metadata": {},
   "outputs": [
    {
     "data": {
      "text/plain": [
       "{'key1': 123,\n",
       " 'key2': [12, 23, 33],\n",
       " 'key3': ['item0', 'item1', 'item2'],\n",
       " 'key4': {'sk1': 1, 'sk2': 2}}"
      ]
     },
     "execution_count": 381,
     "metadata": {},
     "output_type": "execute_result"
    }
   ],
   "source": [
    "mydict10"
   ]
  },
  {
   "cell_type": "code",
   "execution_count": 383,
   "metadata": {},
   "outputs": [
    {
     "name": "stdout",
     "output_type": "stream",
     "text": [
      "{'key1': 123, 'key2': [12, 23, 33], 'key3': ['item0', 'item1', 'item2'], 'key4': {'sk1': 1, 'sk2': 2}, 'key5': ['n1', 'n2']}\n"
     ]
    }
   ],
   "source": [
    "### dictionaries are mutable (only the keys are immutable)\n",
    "### Adding a new key to a dictionary\n",
    "mydict10['key5'] = ['n1','n2']\n",
    "print(mydict10)"
   ]
  },
  {
   "cell_type": "markdown",
   "metadata": {},
   "source": [
    "## DICTIONARY  IN PYTHON --- END"
   ]
  },
  {
   "cell_type": "code",
   "execution_count": null,
   "metadata": {},
   "outputs": [],
   "source": []
  },
  {
   "cell_type": "markdown",
   "metadata": {},
   "source": [
    "### Strings in Python - START"
   ]
  },
  {
   "cell_type": "code",
   "execution_count": 213,
   "metadata": {},
   "outputs": [
    {
     "name": "stdout",
     "output_type": "stream",
     "text": [
      "iam a string\n",
      "12\n"
     ]
    }
   ],
   "source": [
    "### string creation\n",
    "mystring100 = \"iam a string\"\n",
    "print(mystring100)\n",
    "print(len(mystring100))\n",
    "#Strings are immutable"
   ]
  },
  {
   "cell_type": "code",
   "execution_count": 217,
   "metadata": {},
   "outputs": [
    {
     "ename": "TypeError",
     "evalue": "'str' object does not support item assignment",
     "output_type": "error",
     "traceback": [
      "\u001b[1;31m---------------------------------------------------------------------------\u001b[0m",
      "\u001b[1;31mTypeError\u001b[0m                                 Traceback (most recent call last)",
      "\u001b[1;32m<ipython-input-217-a75ba079d6a5>\u001b[0m in \u001b[0;36m<module>\u001b[1;34m()\u001b[0m\n\u001b[1;32m----> 1\u001b[1;33m \u001b[0mmystring100\u001b[0m\u001b[1;33m[\u001b[0m\u001b[1;36m2\u001b[0m\u001b[1;33m]\u001b[0m \u001b[1;33m=\u001b[0m \u001b[1;34m'ww'\u001b[0m\u001b[1;33m\u001b[0m\u001b[0m\n\u001b[0m",
      "\u001b[1;31mTypeError\u001b[0m: 'str' object does not support item assignment"
     ]
    }
   ],
   "source": [
    "mystring100[2] = 'ww'"
   ]
  },
  {
   "cell_type": "code",
   "execution_count": 218,
   "metadata": {},
   "outputs": [],
   "source": [
    "mystring100 = 'new string'"
   ]
  },
  {
   "cell_type": "markdown",
   "metadata": {},
   "source": [
    "### string indexing\n"
   ]
  },
  {
   "cell_type": "code",
   "execution_count": 170,
   "metadata": {},
   "outputs": [
    {
     "name": "stdout",
     "output_type": "stream",
     "text": [
      "m\n"
     ]
    }
   ],
   "source": [
    "### grab the letter 'm' from string\n",
    "print(mystring100[2])"
   ]
  },
  {
   "cell_type": "code",
   "execution_count": 171,
   "metadata": {},
   "outputs": [
    {
     "name": "stdout",
     "output_type": "stream",
     "text": [
      "m a string\n"
     ]
    }
   ],
   "source": [
    "### grab sequence of items in a string from index 2 till end\n",
    "print(mystring100[2:])"
   ]
  },
  {
   "cell_type": "code",
   "execution_count": 172,
   "metadata": {},
   "outputs": [
    {
     "name": "stdout",
     "output_type": "stream",
     "text": [
      "imasrn\n"
     ]
    }
   ],
   "source": [
    "### grab sequence of items in a string from index 2 till end and step of 2\n",
    "print(mystring100[::2])"
   ]
  },
  {
   "cell_type": "code",
   "execution_count": 174,
   "metadata": {},
   "outputs": [
    {
     "name": "stdout",
     "output_type": "stream",
     "text": [
      "['iam', 'a', 'string']\n"
     ]
    }
   ],
   "source": [
    "### string methods - splits the string based on separator and converts it into a list\n",
    "### if no separator is given, space is considered as default\n",
    "print(mystring100.split())"
   ]
  },
  {
   "cell_type": "markdown",
   "metadata": {},
   "source": [
    "---"
   ]
  },
  {
   "cell_type": "markdown",
   "metadata": {},
   "source": [
    "## SETS  IN PYTHON --- START"
   ]
  },
  {
   "cell_type": "markdown",
   "metadata": {},
   "source": [
    " \n",
    "SET IS A COLLECTION OF UNIQUE ELEMENTS\n",
    "unique - no duplicate values "
   ]
  },
  {
   "cell_type": "code",
   "execution_count": 433,
   "metadata": {},
   "outputs": [
    {
     "name": "stdout",
     "output_type": "stream",
     "text": [
      "<class 'set'>\n"
     ]
    }
   ],
   "source": [
    "### defining a set\n",
    "x = set()\n",
    "print(type(x))"
   ]
  },
  {
   "cell_type": "code",
   "execution_count": 434,
   "metadata": {},
   "outputs": [
    {
     "name": "stdout",
     "output_type": "stream",
     "text": [
      "{1}\n",
      "<class 'set'>\n"
     ]
    }
   ],
   "source": [
    "### to add a value to a set setname.add(value)\n",
    "x.add(1)\n",
    "print(x)\n",
    "print(type(x))"
   ]
  },
  {
   "cell_type": "code",
   "execution_count": 386,
   "metadata": {},
   "outputs": [
    {
     "name": "stdout",
     "output_type": "stream",
     "text": [
      "{1, 20}\n",
      "<class 'set'>\n"
     ]
    }
   ],
   "source": [
    "x.add(20)\n",
    "print(x)\n",
    "print(type(x))"
   ]
  },
  {
   "cell_type": "code",
   "execution_count": 387,
   "metadata": {},
   "outputs": [
    {
     "name": "stdout",
     "output_type": "stream",
     "text": [
      "{200, 1, 20}\n",
      "<class 'set'>\n"
     ]
    }
   ],
   "source": [
    "x.add(200)\n",
    "print(x)\n",
    "print(type(x))"
   ]
  },
  {
   "cell_type": "code",
   "execution_count": 192,
   "metadata": {},
   "outputs": [
    {
     "name": "stdout",
     "output_type": "stream",
     "text": [
      "{200, 1, 20}\n",
      "<class 'set'>\n"
     ]
    }
   ],
   "source": [
    "x.add(200)\n",
    "print(x)\n",
    "print(type(x))"
   ]
  },
  {
   "cell_type": "code",
   "execution_count": 388,
   "metadata": {},
   "outputs": [
    {
     "name": "stdout",
     "output_type": "stream",
     "text": [
      "{200, 1, 20, 5000}\n",
      "<class 'set'>\n"
     ]
    }
   ],
   "source": [
    "### adding 200 again does not result in additional item. because set values have to be unique\n",
    "x.add(5000)\n",
    "print(x)\n",
    "print(type(x))"
   ]
  },
  {
   "cell_type": "code",
   "execution_count": 389,
   "metadata": {},
   "outputs": [
    {
     "name": "stdout",
     "output_type": "stream",
     "text": [
      "{1, 200, 5000, 10000, 20}\n"
     ]
    }
   ],
   "source": [
    "x.add(10000)\n",
    "print(x)\n",
    "#### no sort happens"
   ]
  },
  {
   "cell_type": "code",
   "execution_count": 392,
   "metadata": {},
   "outputs": [
    {
     "data": {
      "text/plain": [
       "{1, 2, 3, 5, 20, 100, 188, 199, 200}"
      ]
     },
     "execution_count": 392,
     "metadata": {},
     "output_type": "execute_result"
    }
   ],
   "source": [
    "### set and list - add multiple elements to a set\n",
    "mylist100 =  [1,2,3,5,20,200,100,188,199,199]\n",
    "### create a set out of a list\n",
    "set(mylist100)\n",
    "\n",
    "### note that the duplicates (199) is removed"
   ]
  },
  {
   "cell_type": "code",
   "execution_count": 357,
   "metadata": {},
   "outputs": [
    {
     "data": {
      "text/plain": [
       "{100, 188, 199, 20, 200, '2x', 3, 5, 'x'}"
      ]
     },
     "execution_count": 357,
     "metadata": {},
     "output_type": "execute_result"
    }
   ],
   "source": [
    "### set and list - add multiple elements to a set --- note duplicates (100,200) are removed\n",
    "mylist101 =  [100,200,3,5,20,200,100,188,199,'x','2x']\n",
    "### create a set out of a list\n",
    "set(mylist101)"
   ]
  },
  {
   "cell_type": "code",
   "execution_count": 393,
   "metadata": {},
   "outputs": [
    {
     "data": {
      "text/plain": [
       "{100, 188, 199, 1999, 20, 200, '2X', '2x', 3, 5, 'x'}"
      ]
     },
     "execution_count": 393,
     "metadata": {},
     "output_type": "execute_result"
    }
   ],
   "source": [
    "### set and list - add multiple elements to a set --- note duplicates (100,200) are removed\n",
    "mylist102 =  [100,200,3,5,20,200,100,188,199,'x','2x','2X','2x',199,1999]\n",
    "### create a set out of a list\n",
    "set(mylist102)"
   ]
  },
  {
   "cell_type": "markdown",
   "metadata": {},
   "source": [
    "SET INTERSECTION AND UNION"
   ]
  },
  {
   "cell_type": "code",
   "execution_count": 394,
   "metadata": {},
   "outputs": [
    {
     "name": "stdout",
     "output_type": "stream",
     "text": [
      "{'toyota', 'suzuki', 'bmw', 'chevy', 'honda', 'ford'}\n",
      "6\n"
     ]
    }
   ],
   "source": [
    "### SET INTERSECTION AND SET UNION\n",
    "auto_survey = set(['chevy','bmw','suzuki','ford','toyota','honda','bmw'])\n",
    "print(auto_survey)\n",
    "print(len(auto_survey))"
   ]
  },
  {
   "cell_type": "code",
   "execution_count": 396,
   "metadata": {},
   "outputs": [
    {
     "name": "stdout",
     "output_type": "stream",
     "text": [
      "{'suzuki', 'nissangt', 'chevy', '100', 'hyundai', 'konigsegg', 'holden', 'lambhorgini', 'kia', 'scion'}\n"
     ]
    }
   ],
   "source": [
    "auto_survey1 = set(['100','chevy','suzuki','hyundai','kia','holden','scion','lambhorgini','konigsegg','nissangt'])\n",
    "print(auto_survey1)"
   ]
  },
  {
   "cell_type": "code",
   "execution_count": 397,
   "metadata": {},
   "outputs": [
    {
     "name": "stdout",
     "output_type": "stream",
     "text": [
      "{'toyota', 'suzuki', 'nissangt', 'hyundai', 'ford', 'konigsegg', 'kia', 'bmw', 'chevy', '100', 'honda', 'holden', 'lambhorgini', 'scion'}\n"
     ]
    }
   ],
   "source": [
    "#### set union combines the elements of 2 sets and removes duplicates\n",
    "### a business use case merge 2 files and remove duplicates - set union is represented by pipe symbol \n",
    "setunion = auto_survey | auto_survey1\n",
    "print(setunion)"
   ]
  },
  {
   "cell_type": "code",
   "execution_count": 398,
   "metadata": {},
   "outputs": [
    {
     "name": "stdout",
     "output_type": "stream",
     "text": [
      "{'chevy', 'suzuki'}\n"
     ]
    }
   ],
   "source": [
    "### set intersection - picks up the common elements between 2 sets\n",
    "\n",
    "setintersect = auto_survey & auto_survey1\n",
    "print(setintersect)"
   ]
  },
  {
   "cell_type": "code",
   "execution_count": 399,
   "metadata": {},
   "outputs": [
    {
     "ename": "TypeError",
     "evalue": "'set' object is not subscriptable",
     "output_type": "error",
     "traceback": [
      "\u001b[1;31m---------------------------------------------------------------------------\u001b[0m",
      "\u001b[1;31mTypeError\u001b[0m                                 Traceback (most recent call last)",
      "\u001b[1;32m<ipython-input-399-40ece212bb35>\u001b[0m in \u001b[0;36m<module>\u001b[1;34m\u001b[0m\n\u001b[0;32m      1\u001b[0m \u001b[1;31m### Set restrictions - does not support indexing\u001b[0m\u001b[1;33m\u001b[0m\u001b[1;33m\u001b[0m\u001b[1;33m\u001b[0m\u001b[0m\n\u001b[1;32m----> 2\u001b[1;33m \u001b[0mauto_survey1\u001b[0m\u001b[1;33m[\u001b[0m\u001b[1;36m1\u001b[0m\u001b[1;33m]\u001b[0m\u001b[1;33m\u001b[0m\u001b[1;33m\u001b[0m\u001b[0m\n\u001b[0m",
      "\u001b[1;31mTypeError\u001b[0m: 'set' object is not subscriptable"
     ]
    }
   ],
   "source": [
    " ### Set restrictions - does not support indexing\n",
    "auto_survey1[1]\n"
   ]
  },
  {
   "cell_type": "code",
   "execution_count": 438,
   "metadata": {},
   "outputs": [
    {
     "name": "stdout",
     "output_type": "stream",
     "text": [
      "{1, 2, 3.9, '99', 'a'}\n",
      "<class 'set'>\n"
     ]
    }
   ],
   "source": [
    "setlist15 = [1,1,2,'a',3.9,'99']\n",
    "xset= set(setlist15)\n",
    "print(xset)\n",
    "print(type(xset))"
   ]
  },
  {
   "cell_type": "code",
   "execution_count": 401,
   "metadata": {},
   "outputs": [
    {
     "data": {
      "text/plain": [
       "{1, 2, 4, 8, 99, 200, 999}"
      ]
     },
     "execution_count": 401,
     "metadata": {},
     "output_type": "execute_result"
    }
   ],
   "source": [
    "setlist16 = [1,200,8,99,999,2,4]\n",
    "set(setlist16)"
   ]
  },
  {
   "cell_type": "code",
   "execution_count": 406,
   "metadata": {},
   "outputs": [
    {
     "name": "stdout",
     "output_type": "stream",
     "text": [
      "4\n"
     ]
    }
   ],
   "source": [
    "### index() gives the index of a value in the set \n",
    "### start and stop , start = 0 and stop =5 (slice notation concept)\n",
    "print(setlist15.index(3.9))"
   ]
  },
  {
   "cell_type": "code",
   "execution_count": 429,
   "metadata": {},
   "outputs": [
    {
     "name": "stdout",
     "output_type": "stream",
     "text": [
      "4\n"
     ]
    }
   ],
   "source": [
    "print(setlist15.index(3.9,0,5))"
   ]
  },
  {
   "cell_type": "code",
   "execution_count": 409,
   "metadata": {},
   "outputs": [
    {
     "ename": "ValueError",
     "evalue": "3.9 is not in list",
     "output_type": "error",
     "traceback": [
      "\u001b[1;31m---------------------------------------------------------------------------\u001b[0m",
      "\u001b[1;31mValueError\u001b[0m                                Traceback (most recent call last)",
      "\u001b[1;32m<ipython-input-409-d8821a8d2862>\u001b[0m in \u001b[0;36m<module>\u001b[1;34m\u001b[0m\n\u001b[1;32m----> 1\u001b[1;33m \u001b[0mprint\u001b[0m\u001b[1;33m(\u001b[0m\u001b[0msetlist15\u001b[0m\u001b[1;33m.\u001b[0m\u001b[0mindex\u001b[0m\u001b[1;33m(\u001b[0m\u001b[1;36m3.9\u001b[0m\u001b[1;33m,\u001b[0m\u001b[1;36m0\u001b[0m\u001b[1;33m,\u001b[0m\u001b[1;36m4\u001b[0m\u001b[1;33m)\u001b[0m\u001b[1;33m)\u001b[0m\u001b[1;33m\u001b[0m\u001b[1;33m\u001b[0m\u001b[0m\n\u001b[0m",
      "\u001b[1;31mValueError\u001b[0m: 3.9 is not in list"
     ]
    }
   ],
   "source": [
    "print(setlist15.index(3.9,0,4))"
   ]
  },
  {
   "cell_type": "code",
   "execution_count": 410,
   "metadata": {},
   "outputs": [
    {
     "ename": "ValueError",
     "evalue": "3.9 is not in list",
     "output_type": "error",
     "traceback": [
      "\u001b[1;31m---------------------------------------------------------------------------\u001b[0m",
      "\u001b[1;31mValueError\u001b[0m                                Traceback (most recent call last)",
      "\u001b[1;32m<ipython-input-410-aa5ab0a76112>\u001b[0m in \u001b[0;36m<module>\u001b[1;34m\u001b[0m\n\u001b[0;32m      2\u001b[0m \u001b[1;31m### start and stop , start = 0 and stop =4 (slice notation concept)\u001b[0m\u001b[1;33m\u001b[0m\u001b[1;33m\u001b[0m\u001b[1;33m\u001b[0m\u001b[0m\n\u001b[0;32m      3\u001b[0m \u001b[1;31m### slicing\u001b[0m\u001b[1;33m\u001b[0m\u001b[1;33m\u001b[0m\u001b[1;33m\u001b[0m\u001b[0m\n\u001b[1;32m----> 4\u001b[1;33m \u001b[0mprint\u001b[0m\u001b[1;33m(\u001b[0m\u001b[0msetlist15\u001b[0m\u001b[1;33m.\u001b[0m\u001b[0mindex\u001b[0m\u001b[1;33m(\u001b[0m\u001b[1;36m3.9\u001b[0m\u001b[1;33m,\u001b[0m\u001b[1;36m0\u001b[0m\u001b[1;33m,\u001b[0m\u001b[1;36m4\u001b[0m\u001b[1;33m)\u001b[0m\u001b[1;33m)\u001b[0m\u001b[1;33m\u001b[0m\u001b[1;33m\u001b[0m\u001b[0m\n\u001b[0m\u001b[0;32m      5\u001b[0m \u001b[1;33m\u001b[0m\u001b[0m\n",
      "\u001b[1;31mValueError\u001b[0m: 3.9 is not in list"
     ]
    }
   ],
   "source": [
    "### index() gives the index of a value in the set \n",
    "### start and stop , start = 0 and stop =4 (slice notation concept)\n",
    "### slicing\n",
    "print(setlist15.index(3.9,0,4))\n",
    " "
   ]
  },
  {
   "cell_type": "code",
   "execution_count": 430,
   "metadata": {},
   "outputs": [
    {
     "data": {
      "text/plain": [
       "[1, 1, 2, 'a', 3.9, '99']"
      ]
     },
     "execution_count": 430,
     "metadata": {},
     "output_type": "execute_result"
    }
   ],
   "source": [
    " setlist15"
   ]
  },
  {
   "cell_type": "code",
   "execution_count": 311,
   "metadata": {},
   "outputs": [],
   "source": [
    "### methods that are there in a set"
   ]
  },
  {
   "cell_type": "code",
   "execution_count": 412,
   "metadata": {},
   "outputs": [
    {
     "name": "stdout",
     "output_type": "stream",
     "text": [
      "[]\n"
     ]
    }
   ],
   "source": [
    "### clearing the values in a set - using .clear method\n",
    "setlist15.clear()\n",
    "print(setlist15)"
   ]
  },
  {
   "cell_type": "code",
   "execution_count": 439,
   "metadata": {},
   "outputs": [
    {
     "name": "stdout",
     "output_type": "stream",
     "text": [
      "{1, 2, 3.9, '99', 'a'}\n",
      "<class 'set'>\n"
     ]
    }
   ],
   "source": [
    "print(xset)\n",
    "print(type(xset))\n"
   ]
  },
  {
   "cell_type": "code",
   "execution_count": 440,
   "metadata": {},
   "outputs": [
    {
     "ename": "AttributeError",
     "evalue": "'set' object has no attribute 'append'",
     "output_type": "error",
     "traceback": [
      "\u001b[1;31m---------------------------------------------------------------------------\u001b[0m",
      "\u001b[1;31mAttributeError\u001b[0m                            Traceback (most recent call last)",
      "\u001b[1;32m<ipython-input-440-738a0712b399>\u001b[0m in \u001b[0;36m<module>\u001b[1;34m\u001b[0m\n\u001b[0;32m      1\u001b[0m \u001b[1;31m#### appending elements to a set and converting to a list\u001b[0m\u001b[1;33m\u001b[0m\u001b[1;33m\u001b[0m\u001b[1;33m\u001b[0m\u001b[0m\n\u001b[0;32m      2\u001b[0m \u001b[1;31m###\u001b[0m\u001b[1;33m\u001b[0m\u001b[1;33m\u001b[0m\u001b[1;33m\u001b[0m\u001b[0m\n\u001b[1;32m----> 3\u001b[1;33m \u001b[0mxset\u001b[0m\u001b[1;33m.\u001b[0m\u001b[0mappend\u001b[0m\u001b[1;33m(\u001b[0m\u001b[1;36m3000\u001b[0m\u001b[1;33m)\u001b[0m\u001b[1;33m\u001b[0m\u001b[1;33m\u001b[0m\u001b[0m\n\u001b[0m\u001b[0;32m      4\u001b[0m \u001b[0mprint\u001b[0m\u001b[1;33m(\u001b[0m\u001b[0mxset\u001b[0m\u001b[1;33m)\u001b[0m\u001b[1;33m\u001b[0m\u001b[1;33m\u001b[0m\u001b[0m\n\u001b[0;32m      5\u001b[0m \u001b[0mprint\u001b[0m\u001b[1;33m(\u001b[0m\u001b[0mtype\u001b[0m\u001b[1;33m(\u001b[0m\u001b[0mxset\u001b[0m\u001b[1;33m)\u001b[0m\u001b[1;33m)\u001b[0m\u001b[1;33m\u001b[0m\u001b[1;33m\u001b[0m\u001b[0m\n",
      "\u001b[1;31mAttributeError\u001b[0m: 'set' object has no attribute 'append'"
     ]
    }
   ],
   "source": [
    "#### appending elements to a set and converting to a list\n",
    "### \n",
    "xset.append(3000)\n",
    "print(xset)\n",
    "print(type(xset))"
   ]
  },
  {
   "cell_type": "code",
   "execution_count": 419,
   "metadata": {},
   "outputs": [
    {
     "data": {
      "text/plain": [
       "[3000, 3000, 3000, 3000, 3000, 3000]"
      ]
     },
     "execution_count": 419,
     "metadata": {},
     "output_type": "execute_result"
    }
   ],
   "source": [
    "setlist15"
   ]
  },
  {
   "cell_type": "code",
   "execution_count": 382,
   "metadata": {},
   "outputs": [
    {
     "data": {
      "text/plain": [
       "3000"
      ]
     },
     "execution_count": 382,
     "metadata": {},
     "output_type": "execute_result"
    }
   ],
   "source": [
    "### .pop method\n",
    "setlist15.pop(2)"
   ]
  },
  {
   "cell_type": "markdown",
   "metadata": {},
   "source": [
    "## SET  IN PYTHON --- END"
   ]
  },
  {
   "cell_type": "markdown",
   "metadata": {},
   "source": [
    "---"
   ]
  }
 ],
 "metadata": {
  "kernelspec": {
   "display_name": "Python 3",
   "language": "python",
   "name": "python3"
  },
  "language_info": {
   "codemirror_mode": {
    "name": "ipython",
    "version": 3
   },
   "file_extension": ".py",
   "mimetype": "text/x-python",
   "name": "python",
   "nbconvert_exporter": "python",
   "pygments_lexer": "ipython3",
   "version": "3.7.1"
  }
 },
 "nbformat": 4,
 "nbformat_minor": 4
}
