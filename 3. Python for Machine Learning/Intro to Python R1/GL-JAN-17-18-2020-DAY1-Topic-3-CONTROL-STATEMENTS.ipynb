{
 "cells": [
  {
   "cell_type": "markdown",
   "metadata": {},
   "source": [
    "# if, elif, else Statements\n",
    "\n",
    "<code>if</code> Statements in Python allows us to tell the computer to perform alternative actions based on a certain set of results.\n",
    "\n",
    "Verbally, we can imagine we are telling the computer:\n",
    "\n",
    "\"Hey if this case happens, perform some action\"\n",
    "\n",
    "We can then expand the idea further with <code>elif</code> and <code>else</code> statements, which allow us to tell the computer:\n",
    "\n",
    "\"Hey if this case happens, perform some action. Else, if another case happens, perform some other action. Else, if *none* of the above cases happened, perform this action.\"\n",
    "\n",
    " the syntax format for <code>if</code> statements to get a better idea of this:\n",
    "\n",
    "    if scenario1/cond1:\n",
    "        perform action1\n",
    "    elif cond2:\n",
    "        perform action2\n",
    "    else: \n",
    "        perform action3"
   ]
  },
  {
   "cell_type": "code",
   "execution_count": null,
   "metadata": {},
   "outputs": [],
   "source": []
  },
  {
   "cell_type": "markdown",
   "metadata": {},
   "source": []
  },
  {
   "cell_type": "code",
   "execution_count": 1,
   "metadata": {},
   "outputs": [
    {
     "name": "stdout",
     "output_type": "stream",
     "text": [
      "my first if\n"
     ]
    }
   ],
   "source": [
    "### simple example - no meaning to this statement \n",
    "if True:             ### True is a keyword and not a user defined variable\n",
    "    print('my first if')"
   ]
  },
  {
   "cell_type": "code",
   "execution_count": 2,
   "metadata": {},
   "outputs": [
    {
     "ename": "SyntaxError",
     "evalue": "invalid syntax (<ipython-input-2-d140515ae0f3>, line 1)",
     "output_type": "error",
     "traceback": [
      "\u001b[1;36m  File \u001b[1;32m\"<ipython-input-2-d140515ae0f3>\"\u001b[1;36m, line \u001b[1;32m1\u001b[0m\n\u001b[1;33m    if True\u001b[0m\n\u001b[1;37m           ^\u001b[0m\n\u001b[1;31mSyntaxError\u001b[0m\u001b[1;31m:\u001b[0m invalid syntax\n"
     ]
    }
   ],
   "source": [
    "if True:\n",
    "    print('my second if')"
   ]
  },
  {
   "cell_type": "code",
   "execution_count": null,
   "metadata": {},
   "outputs": [],
   "source": []
  },
  {
   "cell_type": "code",
   "execution_count": 2,
   "metadata": {},
   "outputs": [
    {
     "name": "stdout",
     "output_type": "stream",
     "text": [
      "X IS NOT 100\n"
     ]
    }
   ],
   "source": [
    "### example 2\n",
    "x = 200                # this is assignment of value to variable x\n",
    "if(x == 100):          ### note that  \"==\" is condition check ..this is checking or validating whether x = 100\n",
    "    print('x -IS 100')\n",
    "else:\n",
    "    print('X IS NOT 100')\n",
    "\n",
    "\n",
    "    "
   ]
  },
  {
   "cell_type": "code",
   "execution_count": 3,
   "metadata": {},
   "outputs": [
    {
     "name": "stdout",
     "output_type": "stream",
     "text": [
      "x matched\n"
     ]
    }
   ],
   "source": [
    "### example 3\n",
    "x = 200                # this is assignment of value to variable x\n",
    "if(x == 100):          ### note that  \"==\" is condition check ..this is checking or validating whether x = 100\n",
    "    print('x -IS 100')\n",
    "elif(x == 150):\n",
    "    print('x is  150')\n",
    "elif(x == 200):\n",
    "    print('x matched')\n",
    "else:\n",
    "    print('X IS NOT 100')\n",
    "\n"
   ]
  },
  {
   "cell_type": "code",
   "execution_count": 4,
   "metadata": {},
   "outputs": [
    {
     "name": "stdout",
     "output_type": "stream",
     "text": [
      " i will be printed anyways when x is not True\n"
     ]
    }
   ],
   "source": [
    "### example 3\n",
    "x = False\n",
    "if x:\n",
    "    print('x was True!')\n",
    "else:\n",
    "    print(' i will be printed anyways when x is not True')"
   ]
  },
  {
   "cell_type": "code",
   "execution_count": null,
   "metadata": {},
   "outputs": [],
   "source": []
  },
  {
   "cell_type": "code",
   "execution_count": 5,
   "metadata": {},
   "outputs": [
    {
     "name": "stdout",
     "output_type": "stream",
     "text": [
      "Where exactly am i\n"
     ]
    }
   ],
   "source": [
    "### example 4 - multiple branches of control statement - elif \n",
    "\n",
    "location = 'resort'\n",
    "\n",
    "if location == 'park':\n",
    "    print('welcome to shop')\n",
    "      \n",
    "elif location == 'Bank':\n",
    "    print('Welcome to the Bank')\n",
    "    \n",
    "elif location == 'office':\n",
    "    print('i am at work')\n",
    "else:\n",
    "    print('Where exactly am i')    ### 1 else statement allowed\n",
    "\n"
   ]
  },
  {
   "cell_type": "code",
   "execution_count": 6,
   "metadata": {},
   "outputs": [
    {
     "name": "stdout",
     "output_type": "stream",
     "text": [
      "welcome to house\n",
      "what apt u want to visit\n",
      "out of nested if\n",
      "welcome to main if statement\n"
     ]
    }
   ],
   "source": [
    "###example 5\n",
    "### nested IF statements - if within a if statement\n",
    "\n",
    "location = 'house'\n",
    "sub_location = 'apartmentno-4'\n",
    "\n",
    "if location == 'house':                             ### main if statement \n",
    "    print('welcome to house')\n",
    "    if sub_location == 'apartmentno-3':             ### nested if start\n",
    "        print('welcome to apartmentno-3')\n",
    "    else:\n",
    "        print('what apt u want to visit')           ### nested if end     \n",
    "    print('out of nested if')\n",
    "    print(\"welcome to main if statement\")\n",
    "elif location == 'Bank':\n",
    "    print(\"welcome to bank in elif statement\")\n",
    "else:\n",
    "    print(\"dont know where you are!!!!\")\n",
    "\n",
    "##location = \"newhouse\"\n",
    "#print(location)"
   ]
  },
  {
   "cell_type": "code",
   "execution_count": 10,
   "metadata": {},
   "outputs": [
    {
     "name": "stdout",
     "output_type": "stream",
     "text": [
      "welcome to house\n",
      "welcome to apartmentno-3\n",
      "nestedif_x 100\n",
      "welcome to firstif\n",
      "is nestedif_x available here? 100\n",
      "is nestedif_x available outside main if? 100\n"
     ]
    }
   ],
   "source": [
    "###example 5\n",
    "### nested IF statements - if within a if statement\n",
    "\n",
    "location = 'house'\n",
    "sub_location = 'apartmentno-3'\n",
    "\n",
    "if location == 'house':                             ### main if statement \n",
    "    print('welcome to house')\n",
    "    if sub_location == 'apartmentno-3':             ### nested if start\n",
    "        nestedif_x = 100\n",
    "        print('welcome to apartmentno-3')\n",
    "        print('nestedif_x',nestedif_x)\n",
    "    else:\n",
    "        print('welcome to apartmentno-x')           ### nested if end     \n",
    "    print(\"welcome to firstif\")\n",
    "    print(\"is nestedif_x available here?\",nestedif_x)\n",
    "elif location == 'Bank':\n",
    "    print(\"welcome to bank in elif statement\")\n",
    "else:\n",
    "    print(\"dont know where you are!!!!\")\n",
    "\n",
    "print(\"is nestedif_x available outside main if?\",nestedif_x)\n",
    "##location = \"newhouse\"\n",
    "#print(location)"
   ]
  },
  {
   "cell_type": "code",
   "execution_count": 4,
   "metadata": {},
   "outputs": [
    {
     "name": "stdout",
     "output_type": "stream",
     "text": [
      "dont know where you are!!!!\n",
      "second print\n"
     ]
    }
   ],
   "source": [
    "###example 6\n",
    "### nested IF statements - if within a if statement\n",
    "\n",
    "location = 'house_new'\n",
    "sub_location = 'apartmentno-3'\n",
    "\n",
    "if location == 'house':\n",
    "    print('welcome to house')\n",
    "    if sub_location == 'apartmentno-3':\n",
    "        print('welcome to apartmentno-3')\n",
    "    else:\n",
    "        print('welcome to apartmentno-x')        \n",
    "    print(\"welcome to firstif\")\n",
    "elif location == 'Bank':\n",
    "    print(\"welcome to bank in elif statement\")\n",
    "else:\n",
    "    print(\"dont know where you are!!!!\")\n",
    "    print(\"second print\")  \n",
    "\n",
    " "
   ]
  },
  {
   "cell_type": "markdown",
   "metadata": {},
   "source": [
    " "
   ]
  },
  {
   "cell_type": "code",
   "execution_count": null,
   "metadata": {},
   "outputs": [],
   "source": [
    " "
   ]
  },
  {
   "cell_type": "code",
   "execution_count": null,
   "metadata": {},
   "outputs": [],
   "source": [
    " "
   ]
  },
  {
   "cell_type": "code",
   "execution_count": null,
   "metadata": {},
   "outputs": [],
   "source": []
  },
  {
   "cell_type": "code",
   "execution_count": null,
   "metadata": {},
   "outputs": [],
   "source": []
  }
 ],
 "metadata": {
  "kernelspec": {
   "display_name": "Python 3",
   "language": "python",
   "name": "python3"
  },
  "language_info": {
   "codemirror_mode": {
    "name": "ipython",
    "version": 3
   },
   "file_extension": ".py",
   "mimetype": "text/x-python",
   "name": "python",
   "nbconvert_exporter": "python",
   "pygments_lexer": "ipython3",
   "version": "3.7.1"
  }
 },
 "nbformat": 4,
 "nbformat_minor": 4
}
