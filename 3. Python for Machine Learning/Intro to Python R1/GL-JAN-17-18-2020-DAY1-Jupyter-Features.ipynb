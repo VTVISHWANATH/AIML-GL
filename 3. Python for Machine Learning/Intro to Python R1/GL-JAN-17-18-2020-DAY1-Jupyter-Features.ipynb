{
 "cells": [
  {
   "cell_type": "markdown",
   "metadata": {},
   "source": [
    "Jupyter key board shortcuts"
   ]
  },
  {
   "cell_type": "code",
   "execution_count": null,
   "metadata": {},
   "outputs": [],
   "source": []
  },
  {
   "cell_type": "markdown",
   "metadata": {},
   "source": [
    "# Jupyter   Refresher\n",
    "## Jupyter information available at      https://jupyter.org\n",
    "\n",
    "- Jupyter is an IDE(Integrated  Development Environment)\n",
    "- Open source application that allows us to create and share documents that contain live code, \n",
    "  equations,visualizations, narrative text \n",
    "- can be used for data cleaning, transformation,simulation,statistical modelling,data viz,machine learning and more!!!!\n",
    "- python code written in Jupyter environment has .ipynb extn\n",
    "  \n",
    "- Used for coding Python, R scripts ,Scala and packages like numpy,scipy,pandas,matplotlib,seaborn,plotly etc\n",
    "\n",
    "- note books can be shared with others using email,dropbox,github and the jupyter notebook viewer\n",
    "\n",
    "- interative output- code can produce html images,videos, etc\n",
    "\n",
    "- integration with big data tools like apache spar, from python, r and scale.\n",
    "\n",
    "- explore of data using pandas, scikit learn, ggplot, tensorflow etc\n"
   ]
  },
  {
   "cell_type": "markdown",
   "metadata": {},
   "source": [
    "# Key Strokes in Jupyter\n",
    "    -to add a new cell press alt + enter\n",
    "    \n",
    "    -to execute/run a cell press ctrl + enter \n",
    "    \n",
    "    -to delete a cell press esc , then press ctrl + d\n",
    "    \n",
    "    -to copy a group of cells and paste in another cell\n",
    "        go to the particular cell\n",
    "        press Esc key\n",
    "        press shift key + use upward or downward arrow keys to select the number of cells\n",
    "        ctrl + c to copy\n",
    "        go to a new cell\n",
    "        press ctrl + v to paste\n",
    "    \n",
    "     - Cell Notations\n",
    "         - Markdown - allows us to write comments about code without using \"#\"\n",
    "         - code  - allows us to write code and run the code\n",
    "         - rawnbconvert - allows to convert the notebook to another format like html etc\n",
    "      \n",
    "     - to create whitespace between 1 cell and another cell\n",
    "        - change the characteristic of the cell to Markdown                                 \n",
    "                                      \n",
    "        - enter 3 dashes in the cell and press alt + enter"
   ]
  },
  {
   "cell_type": "markdown",
   "metadata": {},
   "source": [
    " \n"
   ]
  },
  {
   "cell_type": "markdown",
   "metadata": {},
   "source": [
    "---"
   ]
  },
  {
   "cell_type": "markdown",
   "metadata": {},
   "source": [
    "# Jupyter Features\n",
    "\n",
    "  - Auto indentation \n",
    "  - press tab Auto filling\n",
    "  - Press shift + tab for help/manuals"
   ]
  },
  {
   "cell_type": "code",
   "execution_count": null,
   "metadata": {},
   "outputs": [],
   "source": []
  }
 ],
 "metadata": {
  "kernelspec": {
   "display_name": "Python 3",
   "language": "python",
   "name": "python3"
  },
  "language_info": {
   "codemirror_mode": {
    "name": "ipython",
    "version": 3
   },
   "file_extension": ".py",
   "mimetype": "text/x-python",
   "name": "python",
   "nbconvert_exporter": "python",
   "pygments_lexer": "ipython3",
   "version": "3.7.1"
  }
 },
 "nbformat": 4,
 "nbformat_minor": 4
}
